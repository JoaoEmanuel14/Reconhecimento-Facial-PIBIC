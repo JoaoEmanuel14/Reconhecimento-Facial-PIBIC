{
  "nbformat": 4,
  "nbformat_minor": 0,
  "metadata": {
    "colab": {
      "provenance": [],
      "machine_shape": "hm",
      "gpuType": "L4"
    },
    "kernelspec": {
      "name": "python3",
      "display_name": "Python 3"
    },
    "language_info": {
      "name": "python"
    },
    "accelerator": "GPU"
  },
  "cells": [
    {
      "cell_type": "markdown",
      "source": [
        "# Reconhecimento Facial em Câmeras de Segurança aplicado em Cidades Inteligentes e Segurança Pública\n",
        "Este notebook apresenta o processo de construção de um modelo de **reconhecimento facial** baseado no dataset QMUL-SurvFace.\n",
        "\n",
        "Neste notebook, estão presentes as etapas de:\n",
        "\n",
        "- 1. Preparação do conjunto de dados e da validação cruzada\n",
        "- 2. Extração de características com FaceNet e ArcFace\n",
        "- 3. Identificação facial através da comparação de embeddings"
      ],
      "metadata": {
        "id": "P3W7veEoCGal"
      }
    },
    {
      "cell_type": "markdown",
      "source": [
        "# 0. Importando bibliotecas e dependências, além de fazer device-agnostic code"
      ],
      "metadata": {
        "id": "RbjYs-uWdjZx"
      }
    },
    {
      "cell_type": "markdown",
      "source": [
        "Forçar a reinstalação do PyTorch para garantir compatibilidade com o cuDNN do Colab\n",
        "- A flag --force-reinstall garante que as versões corretas sejam instaladas.\n",
        "- O index-url aponta para o repositório oficial do PyTorch para a versão correta do CUDA.\n",
        "\n",
        "Uma vez que ambiente for corrigido. É necessário reiniciar a sessão, sem a necessidade de executar esta célula novamente"
      ],
      "metadata": {
        "id": "ffzjqiSgVsTH"
      }
    },
    {
      "cell_type": "code",
      "source": [
        "# Forçando a reinstalação do PyTorch para alinhar com o ambiente CUDA/cuDNN\n",
        "!pip install --upgrade --force-reinstall torch torchvision torchaudio --index-url https://download.pytorch.org/whl/cu121"
      ],
      "metadata": {
        "colab": {
          "base_uri": "https://localhost:8080/"
        },
        "id": "sD_oYoe5fSrN",
        "outputId": "a29ea20a-e8ff-4866-eaaf-64abdd0744d5"
      },
      "execution_count": null,
      "outputs": [
        {
          "output_type": "stream",
          "name": "stdout",
          "text": [
            "--- Forçando a reinstalação do PyTorch para alinhar com o ambiente CUDA/cuDNN ---\n",
            "\n",
            "--- Instalando outras bibliotecas ---\n",
            "Collecting facenet-pytorch\n",
            "  Downloading facenet_pytorch-2.6.0-py3-none-any.whl.metadata (12 kB)\n",
            "Downloading facenet_pytorch-2.6.0-py3-none-any.whl (1.9 MB)\n",
            "\u001b[2K   \u001b[90m━━━━━━━━━━━━━━━━━━━━━━━━━━━━━━━━━━━━━━━━\u001b[0m \u001b[32m1.9/1.9 MB\u001b[0m \u001b[31m74.7 MB/s\u001b[0m eta \u001b[36m0:00:00\u001b[0m\n",
            "\u001b[?25hInstalling collected packages: facenet-pytorch\n",
            "Successfully installed facenet-pytorch-2.6.0\n",
            "\n",
            "✅ Ambiente corrigido. Por favor, clique em 'RESTART SESSION' ou 'REINICIAR SESSÃO' no aviso que aparecerá na saída.\n",
            "Após reiniciar, execute o restante do seu código, mas NÃO execute esta célula novamente.\n"
          ]
        }
      ]
    },
    {
      "cell_type": "code",
      "source": [
        "# Instalando outras bibliotecas\n",
        "!pip install facenet-pytorch --no-deps\n",
        "!pip install -U albumentationsx"
      ],
      "metadata": {
        "id": "2FIy90ebCVIx"
      },
      "execution_count": null,
      "outputs": []
    },
    {
      "cell_type": "code",
      "source": [
        "# Montar Google Colab para ter acesso ao dataset\n",
        "from google.colab import drive\n",
        "drive.mount('/content/drive')"
      ],
      "metadata": {
        "id": "mWvjmxmIe3KY",
        "colab": {
          "base_uri": "https://localhost:8080/"
        },
        "outputId": "cda631b7-70c7-4c29-a2c6-8646a14af297"
      },
      "execution_count": null,
      "outputs": [
        {
          "output_type": "stream",
          "name": "stdout",
          "text": [
            "Mounted at /content/drive\n"
          ]
        }
      ]
    },
    {
      "cell_type": "code",
      "source": [
        "!nvidia-smi"
      ],
      "metadata": {
        "id": "MLhRO8Lud8hL",
        "colab": {
          "base_uri": "https://localhost:8080/"
        },
        "outputId": "54723942-9c72-45fd-c2c0-2bead348515e"
      },
      "execution_count": null,
      "outputs": [
        {
          "output_type": "stream",
          "name": "stdout",
          "text": [
            "Fri Jul  4 14:10:21 2025       \n",
            "+-----------------------------------------------------------------------------------------+\n",
            "| NVIDIA-SMI 550.54.15              Driver Version: 550.54.15      CUDA Version: 12.4     |\n",
            "|-----------------------------------------+------------------------+----------------------+\n",
            "| GPU  Name                 Persistence-M | Bus-Id          Disp.A | Volatile Uncorr. ECC |\n",
            "| Fan  Temp   Perf          Pwr:Usage/Cap |           Memory-Usage | GPU-Util  Compute M. |\n",
            "|                                         |                        |               MIG M. |\n",
            "|=========================================+========================+======================|\n",
            "|   0  NVIDIA L4                      Off |   00000000:00:03.0 Off |                    0 |\n",
            "| N/A   67C    P8             15W /   72W |       0MiB /  23034MiB |      0%      Default |\n",
            "|                                         |                        |                  N/A |\n",
            "+-----------------------------------------+------------------------+----------------------+\n",
            "                                                                                         \n",
            "+-----------------------------------------------------------------------------------------+\n",
            "| Processes:                                                                              |\n",
            "|  GPU   GI   CI        PID   Type   Process name                              GPU Memory |\n",
            "|        ID   ID                                                               Usage      |\n",
            "|=========================================================================================|\n",
            "|  No running processes found                                                             |\n",
            "+-----------------------------------------------------------------------------------------+\n"
          ]
        }
      ]
    },
    {
      "cell_type": "code",
      "source": [
        "import torch\n",
        "from torch import nn\n",
        "import torch.nn.functional as F\n",
        "from torch.utils.data import Dataset, DataLoader, SubsetRandomSampler\n",
        "\n",
        "from sklearn.metrics.pairwise import euclidean_distances\n",
        "from sklearn.metrics import accuracy_score\n",
        "\n",
        "from PIL import Image\n",
        "import zipfile\n",
        "import os\n",
        "from pathlib import Path\n",
        "import random\n",
        "import numpy as np\n",
        "import matplotlib.pyplot as plt\n",
        "from tqdm.auto import tqdm\n",
        "from timeit import default_timer as timer\n",
        "from scipy.io import loadmat\n",
        "import copy\n",
        "import math"
      ],
      "metadata": {
        "id": "zs5X3jyBdjNI"
      },
      "execution_count": null,
      "outputs": []
    },
    {
      "cell_type": "code",
      "source": [
        "print(f\"Versão do PyTorch: {torch.__version__}\")"
      ],
      "metadata": {
        "id": "XdVNcWytzUZt",
        "colab": {
          "base_uri": "https://localhost:8080/"
        },
        "outputId": "43130311-331a-4dd5-daf0-6baae9f38f8c"
      },
      "execution_count": null,
      "outputs": [
        {
          "output_type": "stream",
          "name": "stdout",
          "text": [
            "Versão do PyTorch: 2.6.0+cu124\n"
          ]
        }
      ]
    },
    {
      "cell_type": "code",
      "source": [
        "device = \"cuda\" if torch.cuda.is_available() else \"cpu\"\n",
        "device"
      ],
      "metadata": {
        "id": "q36torR3d2BP",
        "colab": {
          "base_uri": "https://localhost:8080/",
          "height": 35
        },
        "outputId": "cc401615-5870-427b-eeed-2da1ff24948e"
      },
      "execution_count": null,
      "outputs": [
        {
          "output_type": "execute_result",
          "data": {
            "text/plain": [
              "'cuda'"
            ],
            "application/vnd.google.colaboratory.intrinsic+json": {
              "type": "string"
            }
          },
          "metadata": {},
          "execution_count": 6
        }
      ]
    },
    {
      "cell_type": "code",
      "source": [
        "# Definir seed para reprodutibilidade\n",
        "SEED = 42\n",
        "random.seed(SEED)\n",
        "np.random.seed(SEED)\n",
        "torch.manual_seed(SEED)\n",
        "if torch.cuda.is_available():\n",
        "  torch.cuda.manual_seed_all(SEED)\n",
        "  torch.backends.cudnn.deterministic = True\n",
        "  torch.backends.cudnn.benchmark = False"
      ],
      "metadata": {
        "id": "tlw1c82M0puj"
      },
      "execution_count": null,
      "outputs": []
    },
    {
      "cell_type": "markdown",
      "source": [
        "# 1. Pegar os dados\n"
      ],
      "metadata": {
        "id": "wIDXuuSYe1OW"
      }
    },
    {
      "cell_type": "markdown",
      "source": [
        "## 1.1 Definir caminhos e extrair o zip do dataset\n"
      ],
      "metadata": {
        "id": "bCTHFxNagNuI"
      }
    },
    {
      "cell_type": "code",
      "source": [
        "# Caminho para .zip do dataset\n",
        "zip_path = '/content/drive/MyDrive/PIBIC 2024-2025/QMUL-SurvFace-v1.zip' # Verifique este caminho\n",
        "\n",
        "# Caminho para qual iremos extrair\n",
        "extract_path = Path(\"/content/qmul_data\")\n",
        "\n",
        "# Criar diretório e extrair\n",
        "if not (extract_path / \"QMUL-SurvFace\").exists(): # Evitar extrair múltiplas vezes\n",
        "  os.makedirs(extract_path, exist_ok=True)\n",
        "  with zipfile.ZipFile(zip_path, 'r') as zip_ref:\n",
        "    print(\"Descompactando o dataset...\")\n",
        "    zip_ref.extractall(extract_path)\n",
        "  print(\"Dataset extraído com sucesso.\")\n",
        "else:\n",
        "  print(\"Dataset já parece estar extraído.\")\n",
        "\n",
        "# Definir o caminho base do dataset extraído\n",
        "dataset_base_path = extract_path / \"QMUL-SurvFace\"\n",
        "train_path = dataset_base_path / \"training_set\"\n",
        "gallery_path_id_test = dataset_base_path / \"Face_Identification_Test_Set\" / \"gallery\"\n",
        "probe_path_id_test = dataset_base_path / \"Face_Identification_Test_Set\" / \"mated_probe\""
      ],
      "metadata": {
        "id": "QbLAe5ligRxf",
        "colab": {
          "base_uri": "https://localhost:8080/"
        },
        "outputId": "4540276e-15db-4bd5-8a98-5954f06356a0"
      },
      "execution_count": null,
      "outputs": [
        {
          "output_type": "stream",
          "name": "stdout",
          "text": [
            "Descompactando o dataset...\n",
            "Dataset extraído com sucesso.\n"
          ]
        }
      ]
    },
    {
      "cell_type": "markdown",
      "source": [
        "# 2. Transformar as imagens"
      ],
      "metadata": {
        "id": "BAv2aaHbQTOT"
      }
    },
    {
      "cell_type": "code",
      "source": [
        "import albumentations as A\n",
        "from albumentations.pytorch import ToTensorV2\n",
        "\n",
        "# Tamanho da imagem\n",
        "IMG_SIZE = 160\n",
        "\n",
        "# Transformações de TREINO\n",
        "train_transform = A.Compose([\n",
        "    A.Resize(height=IMG_SIZE, width=IMG_SIZE),\n",
        "    A.HorizontalFlip(p=0.5),\n",
        "    A.ColorJitter(brightness=0.3, contrast=0.3, saturation=0.3, hue=0.1, p=0.8),\n",
        "    A.GaussNoise(p=0.2),\n",
        "    A.OneOf([\n",
        "        A.MotionBlur(p=0.3),\n",
        "        A.MedianBlur(blur_limit=3, p=0.2),\n",
        "        A.GaussianBlur(p=0.3),\n",
        "    ], p=0.5),\n",
        "    A.GridDistortion(p=0.2),\n",
        "    A.CoarseDropout(\n",
        "        num_holes_range=(1, 8),\n",
        "        hole_height_range=(8, 16),\n",
        "        hole_width_range=(8, 16),\n",
        "        fill=0,\n",
        "        p=0.5\n",
        "    ),\n",
        "    A.ToFloat(max_value=255.0),\n",
        "    ToTensorV2(),\n",
        "])\n",
        "\n",
        "# Transformações de VALIDAÇÃO/TESTE\n",
        "val_test_transform = A.Compose([\n",
        "    A.Resize(height=IMG_SIZE, width=IMG_SIZE),\n",
        "    A.ToFloat(max_value=255.0),\n",
        "    ToTensorV2()\n",
        "])\n",
        "\n",
        "print(\"Transformações definidas!\")"
      ],
      "metadata": {
        "id": "pYPBEWHfQaUj",
        "colab": {
          "base_uri": "https://localhost:8080/"
        },
        "outputId": "ab8c71f3-a5bd-4340-cf30-ea48d8e78c4b"
      },
      "execution_count": null,
      "outputs": [
        {
          "output_type": "stream",
          "name": "stdout",
          "text": [
            "Transformações definidas!\n"
          ]
        }
      ]
    },
    {
      "cell_type": "markdown",
      "source": [
        "# 3. Criando o Datasets e DataLoaders"
      ],
      "metadata": {
        "id": "iCSxEL2y6Dt8"
      }
    },
    {
      "cell_type": "code",
      "source": [
        "class QMULImageDataset(Dataset):\n",
        "  \"\"\"Dataset personalizado para o conjunto de dados QMUL-SurvFace.\n",
        "\n",
        "  Este dataset suporta tanto o carregamento do conjunto de treino\n",
        "  (organizado em pastas por classes/IDs) quanto o de teste\n",
        "  (arquivos nomeados com padrão `ID_cam_frame.jpg`).\n",
        "  \"\"\"\n",
        "\n",
        "  def __init__(self, root_dir, transform=None, is_train_set=True):\n",
        "    \"\"\"Inicializa a instância do dataset.\n",
        "\n",
        "    Args:\n",
        "      root_dir (str or Path): Diretório raiz contendo as imagens.\n",
        "      transform (albumentations.Compose, opcional): Transformações a serem aplicadas às imagens.\n",
        "      is_train_set (bool, default=True): Define se o dataset é de treino (pastas por classe)\n",
        "      ou de teste (arquivos individuais).\n",
        "    \"\"\"\n",
        "    self.root_dir = Path(root_dir)\n",
        "    self.transform = transform\n",
        "    self.img_files = []\n",
        "    self.labels = []\n",
        "    self.class_names_original = [] # Nomes originais das pastas/IDs\n",
        "    self.class_to_idx = {}\n",
        "    self._load_data(is_train_set)\n",
        "\n",
        "  def _load_data(self, is_train_set):\n",
        "    \"\"\"\n",
        "    Carrega os caminhos das imagens e seus respectivos rótulos.\n",
        "\n",
        "    Args:\n",
        "      is_train_set (bool): Indica se o dataset segue a estrutura de treino\n",
        "      (pastas/class_id/) ou teste (arquivos nomeados `ID_cam_frame.jpg`).\n",
        "\n",
        "    Raises:\n",
        "      FileNotFoundError: Se o diretório raiz não existir.\n",
        "    \"\"\"\n",
        "\n",
        "    if not self.root_dir.exists():\n",
        "      raise FileNotFoundError(f\"Diretório não encontrado: {self.root_dir}\")\n",
        "\n",
        "    if is_train_set: # Estrutura: root_dir/class_id/image.jpg\n",
        "      original_class_ids = sorted([d.name for d in self.root_dir.iterdir() if d.is_dir()])\n",
        "      self.class_names_original = [str(id_name) for id_name in original_class_ids] # Garantir que sejam strings\n",
        "      self.class_to_idx = {name: i for i, name in enumerate(self.class_names_original)}\n",
        "\n",
        "      for class_name_original in self.class_names_original:\n",
        "        class_dir = self.root_dir / class_name_original\n",
        "        for img_file in class_dir.glob(\"*.jpg\"):\n",
        "          self.img_files.append(img_file)\n",
        "          self.labels.append(self.class_to_idx[class_name_original])\n",
        "    else: # Estrutura para teste (gallery/probe): root_dir/ID_cam_frame.jpg\n",
        "      temp_labels = []\n",
        "      for img_file in self.root_dir.glob(\"*.jpg\"):\n",
        "        self.img_files.append(img_file)\n",
        "        # Extrai o ID da imagem do nome do arquivo\n",
        "        original_id_str = img_file.name.split('_')[0]\n",
        "        temp_labels.append(original_id_str)\n",
        "\n",
        "      # Mapeia IDs originais para índices numéricos contínuos\n",
        "      self.class_names_original = sorted(list(set(temp_labels)))\n",
        "      self.class_to_idx = {name: i for i, name in enumerate(self.class_names_original)}\n",
        "      self.labels = [self.class_to_idx[id_str] for id_str in temp_labels]\n",
        "\n",
        "  def __len__(self):\n",
        "    \"\"\"\n",
        "    Retorna o número total de imagens no dataset.\n",
        "\n",
        "    Returns:\n",
        "      int: Quantidade de imagens.\n",
        "    \"\"\"\n",
        "\n",
        "    return len(self.img_files)\n",
        "\n",
        "  def __getitem__(self, idx):\n",
        "    \"\"\"\n",
        "    Recupera a imagem, rótulo e caminho do arquivo a partir do índice.\n",
        "\n",
        "    Args:\n",
        "      idx (int): Índice da amostra desejada.\n",
        "\n",
        "    Returns:\n",
        "      tuple:\n",
        "        - torch.Tensor: Imagem transformada (C x H x W).\n",
        "        - int: Rótulo numérico correspondente ao ID.\n",
        "        - str: Caminho absoluto da imagem.\n",
        "    \"\"\"\n",
        "    img_path = self.img_files[idx]\n",
        "    label = self.labels[idx]\n",
        "\n",
        "    # Carregue a imagem e converta para NumPy array\n",
        "    img = Image.open(img_path).convert(\"RGB\")\n",
        "    img_np = np.array(img)\n",
        "\n",
        "    # Aplique as transformações da Albumentations\n",
        "    if self.transform:\n",
        "      augmented = self.transform(image=img_np)\n",
        "      img_tensor = augmented['image']\n",
        "    else:\n",
        "      # Fallback para converter para tensor se não houver transformações\n",
        "      img_tensor = torch.from_numpy(img_np.transpose(2, 0, 1)).float() / 255.0\n",
        "\n",
        "    return img_tensor, label, str(img_path)"
      ],
      "metadata": {
        "id": "zkpeOjYE5k7d"
      },
      "execution_count": null,
      "outputs": []
    },
    {
      "cell_type": "code",
      "source": [
        "# Dividindo o train_full_dataset em treino e validação\n",
        "validation_split = 0.2 # 20% para validação\n",
        "dataset_size = len(train_full_dataset)\n",
        "indices = list(range(dataset_size))\n",
        "split = int(np.floor(validation_split * dataset_size))\n",
        "\n",
        "if SEED is not None: # Shuffle antes de split para reprodutibilidade se seed está definida\n",
        "  np.random.shuffle(indices)\n",
        "\n",
        "train_indices, val_indices = indices[split:], indices[:split]\n",
        "\n",
        "train_sampler = SubsetRandomSampler(train_indices)\n",
        "val_sampler = SubsetRandomSampler(val_indices)"
      ],
      "metadata": {
        "id": "qJRQ_xhv1dRF"
      },
      "execution_count": null,
      "outputs": []
    },
    {
      "cell_type": "markdown",
      "source": [
        "# 4. Determinação da Validação Cruzada"
      ],
      "metadata": {
        "id": "GUAQqPTKsIAq"
      }
    },
    {
      "cell_type": "code",
      "source": [
        "from sklearn.model_selection import StratifiedKFold\n",
        "\n",
        "# Configurações da Validação Cruzada\n",
        "K_FOLDS = 5\n",
        "EPOCHS_PER_FOLD = 15\n",
        "\n",
        "# Lista para armazenar os scores de cada fold\n",
        "results = {}\n",
        "\n",
        "# Preparar o dataset completo que será dividido\n",
        "full_train_dataset = QMULImageDataset(root_dir=train_path,\n",
        "                                      transform=train_transform,\n",
        "                                      is_train_set=True)\n",
        "gallery_dataset = QMULImageDataset(root_dir=gallery_path_id_test, transform=val_test_transform, is_train_set=False)\n",
        "probe_dataset = QMULImageDataset(root_dir=probe_path_id_test, transform=val_test_transform, is_train_set=False)\n",
        "\n",
        "print(f\"Total de imagens no dataset de treino completo: {len(full_train_dataset)}\")\n",
        "print(f\"Total de imagens na galeria: {len(gallery_dataset)}\")\n",
        "print(f\"Total de imagens na sonda: {len(probe_dataset)}\")\n",
        "print(f\"Número de classes (identidades) no treino: {full_train_dataset.class_names_original}\")\n",
        "print(f\"Número de classes (identidades) na galeria: {gallery_dataset.class_names_original}\")\n",
        "\n",
        "# Pegar os rótulos para a estratificação\n",
        "full_train_labels = np.array(full_train_dataset.labels)\n",
        "\n",
        "# Inicializar o K-Fold Estratificado\n",
        "skf = StratifiedKFold(n_splits=K_FOLDS,\n",
        "                      shuffle=True,\n",
        "                      random_state=SEED)"
      ],
      "metadata": {
        "colab": {
          "base_uri": "https://localhost:8080/"
        },
        "id": "-Ac4NPsDsHj7",
        "outputId": "fe8ed240-e83c-429a-d8f6-8fef034e6af8"
      },
      "execution_count": null,
      "outputs": [
        {
          "output_type": "stream",
          "name": "stdout",
          "text": [
            "Total de imagens no dataset de treino completo: 220888\n",
            "Total de imagens na galeria: 60294\n",
            "Total de imagens na sonda: 60423\n",
            "Número de classes (identidades) no treino: ['100', '10000', '10001', '10004', '10005', '10006', '10008', '10009', '10010', '10011', '10012', '10014', '10015', '10016', '10017', '10018', '10019', '1002', '10020', '10023', '10025', '10026', '10027', '10030', '10031', '10032', '10033', '10034', '1004', '10043', '10045', '10046', '10047', '10048', '10049', '10050', '10051', '10054', '10056', '10057', '10062', '10063', '10064', '10065', '10067', '10069', '1007', '10070', '10075', '10076', '10078', '1008', '10081', '10083', '10084', '10085', '1009', '10092', '10095', '10096', '10098', '101', '1010', '10100', '10102', '10103', '10105', '10108', '10109', '1011', '10110', '10111', '10114', '10117', '10121', '10122', '10124', '10125', '10126', '10127', '10129', '1013', '10131', '10133', '10134', '10137', '10141', '10142', '10143', '10144', '10145', '10146', '10147', '10150', '10152', '10153', '10155', '10156', '10157', '10158', '10159', '10160', '10161', '10163', '10165', '10166', '10169', '1017', '10171', '10172', '10173', '10175', '10176', '10177', '10178', '10179', '10184', '10187', '10188', '10189', '1019', '10193', '10198', '10204', '10207', '10208', '1021', '10210', '10213', '10214', '1022', '10220', '10222', '10225', '10227', '1023', '10233', '10234', '10235', '10240', '10241', '10244', '10245', '10249', '1025', '10250', '10251', '10252', '10255', '10257', '10259', '1026', '10260', '10261', '10265', '10266', '10269', '10270', '10271', '10273', '10274', '10276', '10279', '1028', '10281', '10284', '10286', '10287', '10292', '10295', '10297', '10298', '103', '1030', '10300', '10305', '10307', '10308', '10311', '10314', '10316', '10318', '10319', '1032', '10321', '10322', '10324', '10325', '10327', '10328', '10329', '10330', '10333', '10334', '10337', '10338', '10340', '10342', '10343', '10344', '10345', '10349', '10350', '10351', '10352', '10353', '10356', '10357', '10358', '10359', '10361', '10362', '10364', '10365', '10367', '10368', '10369', '1037', '10372', '10377', '10379', '10380', '10381', '10387', '10388', '10389', '10390', '10392', '10393', '10394', '10395', '10396', '10399', '10400', '10403', '10405', '10407', '10409', '1041', '10410', '1042', '10421', '10422', '10423', '10428', '10429', '1043', '10431', '10434', '10435', '10438', '10439', '1044', '10440', '10441', '10442', '10447', '10450', '10453', '10455', '10456', '10457', '10458', '10459', '10460', '10461', '10464', '10465', '1047', '10470', '10473', '10474', '10475', '10476', '10477', '10479', '10480', '10483', '10484', '10489', '1049', '10490', '10491', '10495', '10496', '10498', '105', '10500', '10501', '10502', '10504', '10505', '10506', '10507', '10508', '10511', '10512', '10513', '10517', '10519', '1052', '10520', '10533', '10538', '1054', '10541', '10542', '10546', '10547', '10551', '10552', '10553', '10554', '10558', '10564', '10567', '10569', '10571', '10572', '10573', '10578', '10582', '10583', '10584', '10587', '10588', '10589', '10593', '10596', '10597', '10598', '10600', '10608', '1061', '10612', '10613', '10614', '10618', '10619', '1062', '10620', '10621', '10625', '10626', '1063', '10630', '10631', '10632', '10633', '10634', '10636', '1064', '1065', '1068', '1069', '107', '1075', '1077', '1078', '1081', '1088', '1091', '1093', '1095', '1096', '1097', '1098', '1099', '11', '1103', '1107', '1108', '111', '1111', '1112', '1114', '1116', '1117', '112', '1121', '1122', '1123', '1124', '1125', '1127', '1128', '113', '1131', '1132', '1133', '1134', '1138', '1139', '1140', '1141', '1142', '1145', '1147', '1148', '115', '1153', '1155', '1159', '1162', '1166', '1168', '1170', '1171', '1174', '1178', '1179', '1181', '1182', '1187', '1188', '1189', '119', '1190', '1193', '1195', '1197', '1199', '120', '1201', '1202', '1204', '1205', '1207', '1209', '121', '1213', '1216', '1217', '1220', '1221', '1222', '1223', '1224', '1225', '1226', '1227', '1228', '123', '1230', '1232', '1233', '1234', '1240', '1241', '1242', '1243', '1248', '1251', '1256', '1257', '1259', '1261', '1263', '1264', '1265', '1266', '127', '1270', '1271', '1273', '1276', '128', '1285', '1286', '1289', '129', '1293', '1298', '1300', '1301', '1305', '1307', '131', '1311', '1312', '1313', '1319', '1321', '1322', '1326', '1329', '133', '1330', '1331', '1333', '1336', '1337', '134', '1342', '1343', '1347', '1349', '135', '1350', '1351', '1353', '1354', '1355', '1356', '1359', '136', '1360', '1365', '1367', '1368', '1369', '1370', '1371', '1372', '1373', '1375', '1376', '1384', '1385', '1386', '1387', '1389', '1390', '1392', '1397', '1398', '14', '140', '1401', '1405', '1406', '1407', '1412', '1415', '1418', '1421', '1422', '1423', '1426', '143', '1431', '1432', '1434', '1435', '1436', '1438', '1440', '1442', '1443', '1445', '1448', '1449', '145', '1450', '1451', '1452', '1457', '1459', '146', '1461', '1463', '1469', '147', '1470', '1474', '1477', '148', '1480', '1483', '1488', '1489', '149', '1492', '1493', '1494', '1495', '1496', '1498', '1499', '150', '1500', '1501', '1502', '1503', '1504', '1505', '1506', '1507', '1508', '1509', '151', '1511', '1513', '1514', '1515', '1516', '1517', '1518', '1519', '152', '1520', '1521', '1522', '1526', '1527', '1528', '1530', '1531', '1532', '1533', '1534', '1536', '1539', '1544', '1546', '1547', '155', '1550', '1551', '1556', '1558', '156', '1560', '1563', '1564', '1565', '1566', '1567', '1569', '157', '1571', '1572', '1573', '1574', '1579', '1580', '1581', '1582', '1583', '1587', '1588', '1589', '159', '1595', '1597', '1598', '1599', '16', '160', '1600', '1602', '1604', '1605', '1607', '1610', '1611', '1615', '1616', '162', '1622', '1624', '1625', '1627', '163', '1630', '1631', '1632', '1634', '1635', '1636', '1637', '1638', '1639', '164', '1640', '1641', '1643', '1646', '1647', '1649', '165', '1650', '1652', '1657', '1659', '166', '1663', '1664', '1665', '1670', '1673', '1675', '1676', '1678', '1685', '1686', '1688', '1689', '1690', '1694', '1695', '1699', '17', '170', '1700', '1704', '1706', '1708', '1709', '171', '1710', '1713', '1714', '1715', '1718', '1719', '172', '1720', '1723', '1724', '1726', '1727', '1729', '1733', '1736', '1738', '1739', '174', '1740', '1743', '1745', '1748', '175', '1750', '1752', '1753', '1756', '1757', '1759', '176', '1763', '1764', '1770', '1772', '1773', '1774', '1782', '1783', '1784', '1789', '1792', '1794', '1795', '1796', '1797', '1799', '180', '1800', '1801', '1802', '1803', '1805', '1806', '1807', '1809', '1812', '1815', '1818', '1819', '182', '1823', '1828', '1829', '1830', '1831', '1832', '1833', '1836', '1837', '1838', '1839', '184', '1840', '1841', '1843', '1845', '1846', '1847', '1848', '1849', '1851', '1855', '1856', '1857', '186', '1860', '1861', '1864', '1867', '1869', '187', '1870', '1873', '1877', '1878', '1879', '1881', '1882', '1885', '1886', '1887', '1889', '1890', '1892', '1895', '1896', '190', '1901', '1903', '1904', '1905', '1910', '1912', '1916', '1917', '1925', '1927', '1928', '193', '1930', '1931', '1933', '1934', '1935', '1936', '1937', '1939', '194', '1940', '1941', '1942', '1944', '1949', '195', '1950', '1952', '1956', '1958', '1959', '196', '1960', '1965', '1967', '1973', '1974', '1976', '1977', '1978', '1979', '1983', '1988', '1990', '1994', '1996', '1997', '2000', '2003', '2004', '2005', '2006', '2007', '2009', '2011', '2013', '2014', '2016', '2017', '2018', '2019', '202', '2020', '2021', '2025', '2027', '2030', '2036', '2037', '2038', '2041', '2042', '2046', '2049', '205', '2050', '2051', '2054', '2057', '2058', '2063', '2064', '2068', '2072', '2073', '2075', '2078', '2080', '2082', '2083', '2085', '2086', '2087', '2088', '2091', '2092', '2094', '2099', '2105', '2108', '2109', '211', '2111', '2116', '2117', '212', '2124', '2127', '213', '2130', '2132', '2133', '2134', '2135', '2136', '2138', '2139', '214', '2140', '2142', '2146', '2149', '2150', '2151', '2153', '2157', '2158', '216', '2160', '2161', '2162', '2163', '2168', '2169', '217', '2170', '2173', '2174', '2175', '2178', '2179', '218', '2180', '2182', '2184', '219', '2190', '2192', '2193', '2194', '2196', '22', '220', '2201', '2205', '2209', '221', '2210', '2211', '2215', '2219', '2220', '2224', '2225', '2228', '2229', '223', '2230', '2235', '2238', '2239', '224', '2240', '2241', '2246', '2248', '2249', '2250', '2251', '2253', '2257', '2261', '2263', '2264', '2266', '2267', '2268', '227', '2270', '2271', '2273', '2277', '2279', '228', '2281', '2283', '2286', '2287', '2288', '229', '2291', '2294', '2295', '2296', '2298', '2299', '230', '2300', '2301', '2307', '2309', '2310', '2311', '2314', '2315', '2317', '232', '2320', '2321', '2325', '2327', '2330', '2331', '2333', '2334', '2336', '2339', '2342', '2344', '2348', '2349', '235', '2354', '2355', '2356', '2357', '2358', '2359', '236', '2361', '2362', '2363', '2364', '2365', '2367', '2368', '2369', '237', '2370', '2373', '2375', '2379', '238', '2381', '2382', '2385', '2388', '239', '2390', '2391', '2392', '2394', '2395', '2397', '2402', '2403', '2406', '241', '2413', '2414', '2416', '2418', '242', '2420', '2421', '2423', '2426', '2427', '2429', '2430', '2431', '2432', '2433', '2435', '2436', '2437', '2439', '244', '2441', '2442', '2443', '2446', '2452', '2453', '2454', '2455', '2457', '2458', '2459', '2461', '2462', '2465', '2466', '2467', '2469', '247', '2471', '2474', '2476', '2479', '2480', '2483', '2484', '2486', '2489', '249', '2493', '2494', '2498', '2499', '250', '2504', '2506', '2513', '2514', '2515', '2516', '2517', '2518', '2519', '2522', '2523', '2525', '2526', '2529', '2532', '2533', '2535', '2536', '2537', '254', '2540', '2541', '2543', '2545', '2546', '2547', '2548', '2549', '255', '2550', '2552', '2557', '2558', '2562', '2563', '2565', '2570', '2571', '2572', '2573', '2576', '2577', '2579', '258', '2580', '2582', '2584', '2585', '259', '2590', '2591', '2593', '2596', '2598', '2601', '2604', '2609', '261', '2610', '2612', '2616', '2617', '2619', '2621', '2623', '2627', '2628', '2631', '2634', '2636', '2637', '2640', '2642', '2643', '2644', '2645', '2646', '2647', '2648', '2649', '265', '2650', '2652', '2654', '2655', '2656', '2657', '2659', '266', '2668', '2669', '267', '2672', '2674', '2675', '2676', '2677', '2678', '2679', '2680', '2684', '2685', '269', '2696', '2697', '2699', '2700', '2701', '2703', '2706', '2707', '2708', '271', '2711', '2712', '2717', '2720', '2723', '2724', '2725', '2727', '2728', '2729', '273', '2730', '2731', '2734', '2736', '2737', '2739', '2740', '2744', '2745', '2746', '2748', '2749', '2751', '2758', '2759', '2760', '2763', '2764', '2766', '2767', '2768', '2769', '2770', '2771', '2772', '2774', '2775', '2778', '2779', '278', '2780', '2781', '2783', '2791', '2792', '2793', '2795', '28', '280', '2801', '2802', '2804', '2805', '2806', '281', '2810', '2813', '2815', '2818', '2819', '2821', '2823', '2824', '2829', '283', '2834', '2838', '2839', '284', '2841', '2842', '2845', '2846', '2847', '2852', '2853', '2854', '2855', '2862', '2864', '2865', '2868', '2869', '2872', '2873', '2874', '2875', '2876', '2877', '2879', '2880', '2883', '2884', '2886', '2890', '2891', '2894', '2896', '2900', '2902', '2904', '2905', '2907', '291', '2911', '2912', '2913', '2914', '2916', '2919', '292', '2924', '2925', '2927', '2928', '2933', '2938', '294', '2942', '2944', '2946', '2947', '2949', '295', '2952', '2953', '2954', '2956', '296', '2961', '2962', '2965', '2966', '2968', '2970', '2971', '2975', '2977', '2981', '2985', '2986', '2988', '2989', '299', '2994', '2995', '2997', '2999', '3', '30', '300', '3001', '3002', '3005', '3006', '3009', '301', '3010', '3012', '3013', '3014', '3015', '3017', '3019', '3020', '3022', '3023', '3025', '3026', '303', '3030', '3031', '3032', '3033', '3036', '3038', '304', '3040', '3044', '3045', '3046', '3047', '3049', '3054', '3055', '3058', '306', '3060', '3062', '3064', '3065', '3066', '3068', '3069', '3072', '3073', '3076', '3078', '3079', '3080', '3081', '3082', '3083', '3084', '3085', '3088', '3089', '3091', '3092', '3094', '3096', '3097', '310', '3100', '3103', '3107', '3108', '3109', '3110', '3112', '3113', '3114', '3116', '3118', '3119', '3120', '3122', '3123', '3126', '3129', '3130', '3133', '3134', '3138', '3142', '3143', '3144', '3147', '3151', '3152', '3155', '3156', '3158', '316', '3161', '3162', '3163', '3167', '3169', '317', '3170', '3171', '3175', '3176', '3177', '3179', '3180', '3181', '3183', '3188', '319', '3195', '3196', '3197', '3198', '3199', '32', '320', '3201', '3202', '3203', '3206', '3207', '321', '3214', '3216', '322', '3220', '3221', '3222', '3223', '3224', '3225', '3226', '3231', '3233', '3234', '3237', '3240', '3241', '3242', '3244', '3245', '3248', '3249', '325', '3252', '3253', '3254', '3255', '3256', '3258', '3259', '326', '3260', '3262', '3264', '3265', '3266', '3268', '3270', '3271', '3273', '3279', '328', '3280', '3282', '3287', '3288', '3296', '3298', '33', '3300', '3302', '3303', '331', '3314', '3316', '3318', '3319', '332', '3323', '3326', '3329', '333', '3331', '3332', '3333', '3341', '3343', '3344', '3345', '3346', '3347', '3349', '335', '3350', '3352', '3353', '3356', '3357', '3358', '336', '3362', '3364', '3367', '3368', '3369', '337', '3371', '3372', '3373', '3377', '3378', '338', '3380', '3382', '3383', '3384', '3388', '3389', '339', '3390', '3391', '3396', '3398', '34', '340', '3402', '3403', '3411', '3413', '3414', '3416', '3418', '3420', '3421', '3423', '3424', '3425', '3426', '3427', '343', '3432', '3436', '3438', '3439', '3440', '3443', '3444', '3445', '3447', '345', '3450', '3451', '3454', '3455', '3456', '3458', '346', '3460', '3461', '3462', '3465', '3470', '3471', '3472', '3474', '3476', '3479', '3481', '3483', '3484', '3485', '3486', '3487', '349', '3490', '3491', '3494', '3499', '35', '3500', '3502', '3503', '3504', '351', '3510', '3513', '3514', '3515', '3516', '3517', '3518', '3519', '3520', '3521', '3529', '3531', '3533', '3534', '3535', '3536', '3539', '3543', '3547', '3549', '3553', '3556', '3557', '3559', '3560', '3564', '3565', '3566', '3567', '357', '3570', '3571', '3573', '3577', '3579', '358', '3581', '3582', '3584', '3585', '3586', '3588', '3589', '3591', '3592', '3595', '3598', '360', '3605', '3606', '3607', '3608', '361', '3610', '3612', '3613', '3617', '3618', '3620', '3623', '3627', '3628', '3629', '3630', '3633', '3636', '3637', '3639', '3640', '3643', '3645', '3646', '3649', '365', '3652', '3655', '3657', '3658', '3659', '366', '3661', '3662', '3663', '3664', '3669', '367', '3670', '3674', '3675', '3676', '3677', '3679', '3680', '3682', '3683', '3687', '3689', '369', '3693', '3694', '3695', '3697', '3698', '3700', '3704', '3705', '3707', '3716', '3717', '3718', '372', '3720', '3723', '3729', '373', '3732', '3733', '3735', '3737', '3738', '374', '3740', '3742', '3743', '375', '3751', '3752', '3754', '3755', '3758', '376', '3760', '3761', '3762', '3763', '3764', '3765', '3768', '3769', '3770', '3771', '3772', '3773', '3774', '3775', '378', '3781', '3785', '3787', '379', '3790', '3792', '3793', '3794', '3795', '3796', '38', '3807', '3809', '381', '3813', '3814', '3815', '3818', '3819', '382', '3823', '3824', '3826', '3827', '3828', '3830', '3832', '3837', '3839', '384', '3840', '3841', '3843', '3844', '3845', '3847', '3848', '3850', '3852', '3853', '3857', '3858', '3859', '3863', '3864', '3865', '3866', '3874', '3876', '3878', '3879', '388', '3881', '3884', '3886', '3889', '3890', '3891', '3892', '3893', '3895', '3897', '3899', '390', '3903', '3907', '3908', '3910', '3911', '3912', '3915', '3922', '3924', '3927', '3929', '3930', '3931', '3934', '3937', '3938', '394', '3942', '3943', '3944', '3945', '3947', '3950', '3953', '3955', '3959', '396', '3960', '3962', '3963', '3967', '3968', '397', '3971', '3972', '3973', '3976', '3979', '398', '3980', '3982', '3985', '3986', '3987', '3989', '399', '3990', '3993', '3995', '3996', '3997', '3998', '3999', '40', '400', '4001', '4007', '401', '4010', '4014', '4017', '4018', '402', '4021', '4022', '4023', '4025', '4027', '4029', '4031', '4034', '4035', '4037', '4038', '4039', '404', '4040', '4041', '4043', '4046', '4047', '4049', '4053', '4055', '4056', '4057', '4062', '4065', '4066', '4067', '4070', '4074', '4075', '4076', '4077', '4079', '408', '4080', '4081', '4082', '4085', '4089', '409', '4091', '4093', '4096', '4098', '4099', '41', '410', '4100', '4103', '4104', '4105', '4108', '4110', '4111', '4115', '4116', '4117', '4118', '4119', '4122', '4126', '4127', '4128', '4129', '413', '4131', '4135', '4136', '4138', '4140', '4143', '4144', '4145', '4146', '4149', '4150', '4151', '4157', '4159', '4160', '4162', '4164', '4165', '4167', '4169', '4172', '4173', '4174', '4176', '4177', '4178', '418', '4180', '4182', '4183', '4185', '4187', '4188', '419', '4192', '4193', '4196', '4197', '42', '4201', '4202', '4204', '4206', '4207', '4209', '4212', '4213', '4214', '4215', '4218', '4219', '422', '4220', '4226', '4228', '4229', '423', '4230', '4231', '4232', '4235', '4236', '4237', '4238', '4239', '424', '4240', '4242', '4243', '4244', '425', '4251', '4254', '4256', '4257', '4258', '4259', '426', '4262', '4263', '4264', '4267', '4268', '427', '4272', '4275', '4276', '4278', '4279', '4285', '4286', '4287', '4288', '429', '4290', '4291', '4292', '4299', '4302', '4303', '4306', '4309', '4310', '4311', '4312', '4313', '4314', '4315', '4317', '4318', '4319', '4320', '4321', '4322', '4324', '4326', '4327', '4329', '4330', '4332', '4341', '4344', '4345', '4346', '435', '4352', '4354', '4358', '4360', '4362', '4366', '4367', '437', '4372', '4374', '4377', '4379', '4381', '4382', '4383', '4384', '4386', '4387', '4388', '4389', '4390', '4393', '4394', '4395', '4396', '4397', '4399', '440', '4400', '4403', '4405', '4406', '441', '4410', '4411', '4413', '4414', '4416', '4418', '4419', '442', '4420', '4421', '4424', '4425', '4426', '4427', '4429', '4433', '4434', '4436', '4437', '4440', '4441', '4442', '4445', '4448', '445', '4450', '4453', '4454', '4461', '4462', '4463', '4466', '4468', '4470', '4474', '4475', '4477', '4478', '4479', '448', '4481', '4483', '4484', '4485', '4487', '4488', '4489', '4491', '4493', '4495', '4496', '4497', '45', '450', '4506', '4507', '4510', '4512', '4513', '4514', '4515', '4517', '4519', '452', '4521', '4528', '4529', '453', '4531', '4532', '4533', '4535', '4539', '454', '4540', '4542', '4543', '4544', '4545', '4548', '4549', '455', '4550', '4553', '4554', '4558', '4559', '4561', '4562', '4563', '4567', '4568', '4569', '457', '4570', '4571', '4580', '4581', '4582', '4583', '4584', '4587', '4588', '459', '4590', '4591', '4592', '4593', '4596', '4599', '46', '460', '4601', '4602', '4603', '4609', '461', '4610', '4611', '4612', '4614', '4616', '4617', '4619', '4621', '4623', '4625', '4627', '4628', '4629', '463', '4631', '4632', '4635', '4638', '464', '4640', '4641', '4644', '4647', '4648', '4649', '465', '4650', '4652', '4656', '4659', '4660', '4661', '4664', '4665', '4668', '4669', '467', '4674', '4677', '4680', '4683', '4688', '469', '4690', '4693', '4694', '4696', '4697', '4699', '47', '4700', '4701', '4705', '4707', '471', '4710', '4714', '4715', '4717', '4718', '4720', '4724', '4726', '4729', '473', '4732', '4733', '4735', '4736', '4737', '474', '4740', '4743', '4744', '4745', '4747', '4749', '475', '4750', '4753', '4755', '4761', '4765', '4766', '4767', '4768', '4769', '4770', '4773', '4779', '4781', '4782', '4784', '4785', '4786', '479', '4793', '4796', '4797', '4799', '4801', '4803', '4806', '4807', '4809', '4810', '4812', '4815', '4822', '4823', '4824', '4825', '4826', '4831', '4832', '4833', '4835', '4839', '4841', '4842', '4845', '4847', '4848', '4849', '485', '4850', '4851', '4853', '4855', '4856', '4858', '4859', '4864', '4866', '4868', '4869', '487', '4872', '4873', '4875', '4876', '488', '4886', '4888', '4889', '4890', '4892', '4893', '4896', '4897', '4898', '4899', '490', '4904', '4906', '4909', '491', '4910', '4911', '4913', '4914', '4915', '4916', '4917', '4919', '4921', '4923', '4924', '4928', '4930', '4931', '4932', '4933', '4934', '4935', '4936', '4937', '4938', '494', '4941', '4945', '4946', '4949', '4950', '4954', '4957', '4958', '4959', '496', '4961', '4962', '4965', '4966', '4968', '4970', '4974', '4978', '4981', '4983', '4985', '4986', '4987', '4989', '499', '4990', '4993', '4996', '4998', '5000', '5001', '5003', '5006', '5007', '5009', '5011', '5012', '5013', '5015', '5016', '5020', '5021', '5023', '5024', '5027', '5029', '5031', '5032', '5034', '5035', '5037', '5038', '504', '5040', '5041', '5042', '5043', '5044', '5045', '5048', '5049', '505', '5054', '5056', '5057', '5058', '506', '5060', '5063', '5067', '5068', '5071', '5073', '5075', '5076', '5078', '5079', '5080', '5085', '5088', '509', '5090', '5091', '5092', '5096', '5097', '5098', '5099', '51', '5101', '5102', '5104', '5105', '5111', '5112', '5113', '5118', '5119', '5120', '5121', '5123', '5127', '5129', '5130', '5132', '5133', '5135', '5137', '5138', '5139', '5145', '5147', '5149', '5152', '5154', '5155', '5159', '5160', '5161', '5162', '5165', '517', '5171', '5172', '5174', '5177', '5179', '518', '5180', '5182', '5183', '5184', '5185', '5188', '519', '5193', '520', '5200', '5201', '5202', '5203', '5204', '5209', '521', '5210', '5211', '5212', '5213', '5214', '5215', '5216', '5217', '5218', '522', '5220', '5222', '5223', '5228', '523', '5231', '5232', '5234', '5236', '5237', '5238', '5246', '5247', '5248', '5251', '5253', '5254', '5261', '5262', '5264', '5265', '5266', '5273', '5275', '5276', '5277', '5281', '5282', '5284', '5285', '5288', '5289', '529', '5290', '5292', '5295', '530', '5300', '5301', '5302', '5303', '5304', '5305', '5307', '5310', '5311', '5312', '5314', '5316', '5317', '532', '5321', '5322', '5325', '5326', '5327', '5329', '5330', '5331', '5332', '5333', '5334', '5335', '5336', '5338', '5340', '5341', '5344', '5345', '5346', '5350', '5353', '5355', '5359', '536', '5361', '5365', '5366', '5367', '537', '5370', '5372', '5373', '5374', '5378', '5379', '5380', '5381', '5383', '5384', '5386', '5390', '5394', '5396', '5399', '54', '5401', '5403', '5407', '5408', '541', '5411', '5412', '5415', '5419', '542', '5420', '5421', '5423', '5425', '5426', '5430', '5431', '5432', '5439', '544', '5440', '5443', '5444', '5445', '5446', '5447', '5449', '545', '5450', '5452', '5453', '5454', '5455', '5456', '5458', '5465', '5467', '5468', '5469', '547', '5470', '5471', '5473', '5477', '5478', '5479', '548', '5481', '5482', '5483', '5487', '5489', '5490', '5492', '5495', '5496', '5497', '5498', '55', '550', '5500', '5502', '5504', '5505', '5506', '5507', '5508', '5510', '5511', '5513', '5514', '5515', '5516', '5518', '552', '5521', '5522', '5524', '5525', '5526', '5529', '5531', '5532', '5534', '5535', '5536', '5538', '5540', '5541', '5543', '5548', '5549', '555', '5550', '5552', '5554', '5555', '5559', '556', '5560', '5561', '5567', '557', '5572', '5574', '5577', '5579', '558', '5583', '5584', '5587', '5589', '559', '5592', '5593', '5595', '5596', '5597', '5598', '56', '560', '5600', '5602', '5603', '5604', '5605', '5607', '5609', '5610', '5612', '5615', '5616', '5617', '5619', '562', '5620', '5623', '5625', '5629', '5630', '5633', '5634', '5635', '5636', '5637', '5638', '5639', '564', '5643', '5645', '5646', '5649', '5650', '5651', '5652', '5653', '5654', '5655', '5658', '566', '5660', '5663', '5664', '5665', '5667', '5671', '5672', '5673', '5675', '5676', '5679', '5681', '5682', '5686', '5687', '569', '5690', '5692', '5693', '5695', '5697', '5698', '5699', '570', '5700', '5707', '5708', '5709', '5710', '5712', '5714', '5717', '5719', '5720', '5722', '5723', '5725', '5728', '573', '5731', '5736', '5738', '5741', '5744', '5745', '5749', '575', '5750', '5753', '5757', '5758', '5759', '5760', '5761', '5763', '5764', '5767', '5771', '5772', '5773', '5774', '5775', '5776', '5778', '5779', '578', '5781', '5782', '5785', '5787', '5790', '5791', '5792', '5793', '5794', '5797', '5799', '58', '5803', '5805', '5806', '5807', '5809', '5810', '5811', '5816', '5817', '5819', '5822', '5823', '5824', '5827', '5829', '5832', '5833', '5837', '5838', '584', '5841', '5844', '5845', '5846', '5847', '5848', '585', '5850', '5853', '5856', '5858', '586', '5860', '5861', '5866', '5868', '5869', '5870', '5876', '5877', '5878', '5880', '5882', '5883', '5884', '5885', '5892', '5893', '5894', '5895', '5896', '5897', '5898', '590', '5900', '5901', '5902', '5903', '5905', '5906', '5908', '5909', '5910', '5912', '5913', '5915', '5918', '592', '5924', '5925', '5929', '593', '5931', '5935', '5938', '5939', '594', '5940', '5943', '5945', '5946', '5947', '5948', '5950', '5951', '5954', '5956', '5959', '596', '5960', '5963', '5964', '5965', '5969', '597', '5970', '5972', '5973', '5974', '5976', '5977', '598', '5981', '5985', '5987', '599', '5990', '5991', '5992', '5993', '5994', '5996', '6', '60', '600', '6001', '6008', '6009', '6011', '6013', '6015', '6017', '6019', '6020', '6022', '6023', '6025', '6030', '6031', '6032', '6034', '6035', '6036', '6037', '6038', '6039', '6040', '6043', '6044', '6045', '6046', '6047', '6050', '6052', '6053', '6054', '6058', '6059', '6060', '6061', '6063', '6064', '6066', '6067', '6068', '6071', '6074', '6077', '6079', '6080', '6082', '6087', '609', '6090', '6091', '6092', '6093', '6094', '6097', '6099', '6100', '6102', '6103', '6104', '6105', '6107', '6110', '6111', '6113', '6116', '6118', '6120', '6122', '6128', '6129', '6130', '6132', '6133', '6136', '6138', '6139', '614', '6140', '6141', '6142', '6143', '6144', '6147', '6153', '6156', '6157', '6159', '616', '6160', '6162', '6163', '6164', '6165', '6167', '617', '6170', '6172', '6174', '6177', '6178', '6183', '6185', '6187', '6192', '6196', '6198', '6199', '62', '6209', '6210', '6211', '6214', '6215', '6216', '6217', '6223', '6224', '6225', '6228', '6229', '623', '6230', '6234', '6237', '6240', '6241', '6242', '6244', '6246', '6247', '625', '6254', '6255', '6256', '6257', '6258', '6267', '6269', '6272', '6276', '6280', '6281', '6282', '6283', '6284', '6285', '6287', '6289', '6295', '6297', '6300', '6301', '6302', '6306', '6307', '6308', '6309', '6310', '6311', '6313', '6316', '6317', '6320', '6325', '6328', '6329', '6335', '6336', '6337', '6338', '6341', '6342', '6343', '6345', '6347', '635', '6350', '6351', '6352', '6353', '6354', '6355', '6357', '636', '6365', '6370', '6375', '6378', '638', '6380', '6381', '6384', '6386', '6387', '6388', '6389', '6390', '6391', '6392', '6393', '6396', '6397', '6398', '6399', '640', '6401', '6403', '6410', '6412', '6413', '6414', '6415', '6416', '6417', '6418', '6419', '6423', '6427', '6429', '643', '6433', '6437', '6438', '6439', '6440', '6441', '6442', '6445', '6449', '645', '6451', '6454', '6457', '6458', '6459', '646', '6460', '6461', '6463', '6465', '6469', '647', '6470', '6471', '6472', '6473', '6474', '6475', '6476', '6477', '6479', '648', '6480', '6483', '6484', '6485', '6486', '6487', '6488', '6489', '649', '6493', '6494', '6495', '6496', '6497', '6499', '650', '6500', '6502', '6503', '6504', '6505', '6508', '651', '6510', '6513', '6514', '6516', '6517', '6518', '6519', '652', '6523', '6526', '6527', '653', '6530', '6532', '6535', '6537', '6538', '6543', '6544', '6545', '6546', '6549', '655', '6550', '6551', '6553', '6554', '6555', '6559', '6560', '6563', '6569', '6570', '6572', '6573', '6575', '6577', '658', '6580', '6581', '6583', '6586', '6592', '6599', '660', '6601', '6602', '6603', '6604', '6606', '661', '6611', '6612', '6614', '6615', '6616', '6618', '662', '6620', '6621', '6622', '6623', '6626', '6628', '6629', '6633', '6638', '6639', '6641', '6642', '6643', '665', '6650', '6651', '6657', '6658', '666', '6660', '6663', '6664', '6669', '6671', '6675', '6678', '6679', '6685', '6688', '6689', '669', '6691', '6692', '6696', '6698', '670', '6700', '6703', '6704', '6706', '6713', '6714', '6716', '6718', '672', '6721', '6722', '6723', '6724', '6727', '6728', '673', '6730', '6732', '6734', '6736', '6737', '674', '6740', '6742', '6746', '6749', '675', '6750', '6751', '6752', '6754', '6757', '6759', '6761', '6763', '6765', '6766', '6767', '6772', '6774', '6775', '6777', '6779', '678', '6782', '6783', '6785', '6786', '6787', '6788', '6789', '6791', '6793', '6794', '6796', '6797', '68', '6800', '6802', '6805', '6808', '6809', '6810', '6811', '6814', '6816', '6818', '6819', '682', '6821', '6823', '6825', '6828', '6831', '6832', '6833', '6837', '6838', '6844', '6851', '6852', '6853', '6854', '6857', '6859', '6860', '6861', '6862', '6863', '6864', '6869', '6870', '6872', '6875', '6877', '6880', '6881', '6888', '689', '6890', '6891', '6892', '6896', '6898', '69', '690', '6900', '6903', '6905', '6906', '6908', '6909', '691', '6910', '6914', '6915', '6917', '6918', '6919', '692', '6920', '6923', '6924', '6925', '6926', '6928', '6930', '6931', '6934', '6938', '6939', '694', '6940', '6941', '6942', '6943', '6944', '6946', '6949', '695', '6953', '6954', '6955', '6956', '6957', '6959', '696', '6960', '6961', '6962', '6964', '6965', '6966', '6968', '697', '6971', '6973', '6977', '6978', '6979', '6983', '6986', '6988', '699', '6991', '6994', '6995', '6997', '7', '70', '7000', '7006', '7007', '7008', '7009', '7010', '7011', '7012', '7013', '7017', '7020', '7022', '7024', '7026', '7028', '703', '7030', '7031', '7033', '7038', '7039', '704', '7040', '7043', '7046', '7047', '7048', '705', '7051', '7053', '7058', '706', '7060', '7061', '7063', '7064', '7066', '7068', '7069', '7072', '7073', '7074', '7076', '7077', '708', '7081', '7086', '7088', '7089', '7090', '7091', '7092', '7095', '7096', '7097', '7098', '7099', '710', '7100', '7104', '7105', '7106', '7110', '7111', '7112', '7115', '7116', '7117', '7122', '7123', '7124', '7126', '7127', '7128', '7131', '7135', '7138', '7139', '7140', '7142', '7143', '7144', '7145', '7147', '7149', '715', '7150', '7151', '7152', '7155', '7157', '7159', '716', '7161', '7163', '7164', '7165', '7167', '7169', '717', '7170', '7172', '7173', '7174', '7177', '7178', '7180', '7182', '7183', '7186', '7192', '7193', '7194', '7195', '7196', '7198', '72', '720', '7202', '7204', '7205', '7208', '721', '7210', '7212', '7216', '7218', '722', '7221', '7222', '7225', '7227', '7228', '7229', '723', '7230', '7231', '7232', '7238', '7239', '7241', '7242', '7244', '7246', '7248', '725', '7251', '7252', '7253', '7256', '726', '7260', '7262', '7265', '7266', '7267', '7269', '727', '7271', '7272', '7277', '7278', '7280', '7282', '7285', '7286', '7288', '7289', '7290', '7292', '7293', '7295', '7296', '7297', '7298', '730', '7302', '7303', '7305', '7306', '7307', '7308', '7310', '7312', '7313', '7314', '7318', '7319', '732', '7320', '7321', '7322', '7324', '7327', '7329', '7330', '7331', '7335', '7337', '7341', '7342', '7345', '7346', '7347', '7349', '7350', '7352', '7353', '7357', '7358', '736', '7361', '7362', '7363', '7364', '7365', '7366', '7367', '7368', '7369', '7371', '7372', '7375', '7376', '7377', '7378', '738', '7380', '7381', '7384', '7389', '739', '7391', '7392', '7393', '7394', '7395', '7398', '74', '740', '7400', '7401', '7403', '7407', '7408', '7410', '7412', '7415', '7419', '742', '7420', '7422', '7423', '7428', '7429', '743', '7430', '7436', '7437', '7439', '744', '7440', '7442', '7443', '7444', '7446', '7447', '7448', '745', '7450', '7451', '7452', '7453', '7454', '746', '7460', '7465', '7466', '7467', '7469', '7470', '7472', '7475', '7478', '7479', '748', '7481', '7482', '7484', '7486', '7487', '7488', '7489', '749', '7491', '7493', '7495', '7497', '750', '7501', '7502', '7505', '7506', '7507', '751', '7510', '7513', '7514', '7515', '7516', '7518', '7519', '752', '7522', '7526', '7528', '7530', '7531', '7532', '7533', '7534', '7535', '7539', '754', '7541', '7543', '7544', '7546', '7547', '755', '7550', '7551', '7552', '756', '7560', '7566', '7567', '7568', '7569', '757', '7570', '7571', '7573', '7576', '7578', '758', '7581', '7584', '7586', '7588', '7591', '7593', '7596', '7598', '7599', '76', '7601', '7604', '7605', '7606', '7608', '7610', '7613', '7614', '7616', '762', '7620', '7628', '7629', '763', '7630', '7631', '7633', '7634', '7635', '7636', '7638', '7639', '7640', '7641', '7643', '7646', '7649', '7651', '7653', '7654', '7656', '7657', '7658', '7659', '7660', '7665', '7667', '7669', '767', '7671', '7673', '7674', '7675', '7676', '7678', '7680', '7682', '7683', '769', '7690', '7692', '7693', '7695', '7696', '7698', '7699', '77', '770', '7700', '7703', '7704', '7705', '7707', '7708', '7709', '7713', '7714', '7715', '772', '7721', '7725', '7726', '7727', '7729', '773', '7732', '7733', '7736', '7737', '7740', '7742', '7743', '7744', '7745', '7748', '7749', '7750', '7751', '7753', '7757', '7760', '7762', '7763', '7766', '7767', '7772', '7773', '7774', '7777', '7779', '7780', '7781', '7783', '7784', '7786', '7793', '7797', '7799', '78', '780', '7801', '7802', '7804', '7808', '7810', '7812', '7814', '7816', '7817', '7818', '7821', '7823', '7824', '7826', '7828', '783', '7833', '7834', '7836', '7838', '784', '7841', '7842', '7847', '7849', '7851', '7854', '7855', '7857', '7858', '786', '7865', '7867', '7870', '7871', '7872', '7874', '7875', '7879', '7880', '7881', '7886', '7887', '7888', '7889', '789', '7890', '7891', '7894', '7895', '7897', '790', '7900', '7904', '7907', '7911', '7912', '7913', '7914', '7917', '7918', '7919', '792', '7920', '7921', '7922', '7923', '7925', '7927', '7928', '7930', '7933', '7937', '7939', '7942', '7945', '7946', '7947', '7950', '7951', '7952', '7956', '7957', '796', '7961', '7966', '7968', '7969', '797', '7970', '7971', '7972', '7974', '7975', '7976', '7977', '7979', '798', '7982', '7983', '7984', '7986', '7988', '7990', '7991', '7992', '7997', '80', '8000', '8002', '8003', '8004', '8005', '8007', '8008', '8013', '8014', '8015', '8018', '802', '8022', '8029', '8030', '8031', '8033', '8035', '8036', '8037', '804', '8041', '8042', '8043', '8048', '805', '8051', '8052', '8053', '8054', '8056', '8057', '8063', '8064', '8067', '8069', '807', '8071', '8074', '8075', '8083', '8085', '8089', '8090', '8091', '8096', '8097', '8098', '81', '8100', '8101', '8107', '8110', '8113', '8115', '8117', '8118', '812', '8125', '8126', '8129', '8132', '8135', '8137', '8140', '8145', '8146', '8147', '8150', '8152', '8154', '8155', '8157', '8158', '8159', '816', '8160', '8166', '8168', '8169', '817', '8171', '8172', '8173', '8174', '8176', '8178', '818', '8182', '8184', '8185', '8186', '8187', '8188', '8189', '8190', '8191', '8192', '8194', '8196', '8199', '8201', '8204', '8207', '8209', '8211', '8213', '8214', '8216', '8217', '8218', '8219', '822', '8224', '8225', '8227', '8229', '823', '8233', '8234', '8235', '8237', '8239', '824', '8242', '8243', '8244', '8245', '8246', '8247', '8250', '8251', '8257', '8259', '826', '8260', '8264', '8265', '8266', '8267', '8269', '827', '8270', '8272', '8273', '8277', '8278', '8279', '8283', '8284', '8285', '8287', '8289', '829', '8290', '8295', '8298', '8299', '8300', '8304', '8306', '8307', '831', '8310', '8311', '8312', '8313', '8315', '8317', '8318', '8319', '832', '8320', '8321', '8322', '8323', '8324', '8325', '8326', '8327', '8329', '8331', '8337', '8338', '8339', '834', '8340', '8342', '8346', '8347', '8349', '835', '8353', '8354', '8356', '8359', '836', '8364', '8365', '8366', '8368', '8369', '8372', '8377', '8378', '8379', '838', '8382', '8383', '8384', '8385', '8386', '8387', '8389', '839', '8390', '8391', '8397', '8398', '8399', '840', '8402', '8403', '8404', '8406', '8407', '8408', '841', '8410', '8411', '8412', '8413', '8415', '8417', '8419', '8420', '8424', '8426', '843', '8430', '8431', '8432', '8434', '8437', '8438', '8439', '8440', '8441', '8442', '8446', '8448', '8453', '8456', '8458', '8459', '846', '8462', '8464', '8465', '8466', '8468', '8470', '8474', '8477', '8478', '8480', '8482', '8487', '8488', '849', '8490', '8491', '8492', '8493', '8494', '8496', '8499', '8501', '8502', '8504', '8505', '8509', '851', '8510', '8512', '8516', '8517', '8518', '8520', '8521', '8523', '8525', '8526', '853', '8531', '8532', '8533', '8535', '8537', '854', '8541', '8542', '8544', '8546', '8547', '8549', '8551', '8552', '8554', '8555', '856', '8560', '8563', '8564', '8565', '8566', '8568', '8570', '8572', '8576', '8578', '8579', '858', '8582', '8584', '8585', '8586', '8587', '8588', '859', '8590', '8592', '8595', '8596', '8598', '8599', '86', '860', '8604', '8608', '8615', '8616', '8617', '862', '8621', '8622', '8623', '8625', '8626', '8627', '8629', '863', '8632', '8633', '8634', '8635', '8637', '8638', '8641', '8643', '8644', '8648', '865', '8650', '8651', '8656', '8658', '8659', '866', '8661', '8662', '8664', '8666', '8667', '8669', '8670', '8671', '8675', '8676', '8678', '8682', '8686', '8687', '8688', '8689', '869', '8690', '8691', '8694', '8695', '8698', '8699', '870', '8701', '8702', '8703', '8705', '8707', '8708', '8709', '871', '8710', '8713', '8714', '8715', '8717', '8718', '872', '8721', '8723', '8725', '8729', '873', '8731', '8734', '8737', '8738', '8740', '8741', '8742', '8745', '8746', '8747', '8748', '8749', '8755', '8756', '8757', '8758', '8759', '8760', '8761', '8763', '8765', '8768', '8769', '877', '8770', '8771', '8774', '8775', '8776', '8778', '8780', '8781', '8783', '8785', '8788', '879', '8790', '8795', '8797', '8798', '8799', '880', '8800', '8803', '8805', '8806', '8807', '881', '8811', '8813', '8816', '8817', '8818', '8819', '882', '8821', '8822', '8823', '8827', '8828', '8829', '883', '8831', '8836', '8838', '8839', '884', '8840', '8843', '8844', '8845', '8846', '8847', '8848', '8849', '885', '8851', '8852', '8853', '8854', '8858', '8859', '886', '8862', '8864', '8865', '8866', '8867', '8869', '887', '8871', '8872', '8873', '8875', '8877', '8878', '888', '8880', '8881', '8882', '8884', '8885', '8887', '8888', '8889', '8890', '8898', '8899', '89', '8901', '8902', '8903', '8904', '8907', '8909', '8910', '8911', '8914', '8915', '892', '8921', '8922', '8924', '8925', '893', '8931', '8934', '8937', '8938', '894', '8942', '8943', '8944', '8946', '8947', '8948', '8949', '8952', '8958', '8959', '8960', '8962', '8963', '8964', '8967', '8969', '8973', '8975', '8976', '8979', '898', '8982', '8984', '8985', '8986', '8988', '8989', '899', '8990', '8992', '8993', '8994', '8995', '8996', '8997', '9003', '9005', '9006', '9008', '9009', '9010', '9011', '9012', '9013', '9016', '9019', '902', '9020', '9023', '9025', '9026', '903', '9030', '9033', '9034', '9036', '9038', '9039', '904', '9040', '9042', '9043', '9045', '9049', '905', '9053', '9055', '9056', '9061', '9063', '9064', '9065', '9066', '9067', '9068', '907', '9070', '9072', '9077', '9079', '9080', '9081', '9082', '9084', '9087', '9088', '9089', '909', '9090', '9091', '9093', '9094', '9095', '9096', '9097', '9098', '91', '9100', '9102', '9103', '9106', '9107', '9109', '911', '9110', '9111', '9112', '9113', '9117', '9118', '9119', '912', '9120', '9122', '9123', '9125', '913', '9133', '9134', '9135', '9136', '9139', '9140', '9141', '9142', '9144', '9146', '9148', '9151', '9153', '9154', '9159', '916', '9161', '9162', '9164', '9165', '9167', '9168', '9170', '9171', '9172', '9173', '9174', '9176', '9177', '9178', '918', '9184', '9190', '9192', '9194', '9195', '9196', '9198', '9199', '92', '9201', '9202', '9211', '9212', '9213', '9215', '9219', '922', '9220', '9221', '9225', '9228', '9229', '923', '9231', '9233', '9234', '9236', '9237', '9239', '924', '9242', '9243', '9247', '9248', '9249', '925', '9250', '9251', '9255', '9256', '9258', '926', '9260', '9263', '9264', '9267', '9269', '9270', '9272', '9273', '9278', '9281', '9282', '9284', '9285', '9286', '9287', '9288', '929', '9292', '9296', '9297', '9298', '930', '9300', '9303', '9305', '9307', '931', '9310', '9315', '9316', '9317', '932', '9320', '9323', '9324', '9325', '9326', '9327', '9328', '9329', '933', '9330', '9334', '9337', '934', '9340', '9344', '9347', '9350', '9351', '9352', '9355', '9358', '9362', '9363', '9366', '9367', '9368', '9369', '9370', '9372', '9374', '9377', '9379', '938', '9384', '9386', '939', '9392', '9394', '9398', '9401', '9402', '9403', '9407', '9409', '9410', '9413', '9414', '9415', '9416', '9417', '9418', '9419', '9420', '9423', '9426', '9429', '9431', '9432', '9434', '944', '9440', '9445', '9447', '9450', '9451', '9452', '9456', '9457', '946', '9460', '9463', '9465', '9466', '9467', '9468', '947', '9471', '9474', '9475', '9476', '9479', '948', '9481', '9483', '9487', '9488', '9489', '9493', '9496', '9497', '9499', '950', '9501', '9503', '9504', '9505', '9507', '9508', '9509', '951', '9511', '9514', '9516', '9517', '9523', '9524', '9526', '9531', '9533', '9535', '9536', '9537', '9538', '9541', '9544', '9546', '9547', '9548', '9551', '9554', '9556', '9557', '9558', '9559', '956', '9560', '9561', '9564', '9566', '9569', '9574', '9575', '9576', '9577', '9579', '9580', '9583', '9584', '9585', '9586', '9588', '9592', '9593', '9594', '9595', '9596', '9597', '96', '960', '9602', '9603', '9604', '9607', '9612', '9614', '9617', '9618', '9619', '9622', '9628', '963', '9633', '9634', '9635', '9636', '9639', '9641', '9646', '9647', '9648', '9649', '965', '9650', '9651', '9653', '9657', '9659', '9660', '9663', '9666', '9667', '9668', '9669', '967', '9676', '9677', '9678', '968', '9686', '9689', '969', '9697', '9699', '970', '9701', '9703', '9705', '9706', '971', '9715', '9716', '9718', '9721', '9722', '9727', '9728', '9729', '9730', '9731', '9735', '9737', '9741', '9742', '9744', '9748', '9749', '975', '9754', '9757', '9761', '9764', '9768', '9769', '9771', '9772', '9773', '9775', '9779', '9780', '9786', '9787', '9788', '9789', '979', '9791', '9792', '9793', '9795', '9796', '9797', '9798', '9799', '98', '980', '9802', '9803', '9804', '9808', '9809', '9810', '9812', '9814', '9816', '9817', '9818', '982', '9821', '9824', '9826', '9827', '983', '9832', '9835', '9838', '9839', '9841', '9842', '9843', '9845', '9849', '9850', '9864', '9866', '9867', '9869', '9870', '9871', '9872', '9874', '9875', '9876', '9878', '9879', '988', '9881', '9882', '9889', '989', '9891', '9893', '9894', '9896', '9898', '9899', '99', '9903', '9905', '9906', '9907', '991', '9912', '9913', '9914', '9916', '9917', '9918', '9919', '9920', '9921', '9925', '9927', '9929', '9931', '9933', '9936', '9937', '9938', '9939', '9940', '9941', '9942', '9944', '9945', '9946', '9947', '9948', '9949', '9951', '9953', '9955', '9958', '9960', '9963', '9964', '9965', '9967', '9968', '9969', '9970', '9973', '9974', '9975', '9976', '9977', '9978', '9979', '998', '9982', '9983', '9987', '9988', '999', '9990', '9994', '9996', '9999']\n",
            "Número de classes (identidades) na galeria: ['1000', '10002', '1001', '10024', '10028', '10029', '10035', '10036', '10037', '10038', '10041', '10042', '10044', '1005', '10053', '1006', '10060', '10066', '10068', '10071', '10073', '10074', '10077', '10079', '10082', '10088', '10089', '10104', '10107', '10112', '10113', '10115', '10118', '10119', '10120', '10123', '10130', '10139', '10140', '10148', '1015', '10154', '10164', '10167', '10170', '10174', '1018', '10180', '10182', '10183', '10185', '10186', '10190', '10191', '10192', '10194', '10195', '10197', '10201', '10205', '10211', '10217', '10219', '10223', '10224', '10229', '10230', '10236', '10238', '10239', '10242', '10243', '10247', '10248', '10253', '10263', '10264', '1027', '10272', '10275', '10277', '10280', '10282', '10283', '10289', '10291', '10294', '10301', '10302', '10306', '10312', '10313', '10315', '10317', '10323', '10331', '10335', '10339', '1034', '10341', '10346', '10347', '1036', '10360', '10366', '10370', '10373', '10374', '10375', '10376', '1038', '10382', '10383', '10384', '10391', '10398', '104', '10401', '10404', '10406', '10414', '10415', '10417', '10426', '10427', '10433', '10437', '10444', '10445', '10446', '10449', '1045', '10452', '10463', '10466', '10467', '10469', '10472', '10482', '10488', '10492', '10493', '10494', '10497', '10499', '1051', '10514', '10516', '10518', '10522', '10523', '10525', '10528', '10529', '1053', '10530', '10531', '10532', '10534', '10535', '10543', '10548', '10549', '10550', '10555', '10557', '1056', '10562', '10563', '10565', '10568', '1057', '10570', '10574', '10575', '10579', '10580', '10581', '10585', '10590', '10599', '106', '1060', '10603', '10604', '10606', '10609', '10611', '10615', '10617', '10623', '10624', '10637', '1066', '1067', '1070', '1071', '1072', '1073', '1074', '1076', '1079', '108', '1082', '1083', '1087', '109', '1090', '1092', '1094', '110', '1100', '1101', '1110', '1113', '1115', '1118', '1120', '1126', '1129', '1130', '1135', '1136', '1144', '1146', '1149', '1151', '1154', '1156', '1157', '1158', '116', '1160', '1161', '1165', '1167', '1169', '117', '1172', '1173', '1175', '1177', '118', '1180', '1183', '1184', '1185', '1186', '1191', '1192', '1196', '1198', '12', '1200', '1208', '1211', '1218', '1219', '122', '1231', '1235', '1237', '1238', '1244', '1245', '1247', '125', '1250', '1258', '126', '1260', '1262', '1268', '1269', '1272', '1274', '1275', '1277', '1278', '1280', '1281', '1284', '1287', '1291', '1294', '1295', '1297', '1299', '13', '1302', '1304', '1306', '1308', '1310', '1324', '1327', '1328', '1334', '1338', '1340', '1341', '1344', '1345', '1352', '1358', '1362', '1363', '137', '1377', '1378', '1381', '1382', '1383', '1393', '1395', '1396', '1400', '1403', '1409', '141', '1410', '1411', '1413', '1416', '1420', '1424', '1429', '1437', '1439', '1444', '1453', '1454', '1456', '1460', '1462', '1464', '1466', '1467', '1471', '1472', '1475', '1478', '1479', '1482', '1484', '1485', '1491', '15', '1524', '1535', '1538', '154', '1540', '1541', '1542', '1548', '1553', '1554', '1559', '1562', '1570', '1575', '1576', '1578', '158', '1584', '1592', '1594', '1596', '1603', '1608', '161', '1612', '1614', '1619', '1620', '1621', '1628', '1629', '1633', '1642', '1644', '1645', '1648', '1654', '1655', '1658', '1660', '1661', '1662', '1667', '1668', '1669', '1671', '1672', '1674', '1677', '168', '1681', '1682', '1692', '1696', '1697', '1705', '1707', '1711', '1716', '1721', '1730', '1731', '1732', '1734', '1735', '1742', '1747', '1749', '1751', '1755', '1758', '1761', '1765', '1769', '177', '1771', '1775', '1776', '1777', '1778', '1779', '1780', '1781', '1785', '1788', '179', '1793', '1798', '1808', '1810', '1811', '1813', '1814', '1817', '1820', '1822', '1826', '1827', '183', '185', '1850', '1853', '1862', '1863', '1865', '1868', '1871', '188', '1880', '1884', '1888', '189', '1891', '1894', '1897', '1898', '19', '1906', '1907', '191', '1911', '1914', '1918', '1919', '1920', '1922', '1926', '1929', '1943', '1945', '1946', '1947', '1948', '1951', '1955', '1957', '1963', '1969', '197', '1970', '1971', '1975', '1980', '1982', '1984', '1986', '1989', '1991', '1992', '1995', '1998', '1999', '2', '200', '2001', '201', '2012', '2015', '2022', '2023', '2029', '2031', '2033', '204', '2044', '2047', '2052', '2055', '2056', '2059', '2069', '2070', '2071', '2076', '2077', '208', '2081', '2084', '2089', '209', '2090', '210', '2103', '2107', '2110', '2113', '2115', '2118', '2120', '2121', '2122', '2123', '2129', '2131', '2145', '215', '2154', '2159', '2164', '2166', '2167', '2171', '2172', '2185', '2187', '2188', '2195', '2203', '2204', '2207', '2208', '2212', '2214', '2217', '2218', '2223', '2226', '2232', '2233', '2236', '2237', '2244', '2245', '2252', '2254', '2255', '2256', '2258', '2259', '226', '2265', '2269', '2272', '2274', '2275', '2276', '2278', '2280', '2285', '2289', '2293', '2297', '23', '2304', '2305', '2306', '2319', '2323', '2328', '2332', '2335', '2337', '2343', '2346', '2350', '2352', '2353', '2366', '2372', '2376', '2378', '2386', '2389', '2393', '2396', '2399', '2400', '2401', '2404', '2407', '2411', '2415', '2417', '2419', '2424', '2428', '2438', '2440', '2444', '2445', '2449', '2450', '2456', '246', '2460', '2464', '2468', '2470', '2472', '2478', '2482', '2485', '2488', '2490', '2495', '2496', '25', '2501', '2502', '2505', '2507', '2508', '2509', '251', '2510', '2512', '2520', '2521', '2528', '2530', '2531', '2534', '2542', '2544', '2551', '2554', '2556', '2559', '256', '2560', '2561', '2566', '2567', '2568', '2574', '2588', '2589', '2592', '2594', '2599', '26', '260', '2602', '2603', '2606', '2607', '2608', '2611', '2613', '2614', '2618', '262', '2620', '2622', '2625', '2626', '263', '2630', '2633', '2635', '2638', '2639', '264', '2641', '2651', '2653', '2660', '2661', '2663', '2666', '2673', '268', '2681', '2687', '2688', '2690', '2710', '2713', '2715', '2719', '272', '2722', '2726', '2735', '2738', '274', '2742', '2743', '2747', '275', '2750', '2753', '2755', '276', '2762', '2773', '2776', '2777', '2786', '279', '2794', '2796', '2798', '2799', '2808', '2814', '2816', '2817', '2820', '2822', '2825', '2826', '2827', '2828', '2830', '2831', '2832', '2837', '2840', '2843', '2844', '2849', '285', '2850', '2856', '2858', '286', '2861', '2866', '2867', '287', '2870', '2878', '2881', '2882', '2888', '2889', '289', '2893', '2895', '2898', '2903', '2908', '2909', '2915', '293', '2931', '2932', '2934', '2935', '2936', '2937', '2941', '2943', '2951', '2958', '2963', '2969', '297', '2972', '2973', '2976', '298', '2980', '2982', '2987', '2991', '2996', '3000', '3003', '3008', '3016', '302', '3021', '3028', '3034', '3035', '3037', '3039', '3041', '3043', '3048', '305', '3050', '3051', '3057', '3061', '3063', '3067', '3074', '3075', '3077', '308', '309', '3093', '3095', '3098', '3099', '31', '3101', '3102', '3106', '311', '3115', '3121', '3125', '3135', '3139', '314', '3141', '3145', '3146', '3149', '315', '3153', '3154', '3157', '3159', '3164', '3165', '3166', '3172', '3174', '3178', '318', '3189', '3190', '3191', '3194', '3204', '3205', '3210', '3215', '3217', '3218', '3227', '3228', '3229', '3230', '3238', '3239', '324', '3243', '3247', '3250', '3251', '3261', '3263', '3267', '327', '3272', '3274', '3275', '3276', '3277', '3281', '3284', '3286', '3289', '329', '3291', '3292', '3293', '3294', '3297', '3304', '3306', '3308', '3309', '3311', '3312', '3315', '3317', '3320', '3321', '3328', '3334', '3336', '3337', '3339', '3342', '3351', '3354', '3359', '3360', '3361', '3363', '3365', '3370', '3374', '3375', '3379', '3385', '3387', '3392', '3393', '3395', '3397', '3399', '3400', '3404', '3405', '3406', '3408', '3410', '3412', '3415', '3417', '3422', '3428', '3429', '3430', '3433', '3434', '3435', '3437', '344', '3442', '3446', '3448', '3452', '3453', '3457', '3459', '3463', '3464', '3467', '3469', '347', '3473', '3477', '3478', '348', '3482', '3489', '3492', '3496', '3497', '3501', '3506', '3507', '3508', '3509', '3511', '352', '3523', '3527', '3528', '353', '3532', '3537', '3538', '3541', '3542', '3545', '3548', '355', '3550', '3551', '3554', '356', '3561', '3563', '3569', '3572', '3574', '3575', '3578', '3580', '3583', '3587', '359', '3594', '3597', '3601', '3609', '3611', '3614', '3615', '3616', '3619', '3624', '3625', '3626', '363', '3631', '3634', '3638', '3641', '3642', '3644', '3650', '3653', '3654', '3656', '3660', '3665', '3666', '3668', '3671', '3673', '368', '3681', '3686', '3688', '3691', '3692', '3696', '3699', '37', '3701', '3702', '3708', '3709', '3710', '3713', '3714', '3721', '3722', '3724', '3725', '3726', '3734', '3741', '3745', '3746', '3747', '3748', '3750', '3753', '3756', '3757', '3766', '377', '3777', '3779', '3780', '3786', '3789', '3797', '3798', '3799', '3801', '3808', '3810', '3817', '3820', '3821', '3822', '3829', '3834', '3838', '3842', '3846', '3849', '3851', '3854', '3855', '386', '3860', '3867', '3869', '387', '3870', '3873', '3877', '3880', '3882', '3883', '3885', '3887', '3888', '3894', '39', '3901', '3902', '3904', '3905', '3909', '391', '3913', '3914', '3916', '3917', '3920', '3921', '3923', '3932', '3933', '3936', '3940', '3941', '3946', '3949', '395', '3951', '3952', '3954', '3956', '3958', '3964', '3965', '3966', '3970', '3974', '3975', '3977', '3978', '3992', '4', '4000', '4003', '4004', '4006', '4013', '4016', '4019', '4024', '4026', '4028', '403', '4030', '4032', '4033', '4036', '4042', '4044', '4045', '4048', '4051', '4054', '4058', '4059', '4063', '4069', '4072', '4073', '4078', '4084', '4086', '4090', '4094', '4095', '4102', '4107', '4109', '411', '4112', '4113', '412', '4121', '4125', '4130', '4133', '4134', '4137', '4139', '4141', '4142', '4148', '4152', '4153', '4154', '4156', '4158', '416', '4161', '4163', '4168', '4170', '4171', '4175', '4179', '4181', '4189', '4191', '420', '4200', '4205', '4208', '421', '4216', '4217', '4221', '4223', '4225', '4241', '4246', '4247', '4248', '4252', '4260', '4261', '4266', '4270', '4271', '4277', '4280', '4282', '4284', '4294', '4295', '4298', '43', '430', '4301', '4305', '4308', '4323', '4325', '4328', '4335', '4337', '4338', '4339', '434', '4340', '4342', '4343', '4347', '4350', '4357', '4359', '4361', '4363', '4364', '4365', '4369', '4371', '4373', '4375', '4376', '4378', '438', '4385', '439', '4392', '44', '4401', '4402', '4412', '4415', '4422', '443', '4430', '4432', '4435', '4438', '4446', '4449', '4452', '4458', '446', '4465', '4467', '4472', '4473', '4476', '4482', '4490', '4498', '4499', '4500', '4502', '4504', '4508', '4509', '4520', '4524', '4526', '4527', '4530', '4538', '4541', '4546', '4547', '4551', '4552', '4556', '4557', '456', '4560', '4564', '4566', '4572', '4573', '4575', '4577', '4578', '4585', '4589', '4594', '4595', '4597', '4598', '4605', '4606', '4607', '4608', '4615', '4618', '4622', '4626', '4630', '4634', '4639', '4642', '4643', '4645', '4654', '4655', '466', '4663', '4666', '4667', '4670', '4671', '4672', '4678', '4679', '4681', '4682', '4685', '4686', '4687', '4689', '4691', '4692', '4695', '4698', '4702', '4703', '4706', '4708', '4711', '4712', '4713', '4716', '472', '4721', '4725', '4727', '4728', '4730', '4731', '4734', '4739', '4741', '4742', '4751', '4752', '4758', '4760', '4762', '4763', '4764', '477', '4771', '4775', '4777', '4780', '4783', '4787', '4790', '4791', '4792', '4794', '48', '4800', '4802', '4804', '4814', '4816', '4817', '4818', '4819', '482', '4827', '4828', '4829', '483', '4836', '484', '4846', '486', '4861', '4862', '4863', '4865', '4867', '4870', '4879', '4882', '4883', '4885', '489', '4894', '4895', '4900', '4901', '4902', '4903', '4907', '4908', '492', '4922', '4925', '4926', '4927', '4940', '4943', '4948', '495', '4951', '4952', '4953', '4956', '4960', '4963', '4967', '4969', '497', '4972', '4975', '4976', '4980', '4988', '4992', '4994', '4999', '5', '500', '5002', '501', '5017', '5018', '5022', '5025', '5028', '503', '5030', '5036', '5046', '5052', '5053', '5055', '5059', '5061', '5064', '5065', '5066', '5070', '5072', '5077', '508', '5081', '5082', '5083', '5084', '5087', '5089', '5093', '5095', '510', '5103', '5106', '5107', '5109', '5110', '5114', '512', '5122', '5125', '5126', '5131', '5134', '5136', '5140', '5143', '5144', '515', '5150', '5156', '5157', '516', '5163', '5164', '5169', '5175', '5176', '5178', '5181', '5190', '5191', '5192', '5194', '5195', '5197', '52', '5206', '5208', '5221', '5224', '5225', '5226', '5227', '5230', '5233', '5235', '5239', '524', '5240', '5241', '5242', '5244', '5249', '5252', '5255', '5256', '5257', '5258', '5260', '5263', '5267', '5271', '5272', '5274', '5279', '5280', '5293', '5294', '5296', '5298', '5299', '5308', '531', '5315', '5323', '5324', '5328', '5339', '5347', '5348', '5349', '535', '5351', '5352', '5354', '5357', '5358', '5362', '5363', '5369', '5375', '5377', '5382', '5387', '5389', '5391', '5395', '5397', '5402', '5404', '5405', '5409', '5413', '5417', '5422', '5424', '5427', '5428', '543', '5433', '5434', '5435', '5441', '5451', '5457', '5459', '546', '5460', '5461', '5462', '5463', '5472', '5480', '5484', '5485', '5486', '549', '5491', '5493', '5499', '5503', '5509', '551', '5517', '5519', '5527', '5528', '5533', '5542', '5546', '5547', '5551', '5553', '5556', '5558', '5568', '5573', '5576', '5578', '5582', '5586', '5588', '5590', '5591', '5599', '5608', '5613', '5614', '5618', '5622', '5626', '5627', '5628', '5631', '5632', '5640', '5642', '5647', '5648', '565', '5657', '5669', '5677', '5678', '5683', '5684', '5688', '5689', '5701', '5703', '5706', '5711', '5715', '5716', '5718', '572', '5721', '5727', '5730', '5732', '5734', '5739', '574', '5743', '5747', '5752', '5756', '577', '5780', '5786', '5788', '5789', '579', '5796', '5798', '5800', '5801', '5802', '5804', '5808', '581', '5812', '5813', '5815', '582', '5820', '5821', '5826', '5831', '5839', '5852', '5855', '5857', '5859', '5865', '5867', '587', '5871', '5873', '5874', '5879', '5881', '5886', '5887', '5891', '5899', '59', '591', '5914', '5916', '5919', '5920', '5921', '5923', '5926', '5927', '5930', '5932', '5934', '5936', '5937', '5941', '5942', '5944', '5949', '595', '5952', '5953', '5955', '5957', '5958', '5967', '5968', '5979', '5982', '5986', '5988', '5989', '5995', '5997', '6002', '6004', '6005', '6012', '6014', '6018', '6021', '6024', '6026', '6027', '6029', '6033', '604', '6041', '6042', '6048', '605', '6051', '6055', '6056', '6057', '606', '6062', '6069', '6073', '6075', '6076', '6078', '608', '6083', '6086', '6088', '6095', '6096', '6106', '6112', '6115', '6117', '6119', '612', '6123', '6125', '6137', '6145', '6149', '615', '6150', '6151', '6155', '6158', '6161', '6169', '6171', '6173', '6175', '6176', '6180', '6181', '6182', '6188', '6189', '619', '6190', '6191', '6193', '6204', '6206', '6207', '6208', '621', '6212', '622', '6222', '6231', '6233', '6236', '6238', '6239', '6243', '6245', '6248', '6249', '6250', '6253', '6263', '6265', '6266', '627', '6270', '6273', '6274', '6275', '6278', '6279', '6286', '629', '6290', '6291', '6292', '6296', '6298', '6303', '631', '6315', '6318', '632', '6322', '6327', '6331', '6332', '6339', '634', '6340', '6348', '6349', '6356', '6358', '6360', '6361', '6363', '6367', '637', '6371', '6372', '6373', '6374', '6376', '6377', '6379', '6383', '6385', '6395', '6400', '6402', '6405', '6407', '6408', '6409', '641', '6420', '6422', '6426', '6428', '6431', '6434', '644', '6444', '6446', '6448', '6450', '6452', '6453', '6456', '6462', '6467', '6478', '6482', '6491', '6492', '65', '6506', '6511', '6515', '6520', '6521', '6522', '6525', '6528', '6533', '6534', '6536', '6539', '654', '6541', '6547', '6548', '6552', '6557', '656', '6561', '6562', '6567', '6568', '657', '6571', '6578', '6582', '6587', '6588', '6589', '6590', '6593', '6594', '6595', '6596', '6597', '6598', '66', '6600', '6605', '6607', '6609', '6610', '6613', '6617', '6619', '6624', '6625', '663', '6630', '6632', '6634', '6635', '6636', '6637', '664', '6644', '6645', '6646', '6647', '6648', '6652', '6654', '6655', '6661', '6662', '6665', '6668', '667', '6672', '6673', '6674', '6680', '6684', '6686', '6687', '6690', '6693', '6694', '6695', '6701', '6702', '6705', '6707', '6708', '6709', '6711', '6715', '6719', '6720', '6725', '6726', '6729', '6731', '6733', '6738', '6743', '6744', '6753', '6756', '6758', '6760', '6762', '6764', '6769', '6771', '6773', '6784', '6792', '6795', '6798', '6799', '6801', '6806', '6812', '6815', '6817', '6824', '6827', '6834', '6835', '6836', '6840', '6841', '6842', '6845', '6847', '6848', '685', '6850', '6855', '6856', '6858', '686', '6865', '6866', '6867', '6871', '6882', '6883', '6884', '6885', '6886', '6889', '6894', '6895', '6897', '6899', '6901', '6902', '6904', '6907', '6912', '6913', '6916', '6921', '6922', '6927', '6929', '693', '6936', '6947', '6948', '6950', '6970', '6972', '6975', '6980', '6985', '6989', '6992', '6996', '6998', '700', '7001', '7014', '7025', '7029', '7034', '7037', '7041', '7042', '7044', '7049', '7055', '7056', '7057', '7059', '7065', '7067', '707', '7071', '7075', '7078', '7079', '7080', '7082', '7083', '7084', '7085', '7087', '709', '7093', '71', '7101', '7102', '7103', '7113', '7114', '7118', '7119', '7120', '7125', '7129', '713', '7132', '7134', '7136', '7137', '7146', '7153', '7158', '7160', '7162', '7168', '7171', '7176', '718', '7181', '7185', '7187', '7188', '7190', '7191', '7197', '7200', '7206', '7207', '7211', '7215', '7217', '7219', '7224', '7226', '7233', '7234', '7236', '7237', '7240', '7243', '7257', '7258', '7259', '7261', '7268', '7273', '7279', '7281', '7283', '7284', '729', '7294', '73', '7300', '7301', '7311', '7315', '7316', '7323', '7325', '7328', '7332', '7333', '7334', '7336', '734', '7340', '7344', '7354', '7373', '7374', '7379', '7386', '7388', '7390', '7396', '7402', '7405', '7406', '7409', '7411', '7414', '7416', '7424', '7431', '7432', '7433', '7434', '7435', '7438', '7455', '7456', '7459', '7462', '7464', '7468', '747', '7471', '7473', '7474', '7480', '7485', '7492', '7494', '7496', '7499', '75', '7500', '7512', '7521', '7523', '7525', '7527', '7529', '753', '7537', '7538', '7545', '7548', '7549', '7554', '7557', '7562', '7574', '7575', '7580', '7582', '7589', '7595', '7600', '7607', '7615', '7617', '7621', '7622', '7623', '7625', '7627', '764', '7642', '7645', '7648', '765', '7650', '7652', '7655', '7663', '7666', '7668', '7672', '7677', '7681', '7684', '7685', '7688', '7689', '7691', '7694', '7712', '7718', '7720', '7723', '7728', '7735', '7739', '774', '7741', '7746', '775', '7752', '7754', '7759', '776', '7764', '7768', '7769', '7770', '7785', '7788', '7792', '7796', '7800', '7803', '7806', '7807', '7809', '782', '7829', '7831', '7832', '7835', '7840', '7844', '7846', '7848', '7850', '7852', '7856', '7860', '7861', '7868', '7876', '7877', '7878', '7882', '7892', '7896', '7898', '7902', '7905', '7908', '791', '7910', '7916', '7929', '793', '7932', '7941', '7943', '7948', '7953', '7954', '7955', '7959', '7964', '7967', '7980', '7981', '7985', '7993', '7998', '7999', '800', '8001', '8011', '8023', '8024', '8026', '8027', '8034', '8049', '8050', '8055', '806', '8060', '8066', '8070', '8072', '8073', '8076', '8078', '8080', '8081', '8082', '8087', '8088', '8092', '8093', '8094', '8099', '8102', '8103', '8104', '8105', '8108', '811', '8114', '8119', '8121', '8123', '8124', '8127', '813', '8130', '8131', '8133', '8134', '8136', '8138', '8139', '814', '8144', '8148', '8149', '815', '8153', '8161', '8162', '8163', '8164', '8167', '8170', '8175', '8179', '8183', '819', '8193', '8195', '8198', '8200', '8202', '8206', '8208', '821', '8212', '8220', '8223', '8226', '8228', '8230', '8231', '8232', '8236', '8238', '8241', '825', '8252', '8253', '8254', '8256', '8261', '8262', '8263', '8268', '8274', '828', '8280', '8282', '8286', '8292', '8294', '8296', '8297', '8302', '8303', '8305', '8308', '8309', '8314', '8328', '8330', '8336', '8341', '8343', '8344', '8351', '8357', '8360', '8362', '8363', '8367', '8370', '8371', '8374', '8380', '8388', '8392', '8394', '8395', '8396', '84', '8400', '8401', '8409', '8414', '8416', '8418', '842', '8421', '8422', '8423', '8425', '8428', '8429', '8435', '8436', '844', '8443', '8444', '8452', '8454', '8457', '8460', '8463', '8467', '8469', '8471', '8472', '8473', '8475', '8479', '8481', '8484', '8485', '8489', '8497', '8500', '8507', '8513', '8514', '8519', '852', '8522', '8524', '8528', '8529', '8530', '8536', '8538', '8540', '8543', '855', '8550', '8553', '8557', '8558', '8559', '8561', '8562', '8567', '8569', '857', '8571', '8574', '8575', '8577', '8580', '8581', '8589', '8591', '8593', '8601', '8602', '8603', '8605', '8606', '8611', '8619', '8620', '8628', '8630', '8631', '8636', '864', '8642', '8645', '8647', '8649', '8652', '8653', '8654', '8663', '8674', '8677', '8679', '8680', '8683', '8685', '8693', '8696', '8700', '8711', '8712', '8716', '8722', '8726', '8727', '8728', '8730', '8732', '8739', '8751', '8752', '8753', '876', '8764', '8766', '8767', '8773', '8777', '8779', '8787', '8793', '8796', '8802', '8804', '8812', '8815', '8820', '8824', '8825', '8830', '8832', '8837', '8842', '8856', '8868', '8874', '8876', '8879', '889', '8891', '8892', '8895', '8896', '8908', '891', '8913', '8916', '8918', '8919', '8920', '8923', '8926', '8928', '8930', '8932', '8933', '8935', '8936', '8939', '8940', '8941', '895', '8950', '8951', '8953', '8954', '8956', '8957', '896', '8961', '8965', '8966', '897', '8971', '8974', '8977', '8978', '8980', '8983', '8987', '8998', '8999', '900', '901', '9014', '9021', '9024', '9031', '9041', '9046', '9051', '9052', '9054', '9057', '9058', '9059', '906', '9060', '9071', '9075', '9078', '908', '9083', '9085', '9092', '9099', '9101', '9104', '9105', '9108', '9124', '9127', '9129', '9131', '9137', '9145', '9147', '915', '9150', '9155', '9156', '9157', '9158', '917', '9175', '9180', '9181', '9182', '9183', '9185', '9189', '919', '9191', '9193', '9197', '920', '9200', '9210', '9214', '9218', '9232', '9240', '9241', '9244', '9245', '9252', '9253', '9262', '9265', '9268', '927', '9271', '928', '9290', '9291', '9295', '9299', '9301', '9302', '9308', '9309', '9312', '9313', '9318', '9321', '9322', '9331', '9332', '9333', '9335', '9336', '9338', '9341', '9342', '9343', '9345', '9348', '9349', '935', '9354', '9356', '9357', '936', '9361', '9365', '9376', '9378', '9380', '9381', '9387', '9389', '9390', '9391', '9393', '9395', '9397', '9399', '94', '9405', '9406', '9411', '9412', '942', '9421', '9424', '943', '9435', '9436', '9437', '9439', '9443', '9444', '9446', '9448', '945', '9455', '9461', '9469', '9470', '9478', '9484', '9485', '9486', '949', '9490', '9491', '9492', '9494', '9498', '9502', '9515', '9520', '9521', '9525', '9527', '9529', '953', '9530', '9532', '9534', '954', '9540', '9545', '9549', '9550', '9552', '9553', '9563', '9568', '9571', '9572', '9573', '9578', '958', '9582', '9587', '9598', '9599', '9600', '9601', '9608', '9609', '961', '9613', '9615', '962', '9620', '9621', '9623', '9625', '9626', '9627', '9629', '9631', '9632', '9637', '9638', '9640', '9642', '9643', '9644', '9652', '9654', '9656', '9658', '966', '9661', '9662', '9665', '9670', '9672', '9674', '9679', '9681', '9682', '9683', '9684', '9688', '9692', '9694', '9695', '9696', '9698', '97', '9700', '9704', '9707', '9709', '9710', '9711', '9713', '9714', '9717', '9719', '972', '9720', '9723', '9724', '9732', '9733', '9734', '9738', '9739', '9740', '9743', '9745', '9747', '9752', '9756', '9758', '976', '9762', '9766', '9767', '9770', '9774', '9776', '9777', '9778', '9781', '9784', '9790', '9801', '9805', '9806', '9811', '9815', '9819', '9820', '9825', '9828', '9829', '9831', '9833', '9834', '984', '9851', '9855', '9860', '9862', '9863', '9865', '9868', '987', '9877', '9880', '9887', '9888', '9890', '9892', '990', '9908', '9910', '9911', '992', '9922', '9923', '9926', '9928', '993', '9935', '9943', '9950', '9954', '9956', '9957', '9959', '9961', '9962', '9966', '997', '9981', '9985', '9989', '9992', '9993', '9998']\n"
          ]
        }
      ]
    },
    {
      "cell_type": "markdown",
      "source": [
        "# 5. ArcFace do modelo"
      ],
      "metadata": {
        "id": "UAkD4hitwq-2"
      }
    },
    {
      "cell_type": "code",
      "source": [
        "class ArcFace(nn.Module):\n",
        "  \"\"\"Classe que representa a implementação do ArcFace.\n",
        "  \"\"\"\n",
        "\n",
        "  def __init__(self, in_features, out_features, s=30.0, m=0.50):\n",
        "    \"\"\"Implementação do cabeçalho ArcFace para classificação com margem angular.\n",
        "\n",
        "    Args:\n",
        "      in_features (int): Dimensão dos embeddings de entrada.\n",
        "      out_features (int): Número de classes.\n",
        "      s (float, opcional): Fator de escala aplicado aos logits (padrão: 30.0).\n",
        "      m (float, opcional): Margem angular aplicada à classe correta\n",
        "      (padrão: 0.50).\n",
        "    \"\"\"\n",
        "    super(ArcFace, self).__init__()\n",
        "    self.in_features = in_features\n",
        "    self.out_features = out_features\n",
        "    self.s = s\n",
        "    self.m = m\n",
        "\n",
        "    self.weight = nn.Parameter(torch.FloatTensor(out_features, in_features))\n",
        "    nn.init.xavier_uniform_(self.weight)\n",
        "\n",
        "  def forward(self, embedding, label):\n",
        "    \"\"\"\n",
        "    Executa a passagem direta do ArcFace.\n",
        "\n",
        "    Args:\n",
        "      embedding (torch.Tensor): Tensor de embeddings normalizados de tamanho\n",
        "      (batch_size, in_features).\n",
        "      label (torch.Tensor): Tensor de rótulos de classe de\n",
        "      tamanho (batch_size,).\n",
        "\n",
        "    Returns:\n",
        "      torch.Tensor: Logits com margem angular aplicada,\n",
        "      prontos para função de perda.\n",
        "    \"\"\"\n",
        "    cosine = F.linear(F.normalize(embedding), F.normalize(self.weight))\n",
        "\n",
        "    theta = torch.acos(torch.clamp(cosine, -1.0, 1.0))\n",
        "    target_logit = torch.cos(theta + self.m)\n",
        "\n",
        "    one_hot = torch.zeros(cosine.size(), device=embedding.device)\n",
        "    one_hot.scatter_(1, label.view(-1, 1).long(), 1)\n",
        "\n",
        "    output = (one_hot * target_logit) + ((1.0 - one_hot) * cosine)\n",
        "\n",
        "    output *= self.s\n",
        "    return output"
      ],
      "metadata": {
        "id": "p4g1PyskC8y1"
      },
      "execution_count": null,
      "outputs": []
    },
    {
      "cell_type": "code",
      "source": [
        "from facenet_pytorch import InceptionResnetV1\n",
        "\n",
        "class FaceRecognitionModelWithArcFace(nn.Module):\n",
        "  \"\"\"Modelo de reconhecimento facial que utiliza InceptionResnetV1 com ArcFace.\n",
        "  \"\"\"\n",
        "\n",
        "  def __init__(self, num_classes, embedding_size=512, s=30.0, m=0.5):\n",
        "    \"\"\"Inicizaliza o modelo\n",
        "\n",
        "    Args:\n",
        "      num_classes (int): Número de classes (rótulos/labels)\n",
        "      embedding_size: Tamanho dos embeddings gerados pelo modelo (padrão: 512).\n",
        "      s (float, opcional): Fator de escala aplicado aos logits (padrão: 30.0).\n",
        "      m (float, opcional): Margem angular aplicada à classe correta\n",
        "      (padrão: 0.50).\n",
        "    \"\"\"\n",
        "    super(FaceRecognitionModelWithArcFace, self).__init__()\n",
        "\n",
        "    self.backbone = InceptionResnetV1(\n",
        "        pretrained='vggface2',\n",
        "        classify=False,\n",
        "        num_classes=None\n",
        "    )\n",
        "\n",
        "    self.head = ArcFace(\n",
        "        in_features=embedding_size,\n",
        "        out_features=num_classes,\n",
        "        s=s,\n",
        "        m=m\n",
        "    )\n",
        "\n",
        "  def forward(self, image, label):\n",
        "    \"\"\"Executa a passagem direta pelo modelo de reconhecimento facial\n",
        "\n",
        "    Args:\n",
        "      image (torch.Tensor): Batch da imagem, no formato (B, C, H, W).\n",
        "      label (torch.Tensor): Tensor de rótulos de classe.\n",
        "\n",
        "    Returns:\n",
        "      torch.Tensor: Logits com margem angular aplicada pelo ArcFace.\n",
        "    \"\"\"\n",
        "    embedding = self.backbone(image)\n",
        "\n",
        "    logits = self.head(embedding, label)\n",
        "\n",
        "    return logits\n",
        "\n",
        "  def get_embedding(self, image):\n",
        "    \"\"\"\n",
        "    Extrai o embedding da imagem usando apenas o backbone.\n",
        "    \"\"\"\n",
        "    return self.backbone(image)"
      ],
      "metadata": {
        "id": "fpS_46PODHvL"
      },
      "execution_count": null,
      "outputs": []
    },
    {
      "cell_type": "code",
      "source": [
        "num_classes_train = len(train_full_dataset.class_names_original)\n",
        "\n",
        "arcface_model = FaceRecognitionModelWithArcFace(num_classes=num_classes_train).to(device)\n",
        "\n",
        "print(f\"Modelo InceptionResnetV1 (para fine-tuning) carregado em: {next(arcface_model.parameters()).device}\")"
      ],
      "metadata": {
        "id": "SrfOzQduwrSu"
      },
      "execution_count": null,
      "outputs": []
    },
    {
      "cell_type": "markdown",
      "source": [
        "# 6. Loop K Fold"
      ],
      "metadata": {
        "id": "F8TYx_u7s7-g"
      }
    },
    {
      "cell_type": "code",
      "source": [
        "try:\n",
        "  import torchmetrics\n",
        "except:\n",
        "  print(\"Instalando torchmetrics\")\n",
        "  !pip install -q torchmetrics\n",
        "  import torchmetrics\n",
        "\n",
        "from torchmetrics import Accuracy, Precision, Recall, F1Score, ConfusionMatrix"
      ],
      "metadata": {
        "id": "Uznw3Jvr5DBH",
        "colab": {
          "base_uri": "https://localhost:8080/"
        },
        "outputId": "a89bd9e6-7282-4e96-d3a2-5cbf2c5e0db4"
      },
      "execution_count": null,
      "outputs": [
        {
          "output_type": "stream",
          "name": "stdout",
          "text": [
            "Instalando torchmetrics e mlxtend...\n",
            "\u001b[2K   \u001b[90m━━━━━━━━━━━━━━━━━━━━━━━━━━━━━━━━━━━━━━━━\u001b[0m \u001b[32m962.6/962.6 kB\u001b[0m \u001b[31m57.2 MB/s\u001b[0m eta \u001b[36m0:00:00\u001b[0m\n",
            "\u001b[?25hmlxtend version 0.23.4\n"
          ]
        }
      ]
    },
    {
      "cell_type": "code",
      "source": [
        "def extract_embeddings_fn(dataloader, model, device):\n",
        "  \"\"\"Função responsável por extrair os embeddings de imagens\n",
        "\n",
        "  Args:\n",
        "    dataloader (torch.utils.data.Dataloader): Dataloader que contém os dados\n",
        "    sobre as imagens.\n",
        "    model (torch.nn.Module): Modelo que gera os embeddings a partir das imagens.\n",
        "    device (torch.device): Dispositivo no qual as inferências serão executadas.\n",
        "    Sendo 'cpu' ou 'cuda'\n",
        "\n",
        "  Returns:\n",
        "    tuple (np.ndarray, np.darray, list[str]):\n",
        "      - embeddings (np.ndarray): Lista de embeddings normalizados.\n",
        "      - labels (np.ndarray): Lista com os rótulos das amostras.\n",
        "      - paths (list[str]]): Lista com os caminhos originais das imagens.\n",
        "\n",
        "  \"\"\"\n",
        "  model.eval()\n",
        "\n",
        "  embeddings_list = []\n",
        "  labels_list = []\n",
        "  paths_list = []\n",
        "\n",
        "  with torch.inference_mode():\n",
        "    # O loop passa por todas as imagens do dataloader\n",
        "    for imgs, labels, paths in tqdm(dataloader, desc=\"Extraindo embeddings\"):\n",
        "      imgs = imgs.to(device)\n",
        "\n",
        "      embeddings = model(imgs).cpu().numpy()\n",
        "\n",
        "      # Armazena os resultados\n",
        "      embeddings_list.append(embeddings)\n",
        "\n",
        "      labels_list.extend(labels.cpu().numpy())\n",
        "\n",
        "      paths_list.extend(list(paths)) # Garantir que paths seja uma lista de strings\n",
        "\n",
        "  return np.vstack(embeddings_list), np.array(labels_list), paths_list"
      ],
      "metadata": {
        "id": "w-4d3YZFxpYJ"
      },
      "execution_count": null,
      "outputs": []
    },
    {
      "cell_type": "code",
      "source": [
        "def evaluate_identification_metrics_batched(gallery_embeds,\n",
        "                                            gallery_lbls,\n",
        "                                            gallery_paths,\n",
        "                                            probe_embeds_full,\n",
        "                                            probe_lbls_full,\n",
        "                                            probe_paths_full,\n",
        "                                            k_ranks=[1, 5, 10],\n",
        "                                            batch_size=256): # Adicionado\n",
        "                                            #batch_size para controlar o uso de\n",
        "                                            #memória\n",
        "  \"\"\"\n",
        "  Avalia métricas de identificação processando embeddings da sonda em batches\n",
        "  para economizar memória.\n",
        "\n",
        "  O método utiliza distância euclidiana entre os embeddings da galeria e\n",
        "  das sondas (probes) para calcular métricas de identificação Rank-k, além de\n",
        "  métricas adicionais (acurácia, precisão, recall, F1 e matriz de confusão)\n",
        "  com base na predição Rank-1.\n",
        "\n",
        "  Args:\n",
        "    gallery_embeds (np.ndarray): Embeddings da galeria.\n",
        "    gallery_lbls (np.ndarray): Rótulos da galeria.\n",
        "    gallery_paths (list[str]): Caminhos absolutos para cada imagem da galeria.\n",
        "    probe_embeds_full (np.ndarray): Embeddings das imagens de consulta.\n",
        "    probe_lbls_full (np.ndarray): Rótulos das imagens de consulta.\n",
        "    probe_paths_full (list[str]): Caminhos absolutos para cada imagem de\n",
        "    consulta.\n",
        "    k_ranks (list[int], optional): Lista de valores k para cálculo do\n",
        "    Rank-k (padrão: [1, 5, 10, 20]).\n",
        "    batch_size (int, optional): Número de sondas processadas por batch para reduzir\n",
        "    o consumo de memória. Default é 256.\n",
        "\n",
        "  Returns:\n",
        "    tuple:\n",
        "      - dict: Rank-k accuracies, no formato {k: accuracy}.\n",
        "      - list[dict]: Lista de erros, onde cada item contém:\n",
        "      - 'probe_path' (str): Caminho da imagem da sonda.\n",
        "      - 'true_label' (int): Rótulo verdadeiro da sonda.\n",
        "      - 'predicted_label' (int): Rótulo predito Rank-1.\n",
        "      - 'predicted_gallery_path' (str): Caminho da imagem da galeria escolhida Rank-1.\n",
        "      - 'distance' (float): Distância euclidiana entre a sonda e a predição Rank-1.\n",
        "  \"\"\"\n",
        "  num_probes_total = len(probe_lbls_full)\n",
        "\n",
        "  correct_at_k = {k: 0 for k in k_ranks}\n",
        "\n",
        "  all_predicted_gallery_labels_rank1 = []\n",
        "\n",
        "  print(f\"Iniciando avaliação em batches. Tamanho do batch de probes: {batch_size}\")\n",
        "\n",
        "  for i in tqdm(range(0, num_probes_total, batch_size), desc=\"Processando batches de probes\"):\n",
        "    # Pega o batch atual de probes\n",
        "    probe_embeds_batch = probe_embeds_full[i:i + batch_size]\n",
        "    probe_lbls_batch = probe_lbls_full[i:i + batch_size]\n",
        "\n",
        "    if len(probe_embeds_batch) == 0:\n",
        "      continue\n",
        "\n",
        "    # Calcula similaridade/distância para o batch atual de probes\n",
        "    distances_batch = euclidean_distances(probe_embeds_batch, gallery_embeds)\n",
        "\n",
        "    # Indices das predições ordenadas por similaridade (maior primeiro) para o batch\n",
        "    sorted_pred_indices_batch = np.argsort(distances_batch, axis=1)\n",
        "\n",
        "    current_batch_predicted_labels_rank1 = gallery_lbls[sorted_pred_indices_batch[:, 0]]\n",
        "    all_predicted_gallery_labels_rank1.extend(current_batch_predicted_labels_rank1)\n",
        "\n",
        "    # Calcula Rank-k para o batch\n",
        "    for j in range(len(probe_lbls_batch)):\n",
        "      probe_label = probe_lbls_batch[j]\n",
        "\n",
        "      predicted_gallery_labels_for_probe = gallery_lbls[sorted_pred_indices_batch[j, :max(k_ranks)]]\n",
        "\n",
        "      for k_val in k_ranks:\n",
        "        if probe_label in predicted_gallery_labels_for_probe[:k_val]:\n",
        "          correct_at_k[k_val] += 1\n",
        "\n",
        "  print(\"Processamento em batches concluído.\")\n",
        "\n",
        "  # Calcula acurácia Rank-k final\n",
        "  rank_k_accuracies = {k: count / num_probes_total for k, count in correct_at_k.items()}\n",
        "  for k, acc in rank_k_accuracies.items():\n",
        "    print(f\"Rank-{k} Accuracy: {acc * 100:.2f}%\")\n",
        "\n",
        "  # Plotar CMC\n",
        "  cmc_ranks = np.array(list(rank_k_accuracies.keys()))\n",
        "  cmc_accuracies = np.array(list(rank_k_accuracies.values()))\n",
        "  sort_idx = np.argsort(cmc_ranks)\n",
        "  cmc_ranks, cmc_accuracies = cmc_ranks[sort_idx], cmc_accuracies[sort_idx]\n",
        "\n",
        "  plt.figure(figsize=(8, 5))\n",
        "  plt.plot(cmc_ranks, cmc_accuracies, marker='o')\n",
        "  plt.title('Curva Característica Cumulativa (CMC)')\n",
        "  plt.xlabel('Rank (k)')\n",
        "  plt.ylabel('Taxa de Identificação Acumulada')\n",
        "  plt.grid(True)\n",
        "  plt.xticks(k_ranks)\n",
        "  plt.ylim([0, 1.05])\n",
        "  plt.show()\n",
        "\n",
        "  if all_predicted_gallery_labels_rank1:\n",
        "    y_pred_rank1_tensor = torch.tensor(all_predicted_gallery_labels_rank1)\n",
        "    y_true_tensor = torch.tensor(probe_lbls_full) # Labels de todas as sondas\n",
        "\n",
        "    num_gallery_classes = len(np.unique(gallery_lbls)) # Calcula a partir dos rótulos da galeria\n",
        "    gallery_class_names_original_list = [str(i) for i in range(num_gallery_classes)]\n",
        "\n",
        "    if num_gallery_classes > 0:\n",
        "      accuracy_metric = Accuracy(task=\"multiclass\", num_classes=num_gallery_classes, average=\"weighted\")\n",
        "      precision_metric = Precision(task=\"multiclass\", num_classes=num_gallery_classes, average=\"weighted\")\n",
        "      recall_metric = Recall(task=\"multiclass\", num_classes=num_gallery_classes, average=\"weighted\")\n",
        "      f1_metric = F1Score(task=\"multiclass\", num_classes=num_gallery_classes, average=\"weighted\")\n",
        "      confmat_metric = ConfusionMatrix(task=\"multiclass\", num_classes=num_gallery_classes)\n",
        "\n",
        "      acc_tm = accuracy_metric(y_pred_rank1_tensor, y_true_tensor).item()\n",
        "      prec_tm = precision_metric(y_pred_rank1_tensor, y_true_tensor).item()\n",
        "      rec_tm = recall_metric(y_pred_rank1_tensor, y_true_tensor).item()\n",
        "      f1_tm = f1_metric(y_pred_rank1_tensor, y_true_tensor).item()\n",
        "\n",
        "      print(\"\\nMétricas (TorchMetrics, baseadas em Rank-1, average='weighted'):\")\n",
        "      print(f\"  Acurácia: {acc_tm:.4f}\")\n",
        "      print(f\"  Precisão: {prec_tm:.4f}\")\n",
        "      print(f\"  Recall:   {rec_tm:.4f}\")\n",
        "      print(f\"  F1-score: {f1_tm:.4f}\")\n",
        "\n",
        "      cf_matrix_tm = confmat_metric(y_pred_rank1_tensor, y_true_tensor).cpu().numpy()\n",
        "\n",
        "      if num_gallery_classes <= 20:\n",
        "        plt.figure(figsize=(10, 8))\n",
        "        sns.heatmap(cf_matrix_tm, annot=True, fmt='d', cmap='Blues',\n",
        "                    xticklabels=gallery_class_names_original_list[:num_gallery_classes],\n",
        "                    yticklabels=gallery_class_names_original_list[:num_gallery_classes])\n",
        "        plt.title(\"Matriz de Confusão (Rank-1 Predictions)\")\n",
        "        plt.xlabel(\"Predito\")\n",
        "        plt.ylabel(\"Verdadeiro\")\n",
        "        plt.show()\n",
        "      else:\n",
        "        print(\"Matriz de confusão muito grande para plotar com detalhes.\")\n",
        "    else:\n",
        "      print(\"Nenhuma classe na galeria para calcular métricas adicionais.\")\n",
        "  else:\n",
        "    print(\"Nenhuma predição Rank-1 coletada, métricas adicionais não calculadas.\")\n",
        "\n",
        "  rank_k_accuracies = {k: count / num_probes_total for k, count in correct_at_k.items()}\n",
        "\n",
        "  return rank_k_accuracies"
      ],
      "metadata": {
        "id": "vgz2FKvGoKpV"
      },
      "execution_count": null,
      "outputs": []
    },
    {
      "cell_type": "code",
      "source": [
        "BATCH_SIZE = 32\n",
        "\n",
        "# Iniciar o loop de K-Fold\n",
        "for fold, (train_indices, val_indices) in enumerate(skf.split(np.zeros(len(full_train_labels)), full_train_labels)):\n",
        "  print(f\"================== FOLD {fold + 1}/{K_FOLDS} ==================\")\n",
        "\n",
        "  # 1. Criando DataLoaders\n",
        "  print(\"Criando DataLoaders para o fold atual...\")\n",
        "\n",
        "  # Criar samplers a partir dos índices gerados pelo KFold\n",
        "  train_sampler = torch.utils.data.SubsetRandomSampler(train_indices)\n",
        "  val_sampler = torch.utils.data.SubsetRandomSampler(val_indices)\n",
        "\n",
        "  # Criação de Datasets\n",
        "  train_dataset_fold = QMULImageDataset(root_dir=train_path, transform=train_transform, is_train_set=True)\n",
        "  val_dataset_fold = QMULImageDataset(root_dir=train_path, transform=val_test_transform, is_train_set=True)\n",
        "\n",
        "  # Criar os DataLoaders\n",
        "  train_loader = DataLoader(train_dataset_fold,\n",
        "                            batch_size=BATCH_SIZE,\n",
        "                            sampler=train_sampler)\n",
        "\n",
        "  val_loader = DataLoader(val_dataset_fold,\n",
        "                          batch_size=BATCH_SIZE,\n",
        "                          sampler=val_sampler)\n",
        "\n",
        "  gallery_loader = DataLoader(gallery_dataset,\n",
        "                              batch_size=BATCH_SIZE,\n",
        "                              shuffle=False)\n",
        "\n",
        "  probe_loader = DataLoader(probe_dataset,\n",
        "                            batch_size=BATCH_SIZE,\n",
        "                            shuffle=False)\n",
        "\n",
        "  # 2. Iniciando modelo, optimizer e loss\n",
        "  print(\"Inicializando novo modelo e otimizador...\")\n",
        "\n",
        "  num_classes_train = len(full_train_dataset.class_names_original)\n",
        "\n",
        "  arcface_model_fold = FaceRecognitionModelWithArcFace(num_classes=num_classes_train).to(device)\n",
        "\n",
        "  optimizer = torch.optim.Adam(arcface_model_fold.parameters(),\n",
        "                               lr=0.00005,\n",
        "                               weight_decay=0.00001)\n",
        "\n",
        "  loss_fn = nn.CrossEntropyLoss()\n",
        "\n",
        "  scheduler = torch.optim.lr_scheduler.ReduceLROnPlateau(optimizer,\n",
        "                                                         mode='min',\n",
        "                                                         factor=0.1,\n",
        "                                                         patience=3)\n",
        "\n",
        "  # 3. Loop de treinamento\n",
        "  # Variáveis para guardar o melhor modelo\n",
        "  best_val_loss = float('inf')\n",
        "\n",
        "  best_model_state = None\n",
        "\n",
        "  patience_counter = 0\n",
        "\n",
        "  early_stopping_patience = 10\n",
        "\n",
        "  start_time_total_train = timer()\n",
        "\n",
        "  for epoch in range(EPOCHS_PER_FOLD):\n",
        "    # Fase de Treinamento\n",
        "    arcface_model_fold.train()\n",
        "\n",
        "    running_loss_train = 0.0\n",
        "    running_acc_train = 0.0\n",
        "    train_batches = 0\n",
        "\n",
        "    loop_train = tqdm(train_loader, desc=f\"Epoch {epoch + 1}/{EPOCHS_PER_FOLD} [Treino]\", leave=False)\n",
        "\n",
        "    for images, labels, _ in loop_train:\n",
        "      images, labels = images.to(device), labels.to(device)\n",
        "\n",
        "      # 1. Forward pass com imagem e rótulo para o ArcFace\n",
        "      outputs = arcface_model_fold(images, labels)\n",
        "\n",
        "      # 2. Calcular a perda\n",
        "      loss = loss_fn(outputs, labels)\n",
        "      running_loss_train += loss.item()\n",
        "\n",
        "      # 3. Zerar o gradiente do otimizador\n",
        "      optimizer.zero_grad()\n",
        "\n",
        "      # 4. Loss backward (Backpropagation)\n",
        "      loss.backward()\n",
        "\n",
        "      # 5. Step do otimizador\n",
        "      optimizer.step()\n",
        "\n",
        "      preds = torch.argmax(outputs, dim=1)\n",
        "\n",
        "      running_acc_train += (preds == labels).float().mean().item() # Média da acurácia do batch\n",
        "\n",
        "      train_batches +=1\n",
        "\n",
        "      loop_train.set_postfix(loss=loss.item())\n",
        "\n",
        "    avg_loss_train = running_loss_train / train_batches\n",
        "    avg_acc_train = running_acc_train / train_batches\n",
        "\n",
        "    # Fase de Validação\n",
        "    arcface_model_fold.eval()\n",
        "\n",
        "    running_loss_val = 0.0\n",
        "    running_acc_val = 0.0\n",
        "    val_batches = 0\n",
        "\n",
        "    with torch.inference_mode():\n",
        "      loop_val = tqdm(val_loader, desc=f\"Epoch {epoch + 1}/{EPOCHS_PER_FOLD} [Validação]\", leave=False)\n",
        "\n",
        "      for images, labels, _ in loop_val:\n",
        "        images, labels = images.to(device), labels.to(device)\n",
        "\n",
        "        # 1. Forward pass com imagem e rótulo\n",
        "        outputs = arcface_model_fold(images, labels)\n",
        "\n",
        "        # 2. Calcular a perda\n",
        "        loss = loss_fn(outputs, labels)\n",
        "        running_loss_val += loss.item()\n",
        "\n",
        "        preds = torch.argmax(outputs, dim=1)\n",
        "\n",
        "        running_acc_val += (preds == labels).float().mean().item()\n",
        "\n",
        "        val_batches +=1\n",
        "\n",
        "        loop_val.set_postfix(val_loss=loss.item())\n",
        "\n",
        "    avg_loss_val = running_loss_val / val_batches\n",
        "    avg_acc_val = running_acc_val / val_batches\n",
        "\n",
        "    print(f\"Epoch {epoch+1}/{EPOCHS_PER_FOLD} | Treino Loss: {avg_loss_train:.4f}, Treino Acc: {avg_acc_train:.4f} | \"\n",
        "          f\"Val Loss: {avg_loss_val:.4f}, Val Acc: {avg_acc_val:.4f}\")\n",
        "\n",
        "    # Atualizar scheduler\n",
        "    scheduler.step(avg_loss_val)\n",
        "\n",
        "    # Salvar o melhor modelo e Early Stopping\n",
        "    if avg_loss_val < best_val_loss:\n",
        "      best_val_loss = avg_loss_val\n",
        "      # Salvar uma cópia profunda do estado do modelo\n",
        "      best_model_state = copy.deepcopy(arcface_model_fold.state_dict())\n",
        "      patience_counter = 0\n",
        "      print(f\"  Novo melhor modelo encontrado! Val Loss: {best_val_loss:.4f}. Salvando estado...\")\n",
        "    else:\n",
        "      patience_counter += 1\n",
        "\n",
        "    if patience_counter >= early_stopping_patience:\n",
        "      print(f\"  Early stopping at epoch {epoch + 1} as validation loss did not improve for {early_stopping_patience} epoch.\")\n",
        "      break # Interromper o loop de treinamento\n",
        "\n",
        "  end_time_total_train = timer()\n",
        "\n",
        "  print(f\"\\nTempo total de treinamento: {end_time_total_train - start_time_total_train:.3f} segundos\")\n",
        "\n",
        "  print(f\"\\nTreinamento do Fold {fold+1} concluído.\")\n",
        "\n",
        "  # Se houver, carregar o melhor modelo salvo\n",
        "  if best_model_state:\n",
        "    arcface_model_fold.load_state_dict(best_model_state)\n",
        "    print(\"Melhor estado do modelo carregado para avaliação.\")\n",
        "\n",
        "  # Salvando o modelo fine-tuned\n",
        "  MODEL_PATH = Path(\"models\")\n",
        "\n",
        "  MODEL_PATH.mkdir(parents=True, exist_ok=True)\n",
        "\n",
        "  MODEL_NAME = f'best_model_fold_{fold + 1}.pth'\n",
        "\n",
        "  MODEL_SAVE_PATH = MODEL_PATH / MODEL_NAME\n",
        "\n",
        "  print(f\"Salvando o state_dict do modelo fine-tuned em: {MODEL_SAVE_PATH}\")\n",
        "\n",
        "  torch.save(obj=arcface_model_fold.state_dict(), f=MODEL_SAVE_PATH)\n",
        "\n",
        "  print(f\"Modelo salvo como {MODEL_NAME}\")\n",
        "\n",
        "  # 4. Avaliar com o melhor modelo encontrado\n",
        "  arcface_model_fold.load_state_dict(torch.load(MODEL_SAVE_PATH, map_location=device, weights_only=True))\n",
        "\n",
        "  # Extraindo o backbone\n",
        "  model_for_eval = arcface_model_fold.backbone\n",
        "\n",
        "  model_for_eval.eval()\n",
        "\n",
        "  gallery_embeddings, gallery_labels, gallery_paths = extract_embeddings_fn(gallery_loader, model_for_eval, device)\n",
        "  probe_embeddings, probe_labels, probe_paths = extract_embeddings_fn(probe_loader, model_for_eval, device)\n",
        "\n",
        "  print(f\"Shape dos embeddings da galeria: {gallery_embeddings.shape}\")\n",
        "\n",
        "  print(f\"Shape dos embeddings da probe: {probe_embeddings.shape}\")\n",
        "\n",
        "  # Calcule as métricas de identificação\n",
        "  rank_accuracies, error_log = evaluate_identification_metrics_batched(\n",
        "      gallery_embeds=gallery_embeddings,\n",
        "      gallery_lbls=gallery_labels,\n",
        "      gallery_paths=gallery_paths,\n",
        "      probe_embeds_full=probe_embeddings,\n",
        "      probe_lbls_full=probe_labels,\n",
        "      probe_paths_full=probe_paths,\n",
        "      k_ranks=[1, 5, 10, 20],\n",
        "      batch_size=256\n",
        "  )\n",
        "\n",
        "  # Guarde o resultado do Rank-1 para este fold\n",
        "  rank1_accuracy = rank_accuracies[1]\n",
        "  print(f\"Rank-1 Accuracy para o Fold {fold+1}: {rank1_accuracy*100:.2f}%\")\n",
        "  results[f'fold_{fold+1}'] = rank1_accuracy"
      ],
      "metadata": {
        "colab": {
          "base_uri": "https://localhost:8080/",
          "height": 1000
        },
        "id": "Nxhxpl8Ts5yk",
        "outputId": "dd2fce54-7ba2-4a4d-dfcc-03ba8788ea34"
      },
      "execution_count": null,
      "outputs": [
        {
          "metadata": {
            "tags": null
          },
          "name": "stderr",
          "output_type": "stream",
          "text": [
            "/usr/local/lib/python3.11/dist-packages/sklearn/model_selection/_split.py:805: UserWarning: The least populated class in y has only 2 members, which is less than n_splits=5.\n",
            "  warnings.warn(\n"
          ]
        },
        {
          "metadata": {
            "tags": null
          },
          "name": "stdout",
          "output_type": "stream",
          "text": [
            "================== FOLD 1/5 ==================\n",
            "Criando DataLoaders para o fold atual...\n",
            "Inicializando novo modelo e otimizador...\n"
          ]
        },
        {
          "data": {
            "application/vnd.jupyter.widget-view+json": {
              "model_id": "e461fa24d5304ba4bc6eaae0fd6c7b5f",
              "version_major": 2,
              "version_minor": 0
            },
            "text/plain": [
              "  0%|          | 0.00/107M [00:00<?, ?B/s]"
            ]
          },
          "metadata": {},
          "output_type": "display_data"
        },
        {
          "metadata": {
            "tags": null
          },
          "name": "stderr",
          "output_type": "stream",
          "text": [
            "/usr/local/lib/python3.11/dist-packages/facenet_pytorch/models/inception_resnet_v1.py:329: FutureWarning: You are using `torch.load` with `weights_only=False` (the current default value), which uses the default pickle module implicitly. It is possible to construct malicious pickle data which will execute arbitrary code during unpickling (See https://github.com/pytorch/pytorch/blob/main/SECURITY.md#untrusted-models for more details). In a future release, the default value for `weights_only` will be flipped to `True`. This limits the functions that could be executed during unpickling. Arbitrary objects will no longer be allowed to be loaded via this mode unless they are explicitly allowlisted by the user via `torch.serialization.add_safe_globals`. We recommend you start setting `weights_only=True` for any use case where you don't have full control of the loaded file. Please open an issue on GitHub for any issues related to this experimental feature.\n",
            "  state_dict = torch.load(cached_file)\n"
          ]
        },
        {
          "data": {
            "application/vnd.jupyter.widget-view+json": {
              "model_id": "f0b24746c86a40699c6309889ff111d8",
              "version_major": 2,
              "version_minor": 0
            },
            "text/plain": [
              "Epoch 1/15 [Treino]:   0%|          | 0/5523 [00:00<?, ?it/s]"
            ]
          },
          "metadata": {},
          "output_type": "display_data"
        },
        {
          "data": {
            "application/vnd.jupyter.widget-view+json": {
              "model_id": "4ff62f54d14d435db436fc75161c06d0",
              "version_major": 2,
              "version_minor": 0
            },
            "text/plain": [
              "Epoch 1/15 [Validação]:   0%|          | 0/1381 [00:00<?, ?it/s]"
            ]
          },
          "metadata": {},
          "output_type": "display_data"
        },
        {
          "metadata": {
            "tags": null
          },
          "name": "stdout",
          "output_type": "stream",
          "text": [
            "Epoch 1/15 | Treino Loss: 20.0189, Treino Acc: 0.0000 | Val Loss: 17.3712, Val Acc: 0.0035\n",
            "  Novo melhor modelo encontrado! Val Loss: 17.3712. Salvando estado...\n"
          ]
        },
        {
          "data": {
            "application/vnd.jupyter.widget-view+json": {
              "model_id": "523a77ee5fb84cc4a11dd2226f81434e",
              "version_major": 2,
              "version_minor": 0
            },
            "text/plain": [
              "Epoch 2/15 [Treino]:   0%|          | 0/5523 [00:00<?, ?it/s]"
            ]
          },
          "metadata": {},
          "output_type": "display_data"
        },
        {
          "data": {
            "application/vnd.jupyter.widget-view+json": {
              "model_id": "d8576596eb5f4089ace731a0a4faf4c1",
              "version_major": 2,
              "version_minor": 0
            },
            "text/plain": [
              "Epoch 2/15 [Validação]:   0%|          | 0/1381 [00:00<?, ?it/s]"
            ]
          },
          "metadata": {},
          "output_type": "display_data"
        },
        {
          "metadata": {
            "tags": null
          },
          "name": "stdout",
          "output_type": "stream",
          "text": [
            "Epoch 2/15 | Treino Loss: 16.6170, Treino Acc: 0.0120 | Val Loss: 14.1141, Val Acc: 0.0536\n",
            "  Novo melhor modelo encontrado! Val Loss: 14.1141. Salvando estado...\n"
          ]
        },
        {
          "data": {
            "application/vnd.jupyter.widget-view+json": {
              "model_id": "7c908e66f8454d83ab9eba2427de9695",
              "version_major": 2,
              "version_minor": 0
            },
            "text/plain": [
              "Epoch 3/15 [Treino]:   0%|          | 0/5523 [00:00<?, ?it/s]"
            ]
          },
          "metadata": {},
          "output_type": "display_data"
        },
        {
          "data": {
            "application/vnd.jupyter.widget-view+json": {
              "model_id": "4bce16efb7c042b5aaa44db4e427cabc",
              "version_major": 2,
              "version_minor": 0
            },
            "text/plain": [
              "Epoch 3/15 [Validação]:   0%|          | 0/1381 [00:00<?, ?it/s]"
            ]
          },
          "metadata": {},
          "output_type": "display_data"
        },
        {
          "metadata": {
            "tags": null
          },
          "name": "stdout",
          "output_type": "stream",
          "text": [
            "Epoch 3/15 | Treino Loss: 14.0218, Treino Acc: 0.0608 | Val Loss: 11.6139, Val Acc: 0.1669\n",
            "  Novo melhor modelo encontrado! Val Loss: 11.6139. Salvando estado...\n"
          ]
        },
        {
          "data": {
            "application/vnd.jupyter.widget-view+json": {
              "model_id": "967345bf14d44f26963f8ec4a1ec37aa",
              "version_major": 2,
              "version_minor": 0
            },
            "text/plain": [
              "Epoch 4/15 [Treino]:   0%|          | 0/5523 [00:00<?, ?it/s]"
            ]
          },
          "metadata": {},
          "output_type": "display_data"
        },
        {
          "data": {
            "application/vnd.jupyter.widget-view+json": {
              "model_id": "3cffcb6fc2eb4020914fc7c5599a377e",
              "version_major": 2,
              "version_minor": 0
            },
            "text/plain": [
              "Epoch 4/15 [Validação]:   0%|          | 0/1381 [00:00<?, ?it/s]"
            ]
          },
          "metadata": {},
          "output_type": "display_data"
        },
        {
          "metadata": {
            "tags": null
          },
          "name": "stdout",
          "output_type": "stream",
          "text": [
            "Epoch 4/15 | Treino Loss: 12.0607, Treino Acc: 0.1327 | Val Loss: 9.9705, Val Acc: 0.2659\n",
            "  Novo melhor modelo encontrado! Val Loss: 9.9705. Salvando estado...\n"
          ]
        },
        {
          "data": {
            "application/vnd.jupyter.widget-view+json": {
              "model_id": "ba64282bfbf54a49956671a954355979",
              "version_major": 2,
              "version_minor": 0
            },
            "text/plain": [
              "Epoch 5/15 [Treino]:   0%|          | 0/5523 [00:00<?, ?it/s]"
            ]
          },
          "metadata": {},
          "output_type": "display_data"
        },
        {
          "data": {
            "application/vnd.jupyter.widget-view+json": {
              "model_id": "0edc667540a24393a76c8498c6e82e3f",
              "version_major": 2,
              "version_minor": 0
            },
            "text/plain": [
              "Epoch 5/15 [Validação]:   0%|          | 0/1381 [00:00<?, ?it/s]"
            ]
          },
          "metadata": {},
          "output_type": "display_data"
        },
        {
          "metadata": {
            "tags": null
          },
          "name": "stdout",
          "output_type": "stream",
          "text": [
            "Epoch 5/15 | Treino Loss: 10.6692, Treino Acc: 0.1976 | Val Loss: 8.9317, Val Acc: 0.3451\n",
            "  Novo melhor modelo encontrado! Val Loss: 8.9317. Salvando estado...\n"
          ]
        },
        {
          "data": {
            "application/vnd.jupyter.widget-view+json": {
              "model_id": "77074736fd744281a5c52595b852fb69",
              "version_major": 2,
              "version_minor": 0
            },
            "text/plain": [
              "Epoch 6/15 [Treino]:   0%|          | 0/5523 [00:00<?, ?it/s]"
            ]
          },
          "metadata": {},
          "output_type": "display_data"
        },
        {
          "data": {
            "application/vnd.jupyter.widget-view+json": {
              "model_id": "8196c63d208243fc850c752645817de4",
              "version_major": 2,
              "version_minor": 0
            },
            "text/plain": [
              "Epoch 6/15 [Validação]:   0%|          | 0/1381 [00:00<?, ?it/s]"
            ]
          },
          "metadata": {},
          "output_type": "display_data"
        },
        {
          "metadata": {
            "tags": null
          },
          "name": "stdout",
          "output_type": "stream",
          "text": [
            "Epoch 6/15 | Treino Loss: 9.6668, Treino Acc: 0.2546 | Val Loss: 8.2287, Val Acc: 0.4024\n",
            "  Novo melhor modelo encontrado! Val Loss: 8.2287. Salvando estado...\n"
          ]
        },
        {
          "data": {
            "application/vnd.jupyter.widget-view+json": {
              "model_id": "7249ce0be9ae4441b3196f452f853e74",
              "version_major": 2,
              "version_minor": 0
            },
            "text/plain": [
              "Epoch 7/15 [Treino]:   0%|          | 0/5523 [00:00<?, ?it/s]"
            ]
          },
          "metadata": {},
          "output_type": "display_data"
        },
        {
          "data": {
            "application/vnd.jupyter.widget-view+json": {
              "model_id": "b9d0e15e6fc34f32a4720746717d5030",
              "version_major": 2,
              "version_minor": 0
            },
            "text/plain": [
              "Epoch 7/15 [Validação]:   0%|          | 0/1381 [00:00<?, ?it/s]"
            ]
          },
          "metadata": {},
          "output_type": "display_data"
        },
        {
          "metadata": {
            "tags": null
          },
          "name": "stdout",
          "output_type": "stream",
          "text": [
            "Epoch 7/15 | Treino Loss: 8.9011, Treino Acc: 0.3038 | Val Loss: 7.7643, Val Acc: 0.4466\n",
            "  Novo melhor modelo encontrado! Val Loss: 7.7643. Salvando estado...\n"
          ]
        },
        {
          "data": {
            "application/vnd.jupyter.widget-view+json": {
              "model_id": "c73f2203884648c488040f51399dcc49",
              "version_major": 2,
              "version_minor": 0
            },
            "text/plain": [
              "Epoch 8/15 [Treino]:   0%|          | 0/5523 [00:00<?, ?it/s]"
            ]
          },
          "metadata": {},
          "output_type": "display_data"
        },
        {
          "data": {
            "application/vnd.jupyter.widget-view+json": {
              "model_id": "b4689861069641c4a3f39b339e5021d0",
              "version_major": 2,
              "version_minor": 0
            },
            "text/plain": [
              "Epoch 8/15 [Validação]:   0%|          | 0/1381 [00:00<?, ?it/s]"
            ]
          },
          "metadata": {},
          "output_type": "display_data"
        },
        {
          "metadata": {
            "tags": null
          },
          "name": "stdout",
          "output_type": "stream",
          "text": [
            "Epoch 8/15 | Treino Loss: 8.3117, Treino Acc: 0.3457 | Val Loss: 7.3914, Val Acc: 0.4799\n",
            "  Novo melhor modelo encontrado! Val Loss: 7.3914. Salvando estado...\n"
          ]
        },
        {
          "data": {
            "application/vnd.jupyter.widget-view+json": {
              "model_id": "6f327b147d654ed4b3f6c27839c40b09",
              "version_major": 2,
              "version_minor": 0
            },
            "text/plain": [
              "Epoch 9/15 [Treino]:   0%|          | 0/5523 [00:00<?, ?it/s]"
            ]
          },
          "metadata": {},
          "output_type": "display_data"
        },
        {
          "data": {
            "application/vnd.jupyter.widget-view+json": {
              "model_id": "7a5aff62e4fc4aa0aa7aa1b557389366",
              "version_major": 2,
              "version_minor": 0
            },
            "text/plain": [
              "Epoch 9/15 [Validação]:   0%|          | 0/1381 [00:00<?, ?it/s]"
            ]
          },
          "metadata": {},
          "output_type": "display_data"
        },
        {
          "metadata": {
            "tags": null
          },
          "name": "stdout",
          "output_type": "stream",
          "text": [
            "Epoch 9/15 | Treino Loss: 7.7986, Treino Acc: 0.3839 | Val Loss: 7.0308, Val Acc: 0.5120\n",
            "  Novo melhor modelo encontrado! Val Loss: 7.0308. Salvando estado...\n"
          ]
        },
        {
          "data": {
            "application/vnd.jupyter.widget-view+json": {
              "model_id": "0b67a5e7096a44718a2187a4c139f728",
              "version_major": 2,
              "version_minor": 0
            },
            "text/plain": [
              "Epoch 10/15 [Treino]:   0%|          | 0/5523 [00:00<?, ?it/s]"
            ]
          },
          "metadata": {},
          "output_type": "display_data"
        },
        {
          "data": {
            "application/vnd.jupyter.widget-view+json": {
              "model_id": "04af519dfa814330a2792ed0186a1bdc",
              "version_major": 2,
              "version_minor": 0
            },
            "text/plain": [
              "Epoch 10/15 [Validação]:   0%|          | 0/1381 [00:00<?, ?it/s]"
            ]
          },
          "metadata": {},
          "output_type": "display_data"
        },
        {
          "metadata": {
            "tags": null
          },
          "name": "stdout",
          "output_type": "stream",
          "text": [
            "Epoch 10/15 | Treino Loss: 7.3909, Treino Acc: 0.4148 | Val Loss: 6.7577, Val Acc: 0.5361\n",
            "  Novo melhor modelo encontrado! Val Loss: 6.7577. Salvando estado...\n"
          ]
        },
        {
          "data": {
            "application/vnd.jupyter.widget-view+json": {
              "model_id": "b1ff0b9193dd41c48532f8caf9812ce5",
              "version_major": 2,
              "version_minor": 0
            },
            "text/plain": [
              "Epoch 11/15 [Treino]:   0%|          | 0/5523 [00:00<?, ?it/s]"
            ]
          },
          "metadata": {},
          "output_type": "display_data"
        },
        {
          "data": {
            "application/vnd.jupyter.widget-view+json": {
              "model_id": "d876e507a35e4a639ddc0fe41551e958",
              "version_major": 2,
              "version_minor": 0
            },
            "text/plain": [
              "Epoch 11/15 [Validação]:   0%|          | 0/1381 [00:00<?, ?it/s]"
            ]
          },
          "metadata": {},
          "output_type": "display_data"
        },
        {
          "metadata": {
            "tags": null
          },
          "name": "stdout",
          "output_type": "stream",
          "text": [
            "Epoch 11/15 | Treino Loss: 7.0199, Treino Acc: 0.4450 | Val Loss: 6.6039, Val Acc: 0.5553\n",
            "  Novo melhor modelo encontrado! Val Loss: 6.6039. Salvando estado...\n"
          ]
        },
        {
          "data": {
            "application/vnd.jupyter.widget-view+json": {
              "model_id": "6ea022c2ce8645f489086bbef5624263",
              "version_major": 2,
              "version_minor": 0
            },
            "text/plain": [
              "Epoch 12/15 [Treino]:   0%|          | 0/5523 [00:00<?, ?it/s]"
            ]
          },
          "metadata": {},
          "output_type": "display_data"
        },
        {
          "data": {
            "application/vnd.jupyter.widget-view+json": {
              "model_id": "c08773d82b5f45d29ba8c4ad559f42b7",
              "version_major": 2,
              "version_minor": 0
            },
            "text/plain": [
              "Epoch 12/15 [Validação]:   0%|          | 0/1381 [00:00<?, ?it/s]"
            ]
          },
          "metadata": {},
          "output_type": "display_data"
        },
        {
          "metadata": {
            "tags": null
          },
          "name": "stdout",
          "output_type": "stream",
          "text": [
            "Epoch 12/15 | Treino Loss: 6.6954, Treino Acc: 0.4705 | Val Loss: 6.3794, Val Acc: 0.5744\n",
            "  Novo melhor modelo encontrado! Val Loss: 6.3794. Salvando estado...\n"
          ]
        },
        {
          "data": {
            "application/vnd.jupyter.widget-view+json": {
              "model_id": "84b1d2df9f61414aa40bca2b316a0e91",
              "version_major": 2,
              "version_minor": 0
            },
            "text/plain": [
              "Epoch 13/15 [Treino]:   0%|          | 0/5523 [00:00<?, ?it/s]"
            ]
          },
          "metadata": {},
          "output_type": "display_data"
        },
        {
          "data": {
            "application/vnd.jupyter.widget-view+json": {
              "model_id": "794377359c294385b222936f1fe2a934",
              "version_major": 2,
              "version_minor": 0
            },
            "text/plain": [
              "Epoch 13/15 [Validação]:   0%|          | 0/1381 [00:00<?, ?it/s]"
            ]
          },
          "metadata": {},
          "output_type": "display_data"
        },
        {
          "metadata": {
            "tags": null
          },
          "name": "stdout",
          "output_type": "stream",
          "text": [
            "Epoch 13/15 | Treino Loss: 6.3887, Treino Acc: 0.4947 | Val Loss: 6.2526, Val Acc: 0.5877\n",
            "  Novo melhor modelo encontrado! Val Loss: 6.2526. Salvando estado...\n"
          ]
        },
        {
          "data": {
            "application/vnd.jupyter.widget-view+json": {
              "model_id": "84e5b89d2e2d492a8a2f3867570966c0",
              "version_major": 2,
              "version_minor": 0
            },
            "text/plain": [
              "Epoch 14/15 [Treino]:   0%|          | 0/5523 [00:00<?, ?it/s]"
            ]
          },
          "metadata": {},
          "output_type": "display_data"
        },
        {
          "data": {
            "application/vnd.jupyter.widget-view+json": {
              "model_id": "7dfdc5d2e98f433f91f7c43fa77f963d",
              "version_major": 2,
              "version_minor": 0
            },
            "text/plain": [
              "Epoch 14/15 [Validação]:   0%|          | 0/1381 [00:00<?, ?it/s]"
            ]
          },
          "metadata": {},
          "output_type": "display_data"
        },
        {
          "metadata": {
            "tags": null
          },
          "name": "stdout",
          "output_type": "stream",
          "text": [
            "Epoch 14/15 | Treino Loss: 6.1468, Treino Acc: 0.5148 | Val Loss: 6.0929, Val Acc: 0.6019\n",
            "  Novo melhor modelo encontrado! Val Loss: 6.0929. Salvando estado...\n"
          ]
        },
        {
          "data": {
            "application/vnd.jupyter.widget-view+json": {
              "model_id": "450dc9ea9b264ed096a88be418e885ac",
              "version_major": 2,
              "version_minor": 0
            },
            "text/plain": [
              "Epoch 15/15 [Treino]:   0%|          | 0/5523 [00:00<?, ?it/s]"
            ]
          },
          "metadata": {},
          "output_type": "display_data"
        },
        {
          "data": {
            "application/vnd.jupyter.widget-view+json": {
              "model_id": "ce2c9808c19344bdae18246c268db283",
              "version_major": 2,
              "version_minor": 0
            },
            "text/plain": [
              "Epoch 15/15 [Validação]:   0%|          | 0/1381 [00:00<?, ?it/s]"
            ]
          },
          "metadata": {},
          "output_type": "display_data"
        },
        {
          "metadata": {
            "tags": null
          },
          "name": "stdout",
          "output_type": "stream",
          "text": [
            "Epoch 15/15 | Treino Loss: 5.9041, Treino Acc: 0.5322 | Val Loss: 6.1009, Val Acc: 0.5997\n",
            "\n",
            "Tempo total de treinamento: 11846.696 segundos\n",
            "\n",
            "Treinamento do Fold 1 concluído.\n",
            "Melhor estado do modelo carregado para avaliação.\n",
            "Salvando o state_dict do modelo fine-tuned em: models/best_model_fold_1.pth\n",
            "Modelo salvo como best_model_fold_1.pth\n"
          ]
        },
        {
          "data": {
            "application/vnd.jupyter.widget-view+json": {
              "model_id": "71387d4fe71d40c7b4f15bd35992aacc",
              "version_major": 2,
              "version_minor": 0
            },
            "text/plain": [
              "Extraindo embeddings:   0%|          | 0/1885 [00:00<?, ?it/s]"
            ]
          },
          "metadata": {},
          "output_type": "display_data"
        },
        {
          "data": {
            "application/vnd.jupyter.widget-view+json": {
              "model_id": "74f728ee92e8418cb7a47f865d53808d",
              "version_major": 2,
              "version_minor": 0
            },
            "text/plain": [
              "Extraindo embeddings:   0%|          | 0/1889 [00:00<?, ?it/s]"
            ]
          },
          "metadata": {},
          "output_type": "display_data"
        },
        {
          "metadata": {
            "tags": null
          },
          "name": "stdout",
          "output_type": "stream",
          "text": [
            "Shape dos embeddings da galeria: (60294, 512)\n",
            "Shape dos embeddings da probe: (60423, 512)\n",
            "Iniciando avaliação em batches. Tamanho do batch de probes: 256\n"
          ]
        },
        {
          "data": {
            "application/vnd.jupyter.widget-view+json": {
              "model_id": "a52b66e110aa4b9bbe954f58927b53e1",
              "version_major": 2,
              "version_minor": 0
            },
            "text/plain": [
              "Processando batches de probes:   0%|          | 0/237 [00:00<?, ?it/s]"
            ]
          },
          "metadata": {},
          "output_type": "display_data"
        },
        {
          "metadata": {
            "tags": null
          },
          "name": "stdout",
          "output_type": "stream",
          "text": [
            "Processamento em batches concluído.\n",
            "Rank-1 Accuracy: 23.90%\n",
            "Rank-5 Accuracy: 34.90%\n",
            "Rank-10 Accuracy: 39.62%\n",
            "Rank-20 Accuracy: 44.78%\n"
          ]
        },
        {
          "data": {
            "image/png": "[encoded data removed]",
            "text/plain": [
              "<Figure size 800x500 with 1 Axes>"
            ]
          },
          "metadata": {},
          "output_type": "display_data"
        },
        {
          "metadata": {
            "tags": null
          },
          "name": "stdout",
          "output_type": "stream",
          "text": [
            "\n",
            "Métricas (TorchMetrics, baseadas em Rank-1, average='weighted'):\n",
            "  Acurácia: 0.2390\n",
            "  Precisão: 0.2432\n",
            "  Recall:   0.2390\n",
            "  F1-score: 0.2215\n",
            "Matriz de confusão muito grande para plotar com anotações detalhadas.\n",
            "Rank-1 Accuracy para o Fold 1: 23.90%\n",
            "================== FOLD 2/5 ==================\n",
            "Criando DataLoaders para o fold atual...\n",
            "Inicializando novo modelo e otimizador...\n"
          ]
        },
        {
          "metadata": {
            "tags": null
          },
          "name": "stderr",
          "output_type": "stream",
          "text": [
            "/usr/local/lib/python3.11/dist-packages/facenet_pytorch/models/inception_resnet_v1.py:329: FutureWarning: You are using `torch.load` with `weights_only=False` (the current default value), which uses the default pickle module implicitly. It is possible to construct malicious pickle data which will execute arbitrary code during unpickling (See https://github.com/pytorch/pytorch/blob/main/SECURITY.md#untrusted-models for more details). In a future release, the default value for `weights_only` will be flipped to `True`. This limits the functions that could be executed during unpickling. Arbitrary objects will no longer be allowed to be loaded via this mode unless they are explicitly allowlisted by the user via `torch.serialization.add_safe_globals`. We recommend you start setting `weights_only=True` for any use case where you don't have full control of the loaded file. Please open an issue on GitHub for any issues related to this experimental feature.\n",
            "  state_dict = torch.load(cached_file)\n"
          ]
        },
        {
          "data": {
            "application/vnd.jupyter.widget-view+json": {
              "model_id": "823bcec1bfac4f9c86f04c2208544863",
              "version_major": 2,
              "version_minor": 0
            },
            "text/plain": [
              "Epoch 1/15 [Treino]:   0%|          | 0/5523 [00:00<?, ?it/s]"
            ]
          },
          "metadata": {},
          "output_type": "display_data"
        },
        {
          "data": {
            "application/vnd.jupyter.widget-view+json": {
              "model_id": "a6a14e54a0814a3598bcfd8217269f98",
              "version_major": 2,
              "version_minor": 0
            },
            "text/plain": [
              "Epoch 1/15 [Validação]:   0%|          | 0/1381 [00:00<?, ?it/s]"
            ]
          },
          "metadata": {},
          "output_type": "display_data"
        },
        {
          "metadata": {
            "tags": null
          },
          "name": "stdout",
          "output_type": "stream",
          "text": [
            "Epoch 1/15 | Treino Loss: 19.8888, Treino Acc: 0.0002 | Val Loss: 17.0548, Val Acc: 0.0055\n",
            "  Novo melhor modelo encontrado! Val Loss: 17.0548. Salvando estado...\n"
          ]
        },
        {
          "data": {
            "application/vnd.jupyter.widget-view+json": {
              "model_id": "8cb1a73bac3d472b9d18f119ef92dcfd",
              "version_major": 2,
              "version_minor": 0
            },
            "text/plain": [
              "Epoch 2/15 [Treino]:   0%|          | 0/5523 [00:00<?, ?it/s]"
            ]
          },
          "metadata": {},
          "output_type": "display_data"
        },
        {
          "data": {
            "application/vnd.jupyter.widget-view+json": {
              "model_id": "772b49405f354420922b345f53cf3ad6",
              "version_major": 2,
              "version_minor": 0
            },
            "text/plain": [
              "Epoch 2/15 [Validação]:   0%|          | 0/1381 [00:00<?, ?it/s]"
            ]
          },
          "metadata": {},
          "output_type": "display_data"
        },
        {
          "metadata": {
            "tags": null
          },
          "name": "stdout",
          "output_type": "stream",
          "text": [
            "Epoch 2/15 | Treino Loss: 16.2912, Treino Acc: 0.0157 | Val Loss: 13.6858, Val Acc: 0.0721\n",
            "  Novo melhor modelo encontrado! Val Loss: 13.6858. Salvando estado...\n"
          ]
        },
        {
          "data": {
            "application/vnd.jupyter.widget-view+json": {
              "model_id": "8f8cac9c5c844fdb9da0958f493af0fd",
              "version_major": 2,
              "version_minor": 0
            },
            "text/plain": [
              "Epoch 3/15 [Treino]:   0%|          | 0/5523 [00:00<?, ?it/s]"
            ]
          },
          "metadata": {},
          "output_type": "display_data"
        },
        {
          "data": {
            "application/vnd.jupyter.widget-view+json": {
              "model_id": "06453ac7202e4183a8d0fb7661b5e845",
              "version_major": 2,
              "version_minor": 0
            },
            "text/plain": [
              "Epoch 3/15 [Validação]:   0%|          | 0/1381 [00:00<?, ?it/s]"
            ]
          },
          "metadata": {},
          "output_type": "display_data"
        },
        {
          "metadata": {
            "tags": null
          },
          "name": "stdout",
          "output_type": "stream",
          "text": [
            "Epoch 3/15 | Treino Loss: 13.6114, Treino Acc: 0.0757 | Val Loss: 11.2561, Val Acc: 0.1893\n",
            "  Novo melhor modelo encontrado! Val Loss: 11.2561. Salvando estado...\n"
          ]
        },
        {
          "data": {
            "application/vnd.jupyter.widget-view+json": {
              "model_id": "0d7226e8f2124ce29d2b59e210060195",
              "version_major": 2,
              "version_minor": 0
            },
            "text/plain": [
              "Epoch 4/15 [Treino]:   0%|          | 0/5523 [00:00<?, ?it/s]"
            ]
          },
          "metadata": {},
          "output_type": "display_data"
        },
        {
          "data": {
            "application/vnd.jupyter.widget-view+json": {
              "model_id": "000c65d046484ca1b0593a33305a8ff9",
              "version_major": 2,
              "version_minor": 0
            },
            "text/plain": [
              "Epoch 4/15 [Validação]:   0%|          | 0/1381 [00:00<?, ?it/s]"
            ]
          },
          "metadata": {},
          "output_type": "display_data"
        },
        {
          "metadata": {
            "tags": null
          },
          "name": "stdout",
          "output_type": "stream",
          "text": [
            "Epoch 4/15 | Treino Loss: 11.6849, Treino Acc: 0.1533 | Val Loss: 9.7802, Val Acc: 0.2848\n",
            "  Novo melhor modelo encontrado! Val Loss: 9.7802. Salvando estado...\n"
          ]
        },
        {
          "data": {
            "application/vnd.jupyter.widget-view+json": {
              "model_id": "fdd977d351f44ddc9e100da8111e29fd",
              "version_major": 2,
              "version_minor": 0
            },
            "text/plain": [
              "Epoch 5/15 [Treino]:   0%|          | 0/5523 [00:00<?, ?it/s]"
            ]
          },
          "metadata": {},
          "output_type": "display_data"
        },
        {
          "data": {
            "application/vnd.jupyter.widget-view+json": {
              "model_id": "ecf0c1b703ab4f30897df7eb4ca4931d",
              "version_major": 2,
              "version_minor": 0
            },
            "text/plain": [
              "Epoch 5/15 [Validação]:   0%|          | 0/1381 [00:00<?, ?it/s]"
            ]
          },
          "metadata": {},
          "output_type": "display_data"
        },
        {
          "metadata": {
            "tags": null
          },
          "name": "stdout",
          "output_type": "stream",
          "text": [
            "Epoch 5/15 | Treino Loss: 10.3645, Treino Acc: 0.2196 | Val Loss: 8.6890, Val Acc: 0.3640\n",
            "  Novo melhor modelo encontrado! Val Loss: 8.6890. Salvando estado...\n"
          ]
        },
        {
          "data": {
            "application/vnd.jupyter.widget-view+json": {
              "model_id": "67876a4be6244d65b0aa903e43e7df05",
              "version_major": 2,
              "version_minor": 0
            },
            "text/plain": [
              "Epoch 6/15 [Treino]:   0%|          | 0/5523 [00:00<?, ?it/s]"
            ]
          },
          "metadata": {},
          "output_type": "display_data"
        },
        {
          "data": {
            "application/vnd.jupyter.widget-view+json": {
              "model_id": "e626d8d337e54e10bb751743b856becd",
              "version_major": 2,
              "version_minor": 0
            },
            "text/plain": [
              "Epoch 6/15 [Validação]:   0%|          | 0/1381 [00:00<?, ?it/s]"
            ]
          },
          "metadata": {},
          "output_type": "display_data"
        },
        {
          "metadata": {
            "tags": null
          },
          "name": "stdout",
          "output_type": "stream",
          "text": [
            "Epoch 6/15 | Treino Loss: 9.4236, Treino Acc: 0.2748 | Val Loss: 8.0974, Val Acc: 0.4139\n",
            "  Novo melhor modelo encontrado! Val Loss: 8.0974. Salvando estado...\n"
          ]
        },
        {
          "data": {
            "application/vnd.jupyter.widget-view+json": {
              "model_id": "196fb9518ad94c3cb5e76d39da1592ad",
              "version_major": 2,
              "version_minor": 0
            },
            "text/plain": [
              "Epoch 7/15 [Treino]:   0%|          | 0/5523 [00:00<?, ?it/s]"
            ]
          },
          "metadata": {},
          "output_type": "display_data"
        },
        {
          "data": {
            "application/vnd.jupyter.widget-view+json": {
              "model_id": "9e49334c6009433591cd82ffeab2ab28",
              "version_major": 2,
              "version_minor": 0
            },
            "text/plain": [
              "Epoch 7/15 [Validação]:   0%|          | 0/1381 [00:00<?, ?it/s]"
            ]
          },
          "metadata": {},
          "output_type": "display_data"
        },
        {
          "metadata": {
            "tags": null
          },
          "name": "stdout",
          "output_type": "stream",
          "text": [
            "Epoch 7/15 | Treino Loss: 8.7005, Treino Acc: 0.3225 | Val Loss: 7.5846, Val Acc: 0.4624\n",
            "  Novo melhor modelo encontrado! Val Loss: 7.5846. Salvando estado...\n"
          ]
        },
        {
          "data": {
            "application/vnd.jupyter.widget-view+json": {
              "model_id": "f793e3c9918241d5a217c257f58a4687",
              "version_major": 2,
              "version_minor": 0
            },
            "text/plain": [
              "Epoch 8/15 [Treino]:   0%|          | 0/5523 [00:00<?, ?it/s]"
            ]
          },
          "metadata": {},
          "output_type": "display_data"
        },
        {
          "data": {
            "application/vnd.jupyter.widget-view+json": {
              "model_id": "1019e7e4181f4f43b9fbd070d36cd598",
              "version_major": 2,
              "version_minor": 0
            },
            "text/plain": [
              "Epoch 8/15 [Validação]:   0%|          | 0/1381 [00:00<?, ?it/s]"
            ]
          },
          "metadata": {},
          "output_type": "display_data"
        },
        {
          "metadata": {
            "tags": null
          },
          "name": "stdout",
          "output_type": "stream",
          "text": [
            "Epoch 8/15 | Treino Loss: 8.1172, Treino Acc: 0.3639 | Val Loss: 7.2294, Val Acc: 0.4939\n",
            "  Novo melhor modelo encontrado! Val Loss: 7.2294. Salvando estado...\n"
          ]
        },
        {
          "data": {
            "application/vnd.jupyter.widget-view+json": {
              "model_id": "21c4432e8ca14dd18b31371327d11c38",
              "version_major": 2,
              "version_minor": 0
            },
            "text/plain": [
              "Epoch 9/15 [Treino]:   0%|          | 0/5523 [00:00<?, ?it/s]"
            ]
          },
          "metadata": {},
          "output_type": "display_data"
        },
        {
          "data": {
            "application/vnd.jupyter.widget-view+json": {
              "model_id": "c2028846831d429eb610fd35a987180d",
              "version_major": 2,
              "version_minor": 0
            },
            "text/plain": [
              "Epoch 9/15 [Validação]:   0%|          | 0/1381 [00:00<?, ?it/s]"
            ]
          },
          "metadata": {},
          "output_type": "display_data"
        },
        {
          "metadata": {
            "tags": null
          },
          "name": "stdout",
          "output_type": "stream",
          "text": [
            "Epoch 9/15 | Treino Loss: 7.6350, Treino Acc: 0.3990 | Val Loss: 6.9365, Val Acc: 0.5214\n",
            "  Novo melhor modelo encontrado! Val Loss: 6.9365. Salvando estado...\n"
          ]
        },
        {
          "data": {
            "application/vnd.jupyter.widget-view+json": {
              "model_id": "f4fcc491e9a24fb083f40a131123a693",
              "version_major": 2,
              "version_minor": 0
            },
            "text/plain": [
              "Epoch 10/15 [Treino]:   0%|          | 0/5523 [00:00<?, ?it/s]"
            ]
          },
          "metadata": {},
          "output_type": "display_data"
        },
        {
          "data": {
            "application/vnd.jupyter.widget-view+json": {
              "model_id": "81cefd479b7246168c6e90fc7dd9e5a4",
              "version_major": 2,
              "version_minor": 0
            },
            "text/plain": [
              "Epoch 10/15 [Validação]:   0%|          | 0/1381 [00:00<?, ?it/s]"
            ]
          },
          "metadata": {},
          "output_type": "display_data"
        },
        {
          "metadata": {
            "tags": null
          },
          "name": "stdout",
          "output_type": "stream",
          "text": [
            "Epoch 10/15 | Treino Loss: 7.2347, Treino Acc: 0.4316 | Val Loss: 6.7252, Val Acc: 0.5433\n",
            "  Novo melhor modelo encontrado! Val Loss: 6.7252. Salvando estado...\n"
          ]
        },
        {
          "data": {
            "application/vnd.jupyter.widget-view+json": {
              "model_id": "8c5aec6bf9ab49fab439d05ef4f1d0c0",
              "version_major": 2,
              "version_minor": 0
            },
            "text/plain": [
              "Epoch 11/15 [Treino]:   0%|          | 0/5523 [00:00<?, ?it/s]"
            ]
          },
          "metadata": {},
          "output_type": "display_data"
        },
        {
          "data": {
            "application/vnd.jupyter.widget-view+json": {
              "model_id": "52993a84dfc147a7878dbbe9177b067c",
              "version_major": 2,
              "version_minor": 0
            },
            "text/plain": [
              "Epoch 11/15 [Validação]:   0%|          | 0/1381 [00:00<?, ?it/s]"
            ]
          },
          "metadata": {},
          "output_type": "display_data"
        },
        {
          "metadata": {
            "tags": null
          },
          "name": "stdout",
          "output_type": "stream",
          "text": [
            "Epoch 11/15 | Treino Loss: 6.8670, Treino Acc: 0.4594 | Val Loss: 6.4942, Val Acc: 0.5694\n",
            "  Novo melhor modelo encontrado! Val Loss: 6.4942. Salvando estado...\n"
          ]
        },
        {
          "data": {
            "application/vnd.jupyter.widget-view+json": {
              "model_id": "c435919d15ee4075a9beff0feef60256",
              "version_major": 2,
              "version_minor": 0
            },
            "text/plain": [
              "Epoch 12/15 [Treino]:   0%|          | 0/5523 [00:00<?, ?it/s]"
            ]
          },
          "metadata": {},
          "output_type": "display_data"
        },
        {
          "data": {
            "application/vnd.jupyter.widget-view+json": {
              "model_id": "3bc99dea9b074b358b60031a9b075cce",
              "version_major": 2,
              "version_minor": 0
            },
            "text/plain": [
              "Epoch 12/15 [Validação]:   0%|          | 0/1381 [00:00<?, ?it/s]"
            ]
          },
          "metadata": {},
          "output_type": "display_data"
        },
        {
          "metadata": {
            "tags": null
          },
          "name": "stdout",
          "output_type": "stream",
          "text": [
            "Epoch 12/15 | Treino Loss: 6.5576, Treino Acc: 0.4849 | Val Loss: 6.3277, Val Acc: 0.5811\n",
            "  Novo melhor modelo encontrado! Val Loss: 6.3277. Salvando estado...\n"
          ]
        },
        {
          "data": {
            "application/vnd.jupyter.widget-view+json": {
              "model_id": "9f7852ca7c8849a19b110a12e8b447dc",
              "version_major": 2,
              "version_minor": 0
            },
            "text/plain": [
              "Epoch 13/15 [Treino]:   0%|          | 0/5523 [00:00<?, ?it/s]"
            ]
          },
          "metadata": {},
          "output_type": "display_data"
        },
        {
          "data": {
            "application/vnd.jupyter.widget-view+json": {
              "model_id": "3070851cfe044a449cb1448da3d5e8bc",
              "version_major": 2,
              "version_minor": 0
            },
            "text/plain": [
              "Epoch 13/15 [Validação]:   0%|          | 0/1381 [00:00<?, ?it/s]"
            ]
          },
          "metadata": {},
          "output_type": "display_data"
        },
        {
          "metadata": {
            "tags": null
          },
          "name": "stdout",
          "output_type": "stream",
          "text": [
            "Epoch 13/15 | Treino Loss: 6.2863, Treino Acc: 0.5066 | Val Loss: 6.1885, Val Acc: 0.5953\n",
            "  Novo melhor modelo encontrado! Val Loss: 6.1885. Salvando estado...\n"
          ]
        },
        {
          "data": {
            "application/vnd.jupyter.widget-view+json": {
              "model_id": "acbdbfd370ff4c13971c8dbd6d813744",
              "version_major": 2,
              "version_minor": 0
            },
            "text/plain": [
              "Epoch 14/15 [Treino]:   0%|          | 0/5523 [00:00<?, ?it/s]"
            ]
          },
          "metadata": {},
          "output_type": "display_data"
        },
        {
          "data": {
            "application/vnd.jupyter.widget-view+json": {
              "model_id": "f65d829d895649fdbbec5de6650c7233",
              "version_major": 2,
              "version_minor": 0
            },
            "text/plain": [
              "Epoch 14/15 [Validação]:   0%|          | 0/1381 [00:00<?, ?it/s]"
            ]
          },
          "metadata": {},
          "output_type": "display_data"
        },
        {
          "metadata": {
            "tags": null
          },
          "name": "stdout",
          "output_type": "stream",
          "text": [
            "Epoch 14/15 | Treino Loss: 6.0147, Treino Acc: 0.5282 | Val Loss: 6.0655, Val Acc: 0.6096\n",
            "  Novo melhor modelo encontrado! Val Loss: 6.0655. Salvando estado...\n"
          ]
        },
        {
          "data": {
            "application/vnd.jupyter.widget-view+json": {
              "model_id": "846498f3946149e8a48b28bc11f289b6",
              "version_major": 2,
              "version_minor": 0
            },
            "text/plain": [
              "Epoch 15/15 [Treino]:   0%|          | 0/5523 [00:00<?, ?it/s]"
            ]
          },
          "metadata": {},
          "output_type": "display_data"
        },
        {
          "data": {
            "application/vnd.jupyter.widget-view+json": {
              "model_id": "01aa88b47ac14d51a5e89ec9504df6c3",
              "version_major": 2,
              "version_minor": 0
            },
            "text/plain": [
              "Epoch 15/15 [Validação]:   0%|          | 0/1381 [00:00<?, ?it/s]"
            ]
          },
          "metadata": {},
          "output_type": "display_data"
        },
        {
          "metadata": {
            "tags": null
          },
          "name": "stdout",
          "output_type": "stream",
          "text": [
            "Epoch 15/15 | Treino Loss: 5.7820, Treino Acc: 0.5466 | Val Loss: 5.9124, Val Acc: 0.6228\n",
            "  Novo melhor modelo encontrado! Val Loss: 5.9124. Salvando estado...\n",
            "\n",
            "Tempo total de treinamento: 11909.417 segundos\n",
            "\n",
            "Treinamento do Fold 2 concluído.\n",
            "Melhor estado do modelo carregado para avaliação.\n",
            "Salvando o state_dict do modelo fine-tuned em: models/best_model_fold_2.pth\n",
            "Modelo salvo como best_model_fold_2.pth\n"
          ]
        },
        {
          "data": {
            "application/vnd.jupyter.widget-view+json": {
              "model_id": "e7e268abaa534036a20647bee75d3141",
              "version_major": 2,
              "version_minor": 0
            },
            "text/plain": [
              "Extraindo embeddings:   0%|          | 0/1885 [00:00<?, ?it/s]"
            ]
          },
          "metadata": {},
          "output_type": "display_data"
        },
        {
          "data": {
            "application/vnd.jupyter.widget-view+json": {
              "model_id": "6fe076b7791c4e3d9c48362b824e61cb",
              "version_major": 2,
              "version_minor": 0
            },
            "text/plain": [
              "Extraindo embeddings:   0%|          | 0/1889 [00:00<?, ?it/s]"
            ]
          },
          "metadata": {},
          "output_type": "display_data"
        },
        {
          "metadata": {
            "tags": null
          },
          "name": "stdout",
          "output_type": "stream",
          "text": [
            "Shape dos embeddings da galeria: (60294, 512)\n",
            "Shape dos embeddings da probe: (60423, 512)\n",
            "Iniciando avaliação em batches. Tamanho do batch de probes: 256\n"
          ]
        },
        {
          "data": {
            "application/vnd.jupyter.widget-view+json": {
              "model_id": "5265307607384b30ba9029dca9dfe0a5",
              "version_major": 2,
              "version_minor": 0
            },
            "text/plain": [
              "Processando batches de probes:   0%|          | 0/237 [00:00<?, ?it/s]"
            ]
          },
          "metadata": {},
          "output_type": "display_data"
        },
        {
          "metadata": {
            "tags": null
          },
          "name": "stdout",
          "output_type": "stream",
          "text": [
            "Processamento em batches concluído.\n",
            "Rank-1 Accuracy: 22.85%\n",
            "Rank-5 Accuracy: 34.29%\n",
            "Rank-10 Accuracy: 39.13%\n",
            "Rank-20 Accuracy: 44.43%\n"
          ]
        },
        {
          "data": {
            "image/png": "[encoded data removed]",
            "text/plain": [
              "<Figure size 800x500 with 1 Axes>"
            ]
          },
          "metadata": {},
          "output_type": "display_data"
        },
        {
          "metadata": {
            "tags": null
          },
          "name": "stdout",
          "output_type": "stream",
          "text": [
            "\n",
            "Métricas (TorchMetrics, baseadas em Rank-1, average='weighted'):\n",
            "  Acurácia: 0.2285\n",
            "  Precisão: 0.2346\n",
            "  Recall:   0.2285\n",
            "  F1-score: 0.2134\n",
            "Matriz de confusão muito grande para plotar com anotações detalhadas.\n",
            "Rank-1 Accuracy para o Fold 2: 22.85%\n",
            "================== FOLD 3/5 ==================\n",
            "Criando DataLoaders para o fold atual...\n",
            "Inicializando novo modelo e otimizador...\n"
          ]
        },
        {
          "metadata": {
            "tags": null
          },
          "name": "stderr",
          "output_type": "stream",
          "text": [
            "/usr/local/lib/python3.11/dist-packages/facenet_pytorch/models/inception_resnet_v1.py:329: FutureWarning: You are using `torch.load` with `weights_only=False` (the current default value), which uses the default pickle module implicitly. It is possible to construct malicious pickle data which will execute arbitrary code during unpickling (See https://github.com/pytorch/pytorch/blob/main/SECURITY.md#untrusted-models for more details). In a future release, the default value for `weights_only` will be flipped to `True`. This limits the functions that could be executed during unpickling. Arbitrary objects will no longer be allowed to be loaded via this mode unless they are explicitly allowlisted by the user via `torch.serialization.add_safe_globals`. We recommend you start setting `weights_only=True` for any use case where you don't have full control of the loaded file. Please open an issue on GitHub for any issues related to this experimental feature.\n",
            "  state_dict = torch.load(cached_file)\n"
          ]
        },
        {
          "data": {
            "application/vnd.jupyter.widget-view+json": {
              "model_id": "385e6bc465f4465ea7f4aff0ae6a9d2a",
              "version_major": 2,
              "version_minor": 0
            },
            "text/plain": [
              "Epoch 1/15 [Treino]:   0%|          | 0/5523 [00:00<?, ?it/s]"
            ]
          },
          "metadata": {},
          "output_type": "display_data"
        },
        {
          "data": {
            "application/vnd.jupyter.widget-view+json": {
              "model_id": "aaa27d4d0f0a4accaa42e972ededcda1",
              "version_major": 2,
              "version_minor": 0
            },
            "text/plain": [
              "Epoch 1/15 [Validação]:   0%|          | 0/1381 [00:00<?, ?it/s]"
            ]
          },
          "metadata": {},
          "output_type": "display_data"
        },
        {
          "metadata": {
            "tags": null
          },
          "name": "stdout",
          "output_type": "stream",
          "text": [
            "Epoch 1/15 | Treino Loss: 19.7712, Treino Acc: 0.0005 | Val Loss: 16.9033, Val Acc: 0.0088\n",
            "  Novo melhor modelo encontrado! Val Loss: 16.9033. Salvando estado...\n"
          ]
        },
        {
          "data": {
            "application/vnd.jupyter.widget-view+json": {
              "model_id": "55d0ce9fa888455e8306e7f81b4ea01f",
              "version_major": 2,
              "version_minor": 0
            },
            "text/plain": [
              "Epoch 2/15 [Treino]:   0%|          | 0/5523 [00:00<?, ?it/s]"
            ]
          },
          "metadata": {},
          "output_type": "display_data"
        },
        {
          "data": {
            "application/vnd.jupyter.widget-view+json": {
              "model_id": "545d2f9820be4da8a10ec0142ac2ffa6",
              "version_major": 2,
              "version_minor": 0
            },
            "text/plain": [
              "Epoch 2/15 [Validação]:   0%|          | 0/1381 [00:00<?, ?it/s]"
            ]
          },
          "metadata": {},
          "output_type": "display_data"
        },
        {
          "metadata": {
            "tags": null
          },
          "name": "stdout",
          "output_type": "stream",
          "text": [
            "Epoch 2/15 | Treino Loss: 16.1365, Treino Acc: 0.0199 | Val Loss: 13.6200, Val Acc: 0.0777\n",
            "  Novo melhor modelo encontrado! Val Loss: 13.6200. Salvando estado...\n"
          ]
        },
        {
          "data": {
            "application/vnd.jupyter.widget-view+json": {
              "model_id": "dc44457442844d64a0d28a29909c3c99",
              "version_major": 2,
              "version_minor": 0
            },
            "text/plain": [
              "Epoch 3/15 [Treino]:   0%|          | 0/5523 [00:00<?, ?it/s]"
            ]
          },
          "metadata": {},
          "output_type": "display_data"
        },
        {
          "data": {
            "application/vnd.jupyter.widget-view+json": {
              "model_id": "64a544ca7fb1473ca55ad193fbcef047",
              "version_major": 2,
              "version_minor": 0
            },
            "text/plain": [
              "Epoch 3/15 [Validação]:   0%|          | 0/1381 [00:00<?, ?it/s]"
            ]
          },
          "metadata": {},
          "output_type": "display_data"
        },
        {
          "metadata": {
            "tags": null
          },
          "name": "stdout",
          "output_type": "stream",
          "text": [
            "Epoch 3/15 | Treino Loss: 13.5019, Treino Acc: 0.0827 | Val Loss: 11.1484, Val Acc: 0.2045\n",
            "  Novo melhor modelo encontrado! Val Loss: 11.1484. Salvando estado...\n"
          ]
        },
        {
          "data": {
            "application/vnd.jupyter.widget-view+json": {
              "model_id": "45347c079a8043aebe738d57dcf0517e",
              "version_major": 2,
              "version_minor": 0
            },
            "text/plain": [
              "Epoch 4/15 [Treino]:   0%|          | 0/5523 [00:00<?, ?it/s]"
            ]
          },
          "metadata": {},
          "output_type": "display_data"
        },
        {
          "data": {
            "application/vnd.jupyter.widget-view+json": {
              "model_id": "0abea2e1a14a4dae9d3288f1334d27d1",
              "version_major": 2,
              "version_minor": 0
            },
            "text/plain": [
              "Epoch 4/15 [Validação]:   0%|          | 0/1381 [00:00<?, ?it/s]"
            ]
          },
          "metadata": {},
          "output_type": "display_data"
        },
        {
          "metadata": {
            "tags": null
          },
          "name": "stdout",
          "output_type": "stream",
          "text": [
            "Epoch 4/15 | Treino Loss: 11.5976, Treino Acc: 0.1605 | Val Loss: 9.7054, Val Acc: 0.2944\n",
            "  Novo melhor modelo encontrado! Val Loss: 9.7054. Salvando estado...\n"
          ]
        },
        {
          "data": {
            "application/vnd.jupyter.widget-view+json": {
              "model_id": "97557392892d4f20ac2bbbbdf8501b5b",
              "version_major": 2,
              "version_minor": 0
            },
            "text/plain": [
              "Epoch 5/15 [Treino]:   0%|          | 0/5523 [00:00<?, ?it/s]"
            ]
          },
          "metadata": {},
          "output_type": "display_data"
        },
        {
          "data": {
            "application/vnd.jupyter.widget-view+json": {
              "model_id": "197f7f6ff48147a5a0ef61ce8a10dfdc",
              "version_major": 2,
              "version_minor": 0
            },
            "text/plain": [
              "Epoch 5/15 [Validação]:   0%|          | 0/1381 [00:00<?, ?it/s]"
            ]
          },
          "metadata": {},
          "output_type": "display_data"
        },
        {
          "metadata": {
            "tags": null
          },
          "name": "stdout",
          "output_type": "stream",
          "text": [
            "Epoch 5/15 | Treino Loss: 10.2868, Treino Acc: 0.2262 | Val Loss: 8.7724, Val Acc: 0.3650\n",
            "  Novo melhor modelo encontrado! Val Loss: 8.7724. Salvando estado...\n"
          ]
        },
        {
          "data": {
            "application/vnd.jupyter.widget-view+json": {
              "model_id": "f49d7dca8ce34b49b4881c83e16d0c8e",
              "version_major": 2,
              "version_minor": 0
            },
            "text/plain": [
              "Epoch 6/15 [Treino]:   0%|          | 0/5523 [00:00<?, ?it/s]"
            ]
          },
          "metadata": {},
          "output_type": "display_data"
        },
        {
          "data": {
            "application/vnd.jupyter.widget-view+json": {
              "model_id": "844d3d866fcc4e2989ff2ab6e53add3d",
              "version_major": 2,
              "version_minor": 0
            },
            "text/plain": [
              "Epoch 6/15 [Validação]:   0%|          | 0/1381 [00:00<?, ?it/s]"
            ]
          },
          "metadata": {},
          "output_type": "display_data"
        },
        {
          "metadata": {
            "tags": null
          },
          "name": "stdout",
          "output_type": "stream",
          "text": [
            "Epoch 6/15 | Treino Loss: 9.3461, Treino Acc: 0.2809 | Val Loss: 8.0988, Val Acc: 0.4213\n",
            "  Novo melhor modelo encontrado! Val Loss: 8.0988. Salvando estado...\n"
          ]
        },
        {
          "data": {
            "application/vnd.jupyter.widget-view+json": {
              "model_id": "fda57374f38f4fd6afca8aadbc9ec3df",
              "version_major": 2,
              "version_minor": 0
            },
            "text/plain": [
              "Epoch 7/15 [Treino]:   0%|          | 0/5523 [00:00<?, ?it/s]"
            ]
          },
          "metadata": {},
          "output_type": "display_data"
        },
        {
          "data": {
            "application/vnd.jupyter.widget-view+json": {
              "model_id": "22792fa148e5496b9c8d98401575f769",
              "version_major": 2,
              "version_minor": 0
            },
            "text/plain": [
              "Epoch 7/15 [Validação]:   0%|          | 0/1381 [00:00<?, ?it/s]"
            ]
          },
          "metadata": {},
          "output_type": "display_data"
        },
        {
          "metadata": {
            "tags": null
          },
          "name": "stdout",
          "output_type": "stream",
          "text": [
            "Epoch 7/15 | Treino Loss: 8.6250, Treino Acc: 0.3281 | Val Loss: 7.5823, Val Acc: 0.4671\n",
            "  Novo melhor modelo encontrado! Val Loss: 7.5823. Salvando estado...\n"
          ]
        },
        {
          "data": {
            "application/vnd.jupyter.widget-view+json": {
              "model_id": "4dee04c6ebff4f6f8dcdf77dddcaf56b",
              "version_major": 2,
              "version_minor": 0
            },
            "text/plain": [
              "Epoch 8/15 [Treino]:   0%|          | 0/5523 [00:00<?, ?it/s]"
            ]
          },
          "metadata": {},
          "output_type": "display_data"
        },
        {
          "data": {
            "application/vnd.jupyter.widget-view+json": {
              "model_id": "b0b1d8a76f3d4f9a82b636fc38dd595d",
              "version_major": 2,
              "version_minor": 0
            },
            "text/plain": [
              "Epoch 8/15 [Validação]:   0%|          | 0/1381 [00:00<?, ?it/s]"
            ]
          },
          "metadata": {},
          "output_type": "display_data"
        },
        {
          "metadata": {
            "tags": null
          },
          "name": "stdout",
          "output_type": "stream",
          "text": [
            "Epoch 8/15 | Treino Loss: 8.0395, Treino Acc: 0.3693 | Val Loss: 7.2620, Val Acc: 0.4982\n",
            "  Novo melhor modelo encontrado! Val Loss: 7.2620. Salvando estado...\n"
          ]
        },
        {
          "data": {
            "application/vnd.jupyter.widget-view+json": {
              "model_id": "b85d0aaa44e04d1ba4f0e83909d11c85",
              "version_major": 2,
              "version_minor": 0
            },
            "text/plain": [
              "Epoch 9/15 [Treino]:   0%|          | 0/5523 [00:00<?, ?it/s]"
            ]
          },
          "metadata": {},
          "output_type": "display_data"
        },
        {
          "data": {
            "application/vnd.jupyter.widget-view+json": {
              "model_id": "eb90c58a93674ef6a51b5ba6f4fcad0a",
              "version_major": 2,
              "version_minor": 0
            },
            "text/plain": [
              "Epoch 9/15 [Validação]:   0%|          | 0/1381 [00:00<?, ?it/s]"
            ]
          },
          "metadata": {},
          "output_type": "display_data"
        },
        {
          "metadata": {
            "tags": null
          },
          "name": "stdout",
          "output_type": "stream",
          "text": [
            "Epoch 9/15 | Treino Loss: 7.5470, Treino Acc: 0.4057 | Val Loss: 7.0183, Val Acc: 0.5210\n",
            "  Novo melhor modelo encontrado! Val Loss: 7.0183. Salvando estado...\n"
          ]
        },
        {
          "data": {
            "application/vnd.jupyter.widget-view+json": {
              "model_id": "a08bd6d229c0462faf2a61d1fe5a6149",
              "version_major": 2,
              "version_minor": 0
            },
            "text/plain": [
              "Epoch 10/15 [Treino]:   0%|          | 0/5523 [00:00<?, ?it/s]"
            ]
          },
          "metadata": {},
          "output_type": "display_data"
        },
        {
          "data": {
            "application/vnd.jupyter.widget-view+json": {
              "model_id": "f81c35e0ee304504b0185f1caea9af25",
              "version_major": 2,
              "version_minor": 0
            },
            "text/plain": [
              "Epoch 10/15 [Validação]:   0%|          | 0/1381 [00:00<?, ?it/s]"
            ]
          },
          "metadata": {},
          "output_type": "display_data"
        },
        {
          "metadata": {
            "tags": null
          },
          "name": "stdout",
          "output_type": "stream",
          "text": [
            "Epoch 10/15 | Treino Loss: 7.1651, Treino Acc: 0.4352 | Val Loss: 6.7424, Val Acc: 0.5493\n",
            "  Novo melhor modelo encontrado! Val Loss: 6.7424. Salvando estado...\n"
          ]
        },
        {
          "data": {
            "application/vnd.jupyter.widget-view+json": {
              "model_id": "f8c606912a334521937458d864898bf9",
              "version_major": 2,
              "version_minor": 0
            },
            "text/plain": [
              "Epoch 11/15 [Treino]:   0%|          | 0/5523 [00:00<?, ?it/s]"
            ]
          },
          "metadata": {},
          "output_type": "display_data"
        },
        {
          "data": {
            "application/vnd.jupyter.widget-view+json": {
              "model_id": "e0df2d574f614b12b27550c8b016de36",
              "version_major": 2,
              "version_minor": 0
            },
            "text/plain": [
              "Epoch 11/15 [Validação]:   0%|          | 0/1381 [00:00<?, ?it/s]"
            ]
          },
          "metadata": {},
          "output_type": "display_data"
        },
        {
          "metadata": {
            "tags": null
          },
          "name": "stdout",
          "output_type": "stream",
          "text": [
            "Epoch 11/15 | Treino Loss: 6.7893, Treino Acc: 0.4642 | Val Loss: 6.5312, Val Acc: 0.5674\n",
            "  Novo melhor modelo encontrado! Val Loss: 6.5312. Salvando estado...\n"
          ]
        },
        {
          "data": {
            "application/vnd.jupyter.widget-view+json": {
              "model_id": "c81dbc0b1b8e44f69fffd3020e3aef05",
              "version_major": 2,
              "version_minor": 0
            },
            "text/plain": [
              "Epoch 12/15 [Treino]:   0%|          | 0/5523 [00:00<?, ?it/s]"
            ]
          },
          "metadata": {},
          "output_type": "display_data"
        },
        {
          "data": {
            "application/vnd.jupyter.widget-view+json": {
              "model_id": "85e1bc40f84e4ebca2ec2de15dfcd45f",
              "version_major": 2,
              "version_minor": 0
            },
            "text/plain": [
              "Epoch 12/15 [Validação]:   0%|          | 0/1381 [00:00<?, ?it/s]"
            ]
          },
          "metadata": {},
          "output_type": "display_data"
        },
        {
          "metadata": {
            "tags": null
          },
          "name": "stdout",
          "output_type": "stream",
          "text": [
            "Epoch 12/15 | Treino Loss: 6.4906, Treino Acc: 0.4880 | Val Loss: 6.3206, Val Acc: 0.5898\n",
            "  Novo melhor modelo encontrado! Val Loss: 6.3206. Salvando estado...\n"
          ]
        },
        {
          "data": {
            "application/vnd.jupyter.widget-view+json": {
              "model_id": "625b7791cdda469eb017b4eca19df11a",
              "version_major": 2,
              "version_minor": 0
            },
            "text/plain": [
              "Epoch 13/15 [Treino]:   0%|          | 0/5523 [00:00<?, ?it/s]"
            ]
          },
          "metadata": {},
          "output_type": "display_data"
        },
        {
          "data": {
            "application/vnd.jupyter.widget-view+json": {
              "model_id": "9538572c8e634436b18183e6a8cd9ffb",
              "version_major": 2,
              "version_minor": 0
            },
            "text/plain": [
              "Epoch 13/15 [Validação]:   0%|          | 0/1381 [00:00<?, ?it/s]"
            ]
          },
          "metadata": {},
          "output_type": "display_data"
        },
        {
          "metadata": {
            "tags": null
          },
          "name": "stdout",
          "output_type": "stream",
          "text": [
            "Epoch 13/15 | Treino Loss: 6.2016, Treino Acc: 0.5125 | Val Loss: 6.2498, Val Acc: 0.5937\n",
            "  Novo melhor modelo encontrado! Val Loss: 6.2498. Salvando estado...\n"
          ]
        },
        {
          "data": {
            "application/vnd.jupyter.widget-view+json": {
              "model_id": "6c614939bef04bc88d2cad317d7fe8a6",
              "version_major": 2,
              "version_minor": 0
            },
            "text/plain": [
              "Epoch 14/15 [Treino]:   0%|          | 0/5523 [00:00<?, ?it/s]"
            ]
          },
          "metadata": {},
          "output_type": "display_data"
        },
        {
          "data": {
            "application/vnd.jupyter.widget-view+json": {
              "model_id": "b0a2b615f161476ab149215a95ec6ad2",
              "version_major": 2,
              "version_minor": 0
            },
            "text/plain": [
              "Epoch 14/15 [Validação]:   0%|          | 0/1381 [00:00<?, ?it/s]"
            ]
          },
          "metadata": {},
          "output_type": "display_data"
        },
        {
          "metadata": {
            "tags": null
          },
          "name": "stdout",
          "output_type": "stream",
          "text": [
            "Epoch 14/15 | Treino Loss: 5.9627, Treino Acc: 0.5295 | Val Loss: 6.0394, Val Acc: 0.6170\n",
            "  Novo melhor modelo encontrado! Val Loss: 6.0394. Salvando estado...\n"
          ]
        },
        {
          "data": {
            "application/vnd.jupyter.widget-view+json": {
              "model_id": "39554defdae1419ea0c1beccf7f80a56",
              "version_major": 2,
              "version_minor": 0
            },
            "text/plain": [
              "Epoch 15/15 [Treino]:   0%|          | 0/5523 [00:00<?, ?it/s]"
            ]
          },
          "metadata": {},
          "output_type": "display_data"
        },
        {
          "data": {
            "application/vnd.jupyter.widget-view+json": {
              "model_id": "87bd6327d92449ffa4e1b0bb66f9386d",
              "version_major": 2,
              "version_minor": 0
            },
            "text/plain": [
              "Epoch 15/15 [Validação]:   0%|          | 0/1381 [00:00<?, ?it/s]"
            ]
          },
          "metadata": {},
          "output_type": "display_data"
        },
        {
          "metadata": {
            "tags": null
          },
          "name": "stdout",
          "output_type": "stream",
          "text": [
            "Epoch 15/15 | Treino Loss: 5.7161, Treino Acc: 0.5490 | Val Loss: 5.9503, Val Acc: 0.6237\n",
            "  Novo melhor modelo encontrado! Val Loss: 5.9503. Salvando estado...\n",
            "\n",
            "Tempo total de treinamento: 11960.203 segundos\n",
            "\n",
            "Treinamento do Fold 3 concluído.\n",
            "Melhor estado do modelo carregado para avaliação.\n",
            "Salvando o state_dict do modelo fine-tuned em: models/best_model_fold_3.pth\n",
            "Modelo salvo como best_model_fold_3.pth\n"
          ]
        },
        {
          "data": {
            "application/vnd.jupyter.widget-view+json": {
              "model_id": "7702e049e9464cf0a4b6c071ec200fae",
              "version_major": 2,
              "version_minor": 0
            },
            "text/plain": [
              "Extraindo embeddings:   0%|          | 0/1885 [00:00<?, ?it/s]"
            ]
          },
          "metadata": {},
          "output_type": "display_data"
        },
        {
          "data": {
            "application/vnd.jupyter.widget-view+json": {
              "model_id": "4da8ad7552ff44619f19a1de4823856e",
              "version_major": 2,
              "version_minor": 0
            },
            "text/plain": [
              "Extraindo embeddings:   0%|          | 0/1889 [00:00<?, ?it/s]"
            ]
          },
          "metadata": {},
          "output_type": "display_data"
        },
        {
          "metadata": {
            "tags": null
          },
          "name": "stdout",
          "output_type": "stream",
          "text": [
            "Shape dos embeddings da galeria: (60294, 512)\n",
            "Shape dos embeddings da probe: (60423, 512)\n",
            "Iniciando avaliação em batches. Tamanho do batch de probes: 256\n"
          ]
        },
        {
          "data": {
            "application/vnd.jupyter.widget-view+json": {
              "model_id": "f91f49c0d9954c05947d1fb6a981789d",
              "version_major": 2,
              "version_minor": 0
            },
            "text/plain": [
              "Processando batches de probes:   0%|          | 0/237 [00:00<?, ?it/s]"
            ]
          },
          "metadata": {},
          "output_type": "display_data"
        },
        {
          "metadata": {
            "tags": null
          },
          "name": "stdout",
          "output_type": "stream",
          "text": [
            "Processamento em batches concluído.\n",
            "Rank-1 Accuracy: 23.07%\n",
            "Rank-5 Accuracy: 34.05%\n",
            "Rank-10 Accuracy: 39.06%\n",
            "Rank-20 Accuracy: 44.53%\n"
          ]
        },
        {
          "data": {
            "image/png": "[encoded data removed]",
            "text/plain": [
              "<Figure size 800x500 with 1 Axes>"
            ]
          },
          "metadata": {},
          "output_type": "display_data"
        },
        {
          "metadata": {
            "tags": null
          },
          "name": "stdout",
          "output_type": "stream",
          "text": [
            "\n",
            "Métricas (TorchMetrics, baseadas em Rank-1, average='weighted'):\n",
            "  Acurácia: 0.2307\n",
            "  Precisão: 0.2338\n",
            "  Recall:   0.2307\n",
            "  F1-score: 0.2125\n",
            "Matriz de confusão muito grande para plotar com anotações detalhadas.\n",
            "Rank-1 Accuracy para o Fold 3: 23.07%\n",
            "================== FOLD 4/5 ==================\n",
            "Criando DataLoaders para o fold atual...\n",
            "Inicializando novo modelo e otimizador...\n"
          ]
        },
        {
          "metadata": {
            "tags": null
          },
          "name": "stderr",
          "output_type": "stream",
          "text": [
            "/usr/local/lib/python3.11/dist-packages/facenet_pytorch/models/inception_resnet_v1.py:329: FutureWarning: You are using `torch.load` with `weights_only=False` (the current default value), which uses the default pickle module implicitly. It is possible to construct malicious pickle data which will execute arbitrary code during unpickling (See https://github.com/pytorch/pytorch/blob/main/SECURITY.md#untrusted-models for more details). In a future release, the default value for `weights_only` will be flipped to `True`. This limits the functions that could be executed during unpickling. Arbitrary objects will no longer be allowed to be loaded via this mode unless they are explicitly allowlisted by the user via `torch.serialization.add_safe_globals`. We recommend you start setting `weights_only=True` for any use case where you don't have full control of the loaded file. Please open an issue on GitHub for any issues related to this experimental feature.\n",
            "  state_dict = torch.load(cached_file)\n"
          ]
        },
        {
          "data": {
            "application/vnd.jupyter.widget-view+json": {
              "model_id": "e543fa335d4544c4b25e3b408037fe04",
              "version_major": 2,
              "version_minor": 0
            },
            "text/plain": [
              "Epoch 1/15 [Treino]:   0%|          | 0/5523 [00:00<?, ?it/s]"
            ]
          },
          "metadata": {},
          "output_type": "display_data"
        },
        {
          "data": {
            "application/vnd.jupyter.widget-view+json": {
              "model_id": "d580aca4c59245a082674b5cc13ea28a",
              "version_major": 2,
              "version_minor": 0
            },
            "text/plain": [
              "Epoch 1/15 [Validação]:   0%|          | 0/1381 [00:00<?, ?it/s]"
            ]
          },
          "metadata": {},
          "output_type": "display_data"
        },
        {
          "metadata": {
            "tags": null
          },
          "name": "stdout",
          "output_type": "stream",
          "text": [
            "Epoch 1/15 | Treino Loss: 20.5222, Treino Acc: 0.0000 | Val Loss: 18.3129, Val Acc: 0.0000\n",
            "  Novo melhor modelo encontrado! Val Loss: 18.3129. Salvando estado...\n"
          ]
        },
        {
          "data": {
            "application/vnd.jupyter.widget-view+json": {
              "model_id": "cde794ca9c2a4b1a9bfe86a97411e68f",
              "version_major": 2,
              "version_minor": 0
            },
            "text/plain": [
              "Epoch 2/15 [Treino]:   0%|          | 0/5523 [00:00<?, ?it/s]"
            ]
          },
          "metadata": {},
          "output_type": "display_data"
        },
        {
          "data": {
            "application/vnd.jupyter.widget-view+json": {
              "model_id": "c217bc8b04054d86ab072d36bcbc8fb5",
              "version_major": 2,
              "version_minor": 0
            },
            "text/plain": [
              "Epoch 2/15 [Validação]:   0%|          | 0/1381 [00:00<?, ?it/s]"
            ]
          },
          "metadata": {},
          "output_type": "display_data"
        },
        {
          "metadata": {
            "tags": null
          },
          "name": "stdout",
          "output_type": "stream",
          "text": [
            "Epoch 2/15 | Treino Loss: 17.8527, Treino Acc: 0.0009 | Val Loss: 16.0868, Val Acc: 0.0066\n",
            "  Novo melhor modelo encontrado! Val Loss: 16.0868. Salvando estado...\n"
          ]
        },
        {
          "data": {
            "application/vnd.jupyter.widget-view+json": {
              "model_id": "b98aac25519042b69c4e06699eeea1c7",
              "version_major": 2,
              "version_minor": 0
            },
            "text/plain": [
              "Epoch 3/15 [Treino]:   0%|          | 0/5523 [00:00<?, ?it/s]"
            ]
          },
          "metadata": {},
          "output_type": "display_data"
        },
        {
          "data": {
            "application/vnd.jupyter.widget-view+json": {
              "model_id": "453bccad1e7d4f3bb93bf771a8c0bd5d",
              "version_major": 2,
              "version_minor": 0
            },
            "text/plain": [
              "Epoch 3/15 [Validação]:   0%|          | 0/1381 [00:00<?, ?it/s]"
            ]
          },
          "metadata": {},
          "output_type": "display_data"
        },
        {
          "metadata": {
            "tags": null
          },
          "name": "stdout",
          "output_type": "stream",
          "text": [
            "Epoch 3/15 | Treino Loss: 14.8993, Treino Acc: 0.0025 | Val Loss: 10.4958, Val Acc: 0.0000\n",
            "  Novo melhor modelo encontrado! Val Loss: 10.4958. Salvando estado...\n"
          ]
        },
        {
          "data": {
            "application/vnd.jupyter.widget-view+json": {
              "model_id": "85c881c48e564b7285c951084193851e",
              "version_major": 2,
              "version_minor": 0
            },
            "text/plain": [
              "Epoch 4/15 [Treino]:   0%|          | 0/5523 [00:00<?, ?it/s]"
            ]
          },
          "metadata": {},
          "output_type": "display_data"
        },
        {
          "data": {
            "application/vnd.jupyter.widget-view+json": {
              "model_id": "3ef46fee243c4d5ab447047a2136c89a",
              "version_major": 2,
              "version_minor": 0
            },
            "text/plain": [
              "Epoch 4/15 [Validação]:   0%|          | 0/1381 [00:00<?, ?it/s]"
            ]
          },
          "metadata": {},
          "output_type": "display_data"
        },
        {
          "metadata": {
            "tags": null
          },
          "name": "stdout",
          "output_type": "stream",
          "text": [
            "Epoch 4/15 | Treino Loss: 6.3882, Treino Acc: 0.8081 | Val Loss: 5.1008, Val Acc: 0.9998\n",
            "  Novo melhor modelo encontrado! Val Loss: 5.1008. Salvando estado...\n"
          ]
        },
        {
          "data": {
            "application/vnd.jupyter.widget-view+json": {
              "model_id": "53399fd26caf4a6f80e7747a1bbc2080",
              "version_major": 2,
              "version_minor": 0
            },
            "text/plain": [
              "Epoch 5/15 [Treino]:   0%|          | 0/5523 [00:00<?, ?it/s]"
            ]
          },
          "metadata": {},
          "output_type": "display_data"
        },
        {
          "data": {
            "application/vnd.jupyter.widget-view+json": {
              "model_id": "60cc87f5b3bc471991179922d27ab214",
              "version_major": 2,
              "version_minor": 0
            },
            "text/plain": [
              "Epoch 5/15 [Validação]:   0%|          | 0/1381 [00:00<?, ?it/s]"
            ]
          },
          "metadata": {},
          "output_type": "display_data"
        },
        {
          "metadata": {
            "tags": null
          },
          "name": "stdout",
          "output_type": "stream",
          "text": [
            "Epoch 5/15 | Treino Loss: 5.7323, Treino Acc: 0.9406 | Val Loss: 5.5208, Val Acc: 0.9491\n"
          ]
        },
        {
          "data": {
            "application/vnd.jupyter.widget-view+json": {
              "model_id": "ee6fb2f710cf408fb5b89bf8e12106a9",
              "version_major": 2,
              "version_minor": 0
            },
            "text/plain": [
              "Epoch 6/15 [Treino]:   0%|          | 0/5523 [00:00<?, ?it/s]"
            ]
          },
          "metadata": {},
          "output_type": "display_data"
        },
        {
          "data": {
            "application/vnd.jupyter.widget-view+json": {
              "model_id": "f656d1eb8e9c44aab620e79ef1888113",
              "version_major": 2,
              "version_minor": 0
            },
            "text/plain": [
              "Epoch 6/15 [Validação]:   0%|          | 0/1381 [00:00<?, ?it/s]"
            ]
          },
          "metadata": {},
          "output_type": "display_data"
        },
        {
          "metadata": {
            "tags": null
          },
          "name": "stdout",
          "output_type": "stream",
          "text": [
            "Epoch 6/15 | Treino Loss: nan, Treino Acc: 0.2819 | Val Loss: nan, Val Acc: 0.0000\n"
          ]
        },
        {
          "data": {
            "application/vnd.jupyter.widget-view+json": {
              "model_id": "ed2fee5218b74e008d0202170b402492",
              "version_major": 2,
              "version_minor": 0
            },
            "text/plain": [
              "Epoch 7/15 [Treino]:   0%|          | 0/5523 [00:00<?, ?it/s]"
            ]
          },
          "metadata": {},
          "output_type": "display_data"
        },
        {
          "data": {
            "application/vnd.jupyter.widget-view+json": {
              "model_id": "8c91b05c4edb434cbf5a35fab98fda8c",
              "version_major": 2,
              "version_minor": 0
            },
            "text/plain": [
              "Epoch 7/15 [Validação]:   0%|          | 0/1381 [00:00<?, ?it/s]"
            ]
          },
          "metadata": {},
          "output_type": "display_data"
        },
        {
          "metadata": {
            "tags": null
          },
          "name": "stdout",
          "output_type": "stream",
          "text": [
            "Epoch 7/15 | Treino Loss: nan, Treino Acc: 0.0000 | Val Loss: nan, Val Acc: 0.0000\n"
          ]
        },
        {
          "data": {
            "application/vnd.jupyter.widget-view+json": {
              "model_id": "76064ecd49a846e6a7af39fa763c8f83",
              "version_major": 2,
              "version_minor": 0
            },
            "text/plain": [
              "Epoch 8/15 [Treino]:   0%|          | 0/5523 [00:00<?, ?it/s]"
            ]
          },
          "metadata": {},
          "output_type": "display_data"
        },
        {
          "output_type": "display_data",
          "data": {
            "text/plain": [
              "Epoch 8/15 [Validação]:   0%|          | 0/1381 [00:00<?, ?it/s]"
            ],
            "application/vnd.jupyter.widget-view+json": {
              "version_major": 2,
              "version_minor": 0,
              "model_id": "f1ddad7260cf42b99a14c74f7cabadac"
            }
          },
          "metadata": {}
        },
        {
          "output_type": "stream",
          "name": "stdout",
          "text": [
            "Epoch 8/15 | Treino Loss: nan, Treino Acc: 0.0000 | Val Loss: nan, Val Acc: 0.0000\n"
          ]
        },
        {
          "output_type": "display_data",
          "data": {
            "text/plain": [
              "Epoch 9/15 [Treino]:   0%|          | 0/5523 [00:00<?, ?it/s]"
            ],
            "application/vnd.jupyter.widget-view+json": {
              "version_major": 2,
              "version_minor": 0,
              "model_id": "d158b9bc5ba542d38f660584aefa847a"
            }
          },
          "metadata": {}
        },
        {
          "output_type": "display_data",
          "data": {
            "text/plain": [
              "Epoch 9/15 [Validação]:   0%|          | 0/1381 [00:00<?, ?it/s]"
            ],
            "application/vnd.jupyter.widget-view+json": {
              "version_major": 2,
              "version_minor": 0,
              "model_id": "4c29df1874e24a25a3ed04a869d3c232"
            }
          },
          "metadata": {}
        },
        {
          "output_type": "stream",
          "name": "stdout",
          "text": [
            "Epoch 9/15 | Treino Loss: nan, Treino Acc: 0.0000 | Val Loss: nan, Val Acc: 0.0000\n"
          ]
        },
        {
          "output_type": "display_data",
          "data": {
            "text/plain": [
              "Epoch 10/15 [Treino]:   0%|          | 0/5523 [00:00<?, ?it/s]"
            ],
            "application/vnd.jupyter.widget-view+json": {
              "version_major": 2,
              "version_minor": 0,
              "model_id": "ef20a4f184a5488f90080a7fd7c84a71"
            }
          },
          "metadata": {}
        },
        {
          "output_type": "display_data",
          "data": {
            "text/plain": [
              "Epoch 10/15 [Validação]:   0%|          | 0/1381 [00:00<?, ?it/s]"
            ],
            "application/vnd.jupyter.widget-view+json": {
              "version_major": 2,
              "version_minor": 0,
              "model_id": "6fd6f2c0a98c40249f9f3ac73cc9ff67"
            }
          },
          "metadata": {}
        },
        {
          "output_type": "stream",
          "name": "stdout",
          "text": [
            "Epoch 10/15 | Treino Loss: nan, Treino Acc: 0.0000 | Val Loss: nan, Val Acc: 0.0000\n"
          ]
        },
        {
          "output_type": "display_data",
          "data": {
            "text/plain": [
              "Epoch 11/15 [Treino]:   0%|          | 0/5523 [00:00<?, ?it/s]"
            ],
            "application/vnd.jupyter.widget-view+json": {
              "version_major": 2,
              "version_minor": 0,
              "model_id": "dd94d2f2c334481689dab4fd94378932"
            }
          },
          "metadata": {}
        },
        {
          "output_type": "display_data",
          "data": {
            "text/plain": [
              "Epoch 11/15 [Validação]:   0%|          | 0/1381 [00:00<?, ?it/s]"
            ],
            "application/vnd.jupyter.widget-view+json": {
              "version_major": 2,
              "version_minor": 0,
              "model_id": "3449604d2eb14d019cf2bd33d7c5e76d"
            }
          },
          "metadata": {}
        },
        {
          "output_type": "stream",
          "name": "stdout",
          "text": [
            "Epoch 11/15 | Treino Loss: nan, Treino Acc: 0.0000 | Val Loss: nan, Val Acc: 0.0000\n"
          ]
        },
        {
          "output_type": "display_data",
          "data": {
            "text/plain": [
              "Epoch 12/15 [Treino]:   0%|          | 0/5523 [00:00<?, ?it/s]"
            ],
            "application/vnd.jupyter.widget-view+json": {
              "version_major": 2,
              "version_minor": 0,
              "model_id": "73d1e29195c149f4a4c4276c9b5edc6d"
            }
          },
          "metadata": {}
        },
        {
          "output_type": "display_data",
          "data": {
            "text/plain": [
              "Epoch 12/15 [Validação]:   0%|          | 0/1381 [00:00<?, ?it/s]"
            ],
            "application/vnd.jupyter.widget-view+json": {
              "version_major": 2,
              "version_minor": 0,
              "model_id": "36df557bf9a04abdbddac3aedf2efb51"
            }
          },
          "metadata": {}
        },
        {
          "output_type": "stream",
          "name": "stdout",
          "text": [
            "Epoch 12/15 | Treino Loss: nan, Treino Acc: 0.0000 | Val Loss: nan, Val Acc: 0.0000\n"
          ]
        },
        {
          "output_type": "display_data",
          "data": {
            "text/plain": [
              "Epoch 13/15 [Treino]:   0%|          | 0/5523 [00:00<?, ?it/s]"
            ],
            "application/vnd.jupyter.widget-view+json": {
              "version_major": 2,
              "version_minor": 0,
              "model_id": "fb39debf66cb481e8a41328354ae3d91"
            }
          },
          "metadata": {}
        },
        {
          "output_type": "display_data",
          "data": {
            "text/plain": [
              "Epoch 13/15 [Validação]:   0%|          | 0/1381 [00:00<?, ?it/s]"
            ],
            "application/vnd.jupyter.widget-view+json": {
              "version_major": 2,
              "version_minor": 0,
              "model_id": "3486a545a28946fb9b586da8ee75db5b"
            }
          },
          "metadata": {}
        },
        {
          "output_type": "stream",
          "name": "stdout",
          "text": [
            "Epoch 13/15 | Treino Loss: nan, Treino Acc: 0.0000 | Val Loss: nan, Val Acc: 0.0000\n"
          ]
        },
        {
          "output_type": "display_data",
          "data": {
            "text/plain": [
              "Epoch 14/15 [Treino]:   0%|          | 0/5523 [00:00<?, ?it/s]"
            ],
            "application/vnd.jupyter.widget-view+json": {
              "version_major": 2,
              "version_minor": 0,
              "model_id": "ca91db86f3db4abe80a9ba2cb908a0b5"
            }
          },
          "metadata": {}
        },
        {
          "output_type": "display_data",
          "data": {
            "text/plain": [
              "Epoch 14/15 [Validação]:   0%|          | 0/1381 [00:00<?, ?it/s]"
            ],
            "application/vnd.jupyter.widget-view+json": {
              "version_major": 2,
              "version_minor": 0,
              "model_id": "8848075dd5104ebdac02d7d689e293f4"
            }
          },
          "metadata": {}
        },
        {
          "output_type": "stream",
          "name": "stdout",
          "text": [
            "Epoch 14/15 | Treino Loss: nan, Treino Acc: 0.0000 | Val Loss: nan, Val Acc: 0.0000\n",
            "  Early stopping at epoch 14 as validation loss did not improve for 10 epoch.\n",
            "\n",
            "Tempo total de treinamento: 11117.140 segundos\n",
            "\n",
            "Treinamento do Fold 4 concluído.\n",
            "Melhor estado do modelo carregado para avaliação.\n",
            "Salvando o state_dict do modelo fine-tuned em: models/best_model_fold_4.pth\n",
            "Modelo salvo como best_model_fold_4.pth\n"
          ]
        },
        {
          "output_type": "display_data",
          "data": {
            "text/plain": [
              "Extraindo embeddings:   0%|          | 0/1885 [00:00<?, ?it/s]"
            ],
            "application/vnd.jupyter.widget-view+json": {
              "version_major": 2,
              "version_minor": 0,
              "model_id": "4bbe6ca097a3469ab3f08216e756ddd4"
            }
          },
          "metadata": {}
        },
        {
          "output_type": "display_data",
          "data": {
            "text/plain": [
              "Extraindo embeddings:   0%|          | 0/1889 [00:00<?, ?it/s]"
            ],
            "application/vnd.jupyter.widget-view+json": {
              "version_major": 2,
              "version_minor": 0,
              "model_id": "1c497ca19dae44dfa51a33fbce27acbd"
            }
          },
          "metadata": {}
        },
        {
          "output_type": "stream",
          "name": "stdout",
          "text": [
            "Shape dos embeddings da galeria: (60294, 512)\n",
            "Shape dos embeddings da probe: (60423, 512)\n",
            "Iniciando avaliação em batches. Tamanho do batch de probes: 256\n"
          ]
        },
        {
          "output_type": "display_data",
          "data": {
            "text/plain": [
              "Processando batches de probes:   0%|          | 0/237 [00:00<?, ?it/s]"
            ],
            "application/vnd.jupyter.widget-view+json": {
              "version_major": 2,
              "version_minor": 0,
              "model_id": "852b3dd06bf342ecac1f78353465659f"
            }
          },
          "metadata": {}
        },
        {
          "output_type": "stream",
          "name": "stdout",
          "text": [
            "Processamento em batches concluído.\n",
            "Rank-1 Accuracy: 1.80%\n",
            "Rank-5 Accuracy: 4.67%\n",
            "Rank-10 Accuracy: 6.82%\n",
            "Rank-20 Accuracy: 9.82%\n"
          ]
        },
        {
          "output_type": "display_data",
          "data": {
            "text/plain": [
              "<Figure size 800x500 with 1 Axes>"
            ],
            "image/png": "[encoded data removed]"
          },
          "metadata": {}
        },
        {
          "output_type": "stream",
          "name": "stdout",
          "text": [
            "\n",
            "Métricas (TorchMetrics, baseadas em Rank-1, average='weighted'):\n",
            "  Acurácia: 0.0180\n",
            "  Precisão: 0.0253\n",
            "  Recall:   0.0180\n",
            "  F1-score: 0.0180\n",
            "Matriz de confusão muito grande para plotar com anotações detalhadas.\n",
            "Rank-1 Accuracy para o Fold 4: 1.80%\n",
            "================== FOLD 5/5 ==================\n",
            "Criando DataLoaders para o fold atual...\n",
            "Inicializando novo modelo e otimizador...\n"
          ]
        },
        {
          "output_type": "stream",
          "name": "stderr",
          "text": [
            "/usr/local/lib/python3.11/dist-packages/facenet_pytorch/models/inception_resnet_v1.py:329: FutureWarning: You are using `torch.load` with `weights_only=False` (the current default value), which uses the default pickle module implicitly. It is possible to construct malicious pickle data which will execute arbitrary code during unpickling (See https://github.com/pytorch/pytorch/blob/main/SECURITY.md#untrusted-models for more details). In a future release, the default value for `weights_only` will be flipped to `True`. This limits the functions that could be executed during unpickling. Arbitrary objects will no longer be allowed to be loaded via this mode unless they are explicitly allowlisted by the user via `torch.serialization.add_safe_globals`. We recommend you start setting `weights_only=True` for any use case where you don't have full control of the loaded file. Please open an issue on GitHub for any issues related to this experimental feature.\n",
            "  state_dict = torch.load(cached_file)\n"
          ]
        },
        {
          "output_type": "display_data",
          "data": {
            "text/plain": [
              "Epoch 1/15 [Treino]:   0%|          | 0/5523 [00:00<?, ?it/s]"
            ],
            "application/vnd.jupyter.widget-view+json": {
              "version_major": 2,
              "version_minor": 0,
              "model_id": "454c7d258e894f8cb18623ad06f5aeb7"
            }
          },
          "metadata": {}
        },
        {
          "output_type": "display_data",
          "data": {
            "text/plain": [
              "Epoch 1/15 [Validação]:   0%|          | 0/1381 [00:00<?, ?it/s]"
            ],
            "application/vnd.jupyter.widget-view+json": {
              "version_major": 2,
              "version_minor": 0,
              "model_id": "7429e4682cca4d45a2c8bb8f5907322c"
            }
          },
          "metadata": {}
        },
        {
          "output_type": "stream",
          "name": "stdout",
          "text": [
            "Epoch 1/15 | Treino Loss: 20.2114, Treino Acc: 0.0000 | Val Loss: 17.7203, Val Acc: 0.0010\n",
            "  Novo melhor modelo encontrado! Val Loss: 17.7203. Salvando estado...\n"
          ]
        },
        {
          "output_type": "display_data",
          "data": {
            "text/plain": [
              "Epoch 2/15 [Treino]:   0%|          | 0/5523 [00:00<?, ?it/s]"
            ],
            "application/vnd.jupyter.widget-view+json": {
              "version_major": 2,
              "version_minor": 0,
              "model_id": "c22949f684504230be0bbef193b7c5bc"
            }
          },
          "metadata": {}
        },
        {
          "output_type": "display_data",
          "data": {
            "text/plain": [
              "Epoch 2/15 [Validação]:   0%|          | 0/1381 [00:00<?, ?it/s]"
            ],
            "application/vnd.jupyter.widget-view+json": {
              "version_major": 2,
              "version_minor": 0,
              "model_id": "623d106ed1db4a4a8e41cc56e8434a07"
            }
          },
          "metadata": {}
        },
        {
          "output_type": "stream",
          "name": "stdout",
          "text": [
            "Epoch 2/15 | Treino Loss: 16.8489, Treino Acc: 0.0092 | Val Loss: 14.2989, Val Acc: 0.0466\n",
            "  Novo melhor modelo encontrado! Val Loss: 14.2989. Salvando estado...\n"
          ]
        },
        {
          "output_type": "display_data",
          "data": {
            "text/plain": [
              "Epoch 3/15 [Treino]:   0%|          | 0/5523 [00:00<?, ?it/s]"
            ],
            "application/vnd.jupyter.widget-view+json": {
              "version_major": 2,
              "version_minor": 0,
              "model_id": "dde20c893f68493f9fc05d8eac253e41"
            }
          },
          "metadata": {}
        },
        {
          "output_type": "display_data",
          "data": {
            "text/plain": [
              "Epoch 3/15 [Validação]:   0%|          | 0/1381 [00:00<?, ?it/s]"
            ],
            "application/vnd.jupyter.widget-view+json": {
              "version_major": 2,
              "version_minor": 0,
              "model_id": "5499a7187a8c4bd48f968dd6d5b1757b"
            }
          },
          "metadata": {}
        },
        {
          "output_type": "stream",
          "name": "stdout",
          "text": [
            "Epoch 3/15 | Treino Loss: 14.1716, Treino Acc: 0.0542 | Val Loss: 11.7588, Val Acc: 0.1581\n",
            "  Novo melhor modelo encontrado! Val Loss: 11.7588. Salvando estado...\n"
          ]
        },
        {
          "output_type": "display_data",
          "data": {
            "text/plain": [
              "Epoch 4/15 [Treino]:   0%|          | 0/5523 [00:00<?, ?it/s]"
            ],
            "application/vnd.jupyter.widget-view+json": {
              "version_major": 2,
              "version_minor": 0,
              "model_id": "d12fda9cc4d94902b294ce0a1ac89c3c"
            }
          },
          "metadata": {}
        },
        {
          "output_type": "display_data",
          "data": {
            "text/plain": [
              "Epoch 4/15 [Validação]:   0%|          | 0/1381 [00:00<?, ?it/s]"
            ],
            "application/vnd.jupyter.widget-view+json": {
              "version_major": 2,
              "version_minor": 0,
              "model_id": "19d145ba147242ffa5db152f8dfc5c40"
            }
          },
          "metadata": {}
        },
        {
          "output_type": "stream",
          "name": "stdout",
          "text": [
            "Epoch 4/15 | Treino Loss: 12.1272, Treino Acc: 0.1283 | Val Loss: 10.1141, Val Acc: 0.2609\n",
            "  Novo melhor modelo encontrado! Val Loss: 10.1141. Salvando estado...\n"
          ]
        },
        {
          "output_type": "display_data",
          "data": {
            "text/plain": [
              "Epoch 5/15 [Treino]:   0%|          | 0/5523 [00:00<?, ?it/s]"
            ],
            "application/vnd.jupyter.widget-view+json": {
              "version_major": 2,
              "version_minor": 0,
              "model_id": "d66dcffdedf443ecbf1c32e8e06163d2"
            }
          },
          "metadata": {}
        },
        {
          "output_type": "display_data",
          "data": {
            "text/plain": [
              "Epoch 5/15 [Validação]:   0%|          | 0/1381 [00:00<?, ?it/s]"
            ],
            "application/vnd.jupyter.widget-view+json": {
              "version_major": 2,
              "version_minor": 0,
              "model_id": "972f82545a99409faecbafbc56e1397e"
            }
          },
          "metadata": {}
        },
        {
          "output_type": "stream",
          "name": "stdout",
          "text": [
            "Epoch 5/15 | Treino Loss: 10.7125, Treino Acc: 0.1943 | Val Loss: 9.0016, Val Acc: 0.3383\n",
            "  Novo melhor modelo encontrado! Val Loss: 9.0016. Salvando estado...\n"
          ]
        },
        {
          "output_type": "display_data",
          "data": {
            "text/plain": [
              "Epoch 6/15 [Treino]:   0%|          | 0/5523 [00:00<?, ?it/s]"
            ],
            "application/vnd.jupyter.widget-view+json": {
              "version_major": 2,
              "version_minor": 0,
              "model_id": "78c84bf5bd2947d4b8cac7ddb992291b"
            }
          },
          "metadata": {}
        },
        {
          "output_type": "display_data",
          "data": {
            "text/plain": [
              "Epoch 6/15 [Validação]:   0%|          | 0/1381 [00:00<?, ?it/s]"
            ],
            "application/vnd.jupyter.widget-view+json": {
              "version_major": 2,
              "version_minor": 0,
              "model_id": "fda1e03d23de44fca7d997049b2b60fd"
            }
          },
          "metadata": {}
        },
        {
          "output_type": "stream",
          "name": "stdout",
          "text": [
            "Epoch 6/15 | Treino Loss: 9.6870, Treino Acc: 0.2520 | Val Loss: 8.3506, Val Acc: 0.3955\n",
            "  Novo melhor modelo encontrado! Val Loss: 8.3506. Salvando estado...\n"
          ]
        },
        {
          "output_type": "display_data",
          "data": {
            "text/plain": [
              "Epoch 7/15 [Treino]:   0%|          | 0/5523 [00:00<?, ?it/s]"
            ],
            "application/vnd.jupyter.widget-view+json": {
              "version_major": 2,
              "version_minor": 0,
              "model_id": "5736627b3d2c464393ced8fc21384ab2"
            }
          },
          "metadata": {}
        },
        {
          "output_type": "display_data",
          "data": {
            "text/plain": [
              "Epoch 7/15 [Validação]:   0%|          | 0/1381 [00:00<?, ?it/s]"
            ],
            "application/vnd.jupyter.widget-view+json": {
              "version_major": 2,
              "version_minor": 0,
              "model_id": "9e23bb1f862e48e59f3acd90fbd12183"
            }
          },
          "metadata": {}
        },
        {
          "output_type": "stream",
          "name": "stdout",
          "text": [
            "Epoch 7/15 | Treino Loss: 8.9334, Treino Acc: 0.3008 | Val Loss: 7.7717, Val Acc: 0.4413\n",
            "  Novo melhor modelo encontrado! Val Loss: 7.7717. Salvando estado...\n"
          ]
        },
        {
          "output_type": "display_data",
          "data": {
            "text/plain": [
              "Epoch 8/15 [Treino]:   0%|          | 0/5523 [00:00<?, ?it/s]"
            ],
            "application/vnd.jupyter.widget-view+json": {
              "version_major": 2,
              "version_minor": 0,
              "model_id": "7f249ecc03d44550abd9fb661676ecf2"
            }
          },
          "metadata": {}
        },
        {
          "output_type": "display_data",
          "data": {
            "text/plain": [
              "Epoch 8/15 [Validação]:   0%|          | 0/1381 [00:00<?, ?it/s]"
            ],
            "application/vnd.jupyter.widget-view+json": {
              "version_major": 2,
              "version_minor": 0,
              "model_id": "4cd979436e1f446da0d9edd21ca22720"
            }
          },
          "metadata": {}
        },
        {
          "output_type": "stream",
          "name": "stdout",
          "text": [
            "Epoch 8/15 | Treino Loss: 8.3254, Treino Acc: 0.3425 | Val Loss: 7.3371, Val Acc: 0.4792\n",
            "  Novo melhor modelo encontrado! Val Loss: 7.3371. Salvando estado...\n"
          ]
        },
        {
          "output_type": "display_data",
          "data": {
            "text/plain": [
              "Epoch 9/15 [Treino]:   0%|          | 0/5523 [00:00<?, ?it/s]"
            ],
            "application/vnd.jupyter.widget-view+json": {
              "version_major": 2,
              "version_minor": 0,
              "model_id": "f1e956a22d624cc6b823deb5d40d4b0c"
            }
          },
          "metadata": {}
        },
        {
          "output_type": "display_data",
          "data": {
            "text/plain": [
              "Epoch 9/15 [Validação]:   0%|          | 0/1381 [00:00<?, ?it/s]"
            ],
            "application/vnd.jupyter.widget-view+json": {
              "version_major": 2,
              "version_minor": 0,
              "model_id": "bed1823913ed40519385caba6a460326"
            }
          },
          "metadata": {}
        },
        {
          "output_type": "stream",
          "name": "stdout",
          "text": [
            "Epoch 9/15 | Treino Loss: 7.8211, Treino Acc: 0.3801 | Val Loss: 7.0560, Val Acc: 0.5118\n",
            "  Novo melhor modelo encontrado! Val Loss: 7.0560. Salvando estado...\n"
          ]
        },
        {
          "output_type": "display_data",
          "data": {
            "text/plain": [
              "Epoch 10/15 [Treino]:   0%|          | 0/5523 [00:00<?, ?it/s]"
            ],
            "application/vnd.jupyter.widget-view+json": {
              "version_major": 2,
              "version_minor": 0,
              "model_id": "615a7b905dae44db8ee5c3285e1cfda0"
            }
          },
          "metadata": {}
        },
        {
          "output_type": "display_data",
          "data": {
            "text/plain": [
              "Epoch 10/15 [Validação]:   0%|          | 0/1381 [00:00<?, ?it/s]"
            ],
            "application/vnd.jupyter.widget-view+json": {
              "version_major": 2,
              "version_minor": 0,
              "model_id": "c33cc057a7c64a5fb83a921b242239cb"
            }
          },
          "metadata": {}
        },
        {
          "output_type": "stream",
          "name": "stdout",
          "text": [
            "Epoch 10/15 | Treino Loss: 7.4020, Treino Acc: 0.4127 | Val Loss: 6.8240, Val Acc: 0.5317\n",
            "  Novo melhor modelo encontrado! Val Loss: 6.8240. Salvando estado...\n"
          ]
        },
        {
          "output_type": "display_data",
          "data": {
            "text/plain": [
              "Epoch 11/15 [Treino]:   0%|          | 0/5523 [00:00<?, ?it/s]"
            ],
            "application/vnd.jupyter.widget-view+json": {
              "version_major": 2,
              "version_minor": 0,
              "model_id": "c6767a85c02a4bedbdc269b04ea30961"
            }
          },
          "metadata": {}
        },
        {
          "output_type": "display_data",
          "data": {
            "text/plain": [
              "Epoch 11/15 [Validação]:   0%|          | 0/1381 [00:00<?, ?it/s]"
            ],
            "application/vnd.jupyter.widget-view+json": {
              "version_major": 2,
              "version_minor": 0,
              "model_id": "aff5034028d848cd81c4cf7a543a3b2e"
            }
          },
          "metadata": {}
        },
        {
          "output_type": "stream",
          "name": "stdout",
          "text": [
            "Epoch 11/15 | Treino Loss: 7.0226, Treino Acc: 0.4429 | Val Loss: 6.6012, Val Acc: 0.5540\n",
            "  Novo melhor modelo encontrado! Val Loss: 6.6012. Salvando estado...\n"
          ]
        },
        {
          "output_type": "display_data",
          "data": {
            "text/plain": [
              "Epoch 12/15 [Treino]:   0%|          | 0/5523 [00:00<?, ?it/s]"
            ],
            "application/vnd.jupyter.widget-view+json": {
              "version_major": 2,
              "version_minor": 0,
              "model_id": "35e7ff1d069947ff8661a4b251e28cc3"
            }
          },
          "metadata": {}
        },
        {
          "output_type": "display_data",
          "data": {
            "text/plain": [
              "Epoch 12/15 [Validação]:   0%|          | 0/1381 [00:00<?, ?it/s]"
            ],
            "application/vnd.jupyter.widget-view+json": {
              "version_major": 2,
              "version_minor": 0,
              "model_id": "82deb3b149d6433aa84ec8092a0894cd"
            }
          },
          "metadata": {}
        },
        {
          "output_type": "stream",
          "name": "stdout",
          "text": [
            "Epoch 12/15 | Treino Loss: 6.6823, Treino Acc: 0.4683 | Val Loss: 6.3771, Val Acc: 0.5750\n",
            "  Novo melhor modelo encontrado! Val Loss: 6.3771. Salvando estado...\n"
          ]
        },
        {
          "output_type": "display_data",
          "data": {
            "text/plain": [
              "Epoch 13/15 [Treino]:   0%|          | 0/5523 [00:00<?, ?it/s]"
            ],
            "application/vnd.jupyter.widget-view+json": {
              "version_major": 2,
              "version_minor": 0,
              "model_id": "87a12dd6c9c246fb8dc6b32615362d23"
            }
          },
          "metadata": {}
        },
        {
          "output_type": "display_data",
          "data": {
            "text/plain": [
              "Epoch 13/15 [Validação]:   0%|          | 0/1381 [00:00<?, ?it/s]"
            ],
            "application/vnd.jupyter.widget-view+json": {
              "version_major": 2,
              "version_minor": 0,
              "model_id": "816c6db0008940349de27dd7ee66cac6"
            }
          },
          "metadata": {}
        },
        {
          "output_type": "stream",
          "name": "stdout",
          "text": [
            "Epoch 13/15 | Treino Loss: 6.3922, Treino Acc: 0.4916 | Val Loss: 6.2658, Val Acc: 0.5871\n",
            "  Novo melhor modelo encontrado! Val Loss: 6.2658. Salvando estado...\n"
          ]
        },
        {
          "output_type": "display_data",
          "data": {
            "text/plain": [
              "Epoch 14/15 [Treino]:   0%|          | 0/5523 [00:00<?, ?it/s]"
            ],
            "application/vnd.jupyter.widget-view+json": {
              "version_major": 2,
              "version_minor": 0,
              "model_id": "6c6167d9adc3457ba3eb5631c259688a"
            }
          },
          "metadata": {}
        },
        {
          "output_type": "display_data",
          "data": {
            "text/plain": [
              "Epoch 14/15 [Validação]:   0%|          | 0/1381 [00:00<?, ?it/s]"
            ],
            "application/vnd.jupyter.widget-view+json": {
              "version_major": 2,
              "version_minor": 0,
              "model_id": "2ca915ffbdd942ce8c3039cc1bd2519e"
            }
          },
          "metadata": {}
        },
        {
          "output_type": "stream",
          "name": "stdout",
          "text": [
            "Epoch 14/15 | Treino Loss: 6.1423, Treino Acc: 0.5119 | Val Loss: 6.1100, Val Acc: 0.6031\n",
            "  Novo melhor modelo encontrado! Val Loss: 6.1100. Salvando estado...\n"
          ]
        },
        {
          "output_type": "display_data",
          "data": {
            "text/plain": [
              "Epoch 15/15 [Treino]:   0%|          | 0/5523 [00:00<?, ?it/s]"
            ],
            "application/vnd.jupyter.widget-view+json": {
              "version_major": 2,
              "version_minor": 0,
              "model_id": "da3c0ba0acbb4f4d9c83a2b93ba988dd"
            }
          },
          "metadata": {}
        },
        {
          "output_type": "display_data",
          "data": {
            "text/plain": [
              "Epoch 15/15 [Validação]:   0%|          | 0/1381 [00:00<?, ?it/s]"
            ],
            "application/vnd.jupyter.widget-view+json": {
              "version_major": 2,
              "version_minor": 0,
              "model_id": "caec5f5381ab4d4ab41a56063475d94d"
            }
          },
          "metadata": {}
        },
        {
          "output_type": "stream",
          "name": "stdout",
          "text": [
            "Epoch 15/15 | Treino Loss: 5.8971, Treino Acc: 0.5319 | Val Loss: 5.9608, Val Acc: 0.6126\n",
            "  Novo melhor modelo encontrado! Val Loss: 5.9608. Salvando estado...\n",
            "\n",
            "Tempo total de treinamento: 11997.629 segundos\n",
            "\n",
            "Treinamento do Fold 5 concluído.\n",
            "Melhor estado do modelo carregado para avaliação.\n",
            "Salvando o state_dict do modelo fine-tuned em: models/best_model_fold_5.pth\n",
            "Modelo salvo como best_model_fold_5.pth\n"
          ]
        },
        {
          "output_type": "display_data",
          "data": {
            "text/plain": [
              "Extraindo embeddings:   0%|          | 0/1885 [00:00<?, ?it/s]"
            ],
            "application/vnd.jupyter.widget-view+json": {
              "version_major": 2,
              "version_minor": 0,
              "model_id": "20e7880c4dfb4aabae66313a8385e9fd"
            }
          },
          "metadata": {}
        },
        {
          "output_type": "display_data",
          "data": {
            "text/plain": [
              "Extraindo embeddings:   0%|          | 0/1889 [00:00<?, ?it/s]"
            ],
            "application/vnd.jupyter.widget-view+json": {
              "version_major": 2,
              "version_minor": 0,
              "model_id": "da7cd807e9de4f36871f308beb0b10c1"
            }
          },
          "metadata": {}
        },
        {
          "output_type": "stream",
          "name": "stdout",
          "text": [
            "Shape dos embeddings da galeria: (60294, 512)\n",
            "Shape dos embeddings da probe: (60423, 512)\n",
            "Iniciando avaliação em batches. Tamanho do batch de probes: 256\n"
          ]
        },
        {
          "output_type": "display_data",
          "data": {
            "text/plain": [
              "Processando batches de probes:   0%|          | 0/237 [00:00<?, ?it/s]"
            ],
            "application/vnd.jupyter.widget-view+json": {
              "version_major": 2,
              "version_minor": 0,
              "model_id": "a23c924c9f3c45df9c370c165ee5ef69"
            }
          },
          "metadata": {}
        },
        {
          "output_type": "stream",
          "name": "stdout",
          "text": [
            "Processamento em batches concluído.\n",
            "Rank-1 Accuracy: 23.66%\n",
            "Rank-5 Accuracy: 34.91%\n",
            "Rank-10 Accuracy: 39.96%\n",
            "Rank-20 Accuracy: 45.07%\n"
          ]
        },
        {
          "output_type": "display_data",
          "data": {
            "text/plain": [
              "<Figure size 800x500 with 1 Axes>"
            ],
            "image/png": "[encoded data removed]"
          },
          "metadata": {}
        },
        {
          "output_type": "stream",
          "name": "stdout",
          "text": [
            "\n",
            "Métricas (TorchMetrics, baseadas em Rank-1, average='weighted'):\n",
            "  Acurácia: 0.2366\n",
            "  Precisão: 0.2409\n",
            "  Recall:   0.2366\n",
            "  F1-score: 0.2195\n",
            "Matriz de confusão muito grande para plotar com anotações detalhadas.\n",
            "Rank-1 Accuracy para o Fold 5: 23.66%\n"
          ]
        }
      ]
    },
    {
      "cell_type": "code",
      "source": [
        "print(\"\\n================== RESULTADOS FINAIS DA VALIDAÇÃO CRUZADA ==================\")\n",
        "\n",
        "sum_accuracy = 0\n",
        "for key, value in results.items():\n",
        "  print(f\"Acurácia para {key}: {value*100:.2f}%\")\n",
        "  sum_accuracy += value\n",
        "\n",
        "mean_accuracy = sum_accuracy / len(results)\n",
        "std_accuracy = np.std(list(results.values()))\n",
        "\n",
        "print(f\"\\nPerformance Final (Média de {K_FOLDS} Folds):\")\n",
        "print(f\"  - Rank-1 Accuracy Média: {mean_accuracy*100:.2f}%\")\n",
        "print(f\"  - Desvio Padrão: {std_accuracy*100:.2f}%\")"
      ],
      "metadata": {
        "id": "AZYdWS_b0fIM",
        "colab": {
          "base_uri": "https://localhost:8080/"
        },
        "outputId": "a385861d-64b4-412c-9bd6-002059870db5"
      },
      "execution_count": null,
      "outputs": [
        {
          "output_type": "stream",
          "name": "stdout",
          "text": [
            "\n",
            "================== RESULTADOS FINAIS DA VALIDAÇÃO CRUZADA ==================\n",
            "Acurácia para fold_1: 23.90%\n",
            "Acurácia para fold_2: 22.85%\n",
            "Acurácia para fold_3: 23.07%\n",
            "Acurácia para fold_4: 1.80%\n",
            "Acurácia para fold_5: 23.66%\n",
            "\n",
            "Performance Final (Média de 5 Folds):\n",
            "  - Rank-1 Accuracy Média: 19.06%\n",
            "  - Desvio Padrão: 8.64%\n"
          ]
        }
      ]
    }
  ]
}